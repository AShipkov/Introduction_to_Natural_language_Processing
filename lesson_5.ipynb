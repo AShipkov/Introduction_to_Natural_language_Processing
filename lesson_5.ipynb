{
  "nbformat": 4,
  "nbformat_minor": 0,
  "metadata": {
    "colab": {
      "name": "Untitled0.ipynb",
      "provenance": []
    },
    "kernelspec": {
      "name": "python3",
      "display_name": "Python 3"
    },
    "language_info": {
      "name": "python"
    },
    "accelerator": "GPU"
  },
  "cells": [
    {
      "cell_type": "markdown",
      "metadata": {
        "id": "CTzAhpWPlGkU"
      },
      "source": [
        "## Задание 1. Написать теггер на данных с русским языком"
      ]
    },
    {
      "cell_type": "code",
      "metadata": {
        "colab": {
          "base_uri": "https://localhost:8080/"
        },
        "id": "qbsjPkV3lNUz",
        "outputId": "25289ce3-dc77-42f6-af99-0eaaae43e858"
      },
      "source": [
        "!pip install pyconll\n",
        "!mkdir datasets\n",
        "!wget -O ./datasets/ru_syntagrus-ud-train.conllu https://raw.githubusercontent.com/UniversalDependencies/UD_Russian-SynTagRus/master/ru_syntagrus-ud-train.conllu\n",
        "!wget -O ./datasets/ru_syntagrus-ud-dev.conllu https://raw.githubusercontent.com/UniversalDependencies/UD_Russian-SynTagRus/master/ru_syntagrus-ud-dev.conllu"
      ],
      "execution_count": 1,
      "outputs": [
        {
          "output_type": "stream",
          "text": [
            "Collecting pyconll\n",
            "  Downloading pyconll-3.1.0-py3-none-any.whl (26 kB)\n",
            "Installing collected packages: pyconll\n",
            "Successfully installed pyconll-3.1.0\n",
            "--2021-07-23 05:41:35--  https://raw.githubusercontent.com/UniversalDependencies/UD_Russian-SynTagRus/master/ru_syntagrus-ud-train.conllu\n",
            "Resolving raw.githubusercontent.com (raw.githubusercontent.com)... 185.199.108.133, 185.199.109.133, 185.199.110.133, ...\n",
            "Connecting to raw.githubusercontent.com (raw.githubusercontent.com)|185.199.108.133|:443... connected.\n",
            "HTTP request sent, awaiting response... 200 OK\n",
            "Length: 81039282 (77M) [text/plain]\n",
            "Saving to: ‘./datasets/ru_syntagrus-ud-train.conllu’\n",
            "\n",
            "./datasets/ru_synta 100%[===================>]  77.28M   199MB/s    in 0.4s    \n",
            "\n",
            "2021-07-23 05:41:35 (199 MB/s) - ‘./datasets/ru_syntagrus-ud-train.conllu’ saved [81039282/81039282]\n",
            "\n",
            "--2021-07-23 05:41:35--  https://raw.githubusercontent.com/UniversalDependencies/UD_Russian-SynTagRus/master/ru_syntagrus-ud-dev.conllu\n",
            "Resolving raw.githubusercontent.com (raw.githubusercontent.com)... 185.199.108.133, 185.199.109.133, 185.199.110.133, ...\n",
            "Connecting to raw.githubusercontent.com (raw.githubusercontent.com)|185.199.108.133|:443... connected.\n",
            "HTTP request sent, awaiting response... 200 OK\n",
            "Length: 10902738 (10M) [text/plain]\n",
            "Saving to: ‘./datasets/ru_syntagrus-ud-dev.conllu’\n",
            "\n",
            "./datasets/ru_synta 100%[===================>]  10.40M  --.-KB/s    in 0.05s   \n",
            "\n",
            "2021-07-23 05:41:35 (213 MB/s) - ‘./datasets/ru_syntagrus-ud-dev.conllu’ saved [10902738/10902738]\n",
            "\n"
          ],
          "name": "stdout"
        }
      ]
    },
    {
      "cell_type": "code",
      "metadata": {
        "colab": {
          "base_uri": "https://localhost:8080/"
        },
        "id": "0ZkHYO8DlNfA",
        "outputId": "3ad51664-cf95-4303-b601-ea37872984d8"
      },
      "source": [
        "import numpy as np\n",
        "import pandas as pd\n",
        "import matplotlib.pyplot as plt\n",
        "\n",
        "from sklearn.feature_extraction.text import CountVectorizer, HashingVectorizer\n",
        "from sklearn.preprocessing import LabelEncoder\n",
        "from sklearn.linear_model import LogisticRegression\n",
        "from sklearn.metrics import accuracy_score\n",
        "\n",
        "import pyconll\n",
        "\n",
        "from gensim.models import Word2Vec, FastText\n",
        "\n",
        "from nltk.tag import UnigramTagger, BigramTagger, TrigramTagger, SequentialBackoffTagger\n",
        "from nltk.corpus import names\n",
        "import nltk\n",
        "nltk.download('names')"
      ],
      "execution_count": 2,
      "outputs": [
        {
          "output_type": "stream",
          "text": [
            "[nltk_data] Downloading package names to /root/nltk_data...\n",
            "[nltk_data]   Unzipping corpora/names.zip.\n"
          ],
          "name": "stdout"
        },
        {
          "output_type": "execute_result",
          "data": {
            "text/plain": [
              "True"
            ]
          },
          "metadata": {
            "tags": []
          },
          "execution_count": 2
        }
      ]
    },
    {
      "cell_type": "markdown",
      "metadata": {
        "id": "zrcOu58Plk3y"
      },
      "source": [
        "### Loading dta"
      ]
    },
    {
      "cell_type": "code",
      "metadata": {
        "id": "NsLjVnCllNmH"
      },
      "source": [
        "full_train = pyconll.load_from_file('datasets/ru_syntagrus-ud-train.conllu')\n",
        "full_test = pyconll.load_from_file('datasets/ru_syntagrus-ud-dev.conllu')"
      ],
      "execution_count": 3,
      "outputs": []
    },
    {
      "cell_type": "code",
      "metadata": {
        "id": "5DCbcZlQlNr7"
      },
      "source": [
        "def convert_data(dataset):\n",
        "    result = []\n",
        "\n",
        "    for sent in dataset:\n",
        "        for token in sent:\n",
        "            result.append((token.form.lower(), token.upos))\n",
        "            \n",
        "    return result"
      ],
      "execution_count": 4,
      "outputs": []
    },
    {
      "cell_type": "code",
      "metadata": {
        "colab": {
          "base_uri": "https://localhost:8080/"
        },
        "id": "3ZwXw4-9lNvB",
        "outputId": "a73232da-85e2-4a42-96a9-baeb742291eb"
      },
      "source": [
        "train_data = convert_data(full_train) \n",
        "train_data[:10]"
      ],
      "execution_count": 5,
      "outputs": [
        {
          "output_type": "execute_result",
          "data": {
            "text/plain": [
              "[('анкета', 'NOUN'),\n",
              " ('.', 'PUNCT'),\n",
              " ('начальник', 'NOUN'),\n",
              " ('областного', 'ADJ'),\n",
              " ('управления', 'NOUN'),\n",
              " ('связи', 'NOUN'),\n",
              " ('семен', 'PROPN'),\n",
              " ('еремеевич', 'PROPN'),\n",
              " ('был', 'AUX'),\n",
              " ('человек', 'NOUN')]"
            ]
          },
          "metadata": {
            "tags": []
          },
          "execution_count": 5
        }
      ]
    },
    {
      "cell_type": "code",
      "metadata": {
        "colab": {
          "base_uri": "https://localhost:8080/"
        },
        "id": "lKG_Fr9zl39o",
        "outputId": "eda54ebd-36a5-4702-f905-926e87b751e1"
      },
      "source": [
        "test_data = convert_data(full_test) \n",
        "test_data[:10]"
      ],
      "execution_count": 6,
      "outputs": [
        {
          "output_type": "execute_result",
          "data": {
            "text/plain": [
              "[('алгоритм', 'NOUN'),\n",
              " (',', 'PUNCT'),\n",
              " ('от', 'ADP'),\n",
              " ('имени', 'NOUN'),\n",
              " ('учёного', 'NOUN'),\n",
              " ('аль', 'PART'),\n",
              " ('-', 'PUNCT'),\n",
              " ('хорезми', 'PROPN'),\n",
              " (',', 'PUNCT'),\n",
              " ('-', 'PUNCT')]"
            ]
          },
          "metadata": {
            "tags": []
          },
          "execution_count": 6
        }
      ]
    },
    {
      "cell_type": "markdown",
      "metadata": {
        "id": "dzhkruRFmEp4"
      },
      "source": [
        "### 1. проверить UnigramTagger, BigramTagger, TrigramTagger и их комбмнации"
      ]
    },
    {
      "cell_type": "code",
      "metadata": {
        "id": "SGFH5emfl4BN"
      },
      "source": [
        "def backoff_tagger(train_sents, tagger_classes, backoff=None):\n",
        "    for cls in tagger_classes:\n",
        "        backoff = cls(train_sents, backoff=backoff)\n",
        "    return backoff"
      ],
      "execution_count": 7,
      "outputs": []
    },
    {
      "cell_type": "code",
      "metadata": {
        "colab": {
          "base_uri": "https://localhost:8080/",
          "height": 499
        },
        "id": "yggwTS8el4Dk",
        "outputId": "cec3b736-4719-4584-80e3-fe3d0c31f6c1"
      },
      "source": [
        "df_score = pd.DataFrame(columns=['values', 'UnigramTagger', 'BigramTagger', 'TrigramTagger']).set_index('values')\n",
        "COUNT = (1000, 2000, 4000, 8000, 16000)\n",
        "\n",
        "for C in COUNT:\n",
        "    \n",
        "    unigram_tagger = UnigramTagger([train_data[:C]])\n",
        "    bigram_tagger = BigramTagger([train_data[:C]])\n",
        "    trigram_tagger = TrigramTagger([train_data[:C]])\n",
        "    combine_tagger = backoff_tagger([train_data[:C]], [UnigramTagger, BigramTagger, TrigramTagger])\n",
        "\n",
        "    df_score.loc[C, 'UnigramTagger'] = unigram_tagger.evaluate([test_data])\n",
        "    df_score.loc[C, 'BigramTagger'] = bigram_tagger.evaluate([test_data])\n",
        "    df_score.loc[C, 'TrigramTagger'] = trigram_tagger.evaluate([test_data])\n",
        "    df_score.loc[C, 'CombineTagger'] = combine_tagger.evaluate([test_data])\n",
        "    \n",
        "df_score.plot(kind='barh', grid=True, title='Score', figsize=(10,4))\n",
        "df_score"
      ],
      "execution_count": 8,
      "outputs": [
        {
          "output_type": "execute_result",
          "data": {
            "text/html": [
              "<div>\n",
              "<style scoped>\n",
              "    .dataframe tbody tr th:only-of-type {\n",
              "        vertical-align: middle;\n",
              "    }\n",
              "\n",
              "    .dataframe tbody tr th {\n",
              "        vertical-align: top;\n",
              "    }\n",
              "\n",
              "    .dataframe thead th {\n",
              "        text-align: right;\n",
              "    }\n",
              "</style>\n",
              "<table border=\"1\" class=\"dataframe\">\n",
              "  <thead>\n",
              "    <tr style=\"text-align: right;\">\n",
              "      <th></th>\n",
              "      <th>UnigramTagger</th>\n",
              "      <th>BigramTagger</th>\n",
              "      <th>TrigramTagger</th>\n",
              "      <th>CombineTagger</th>\n",
              "    </tr>\n",
              "    <tr>\n",
              "      <th>values</th>\n",
              "      <th></th>\n",
              "      <th></th>\n",
              "      <th></th>\n",
              "      <th></th>\n",
              "    </tr>\n",
              "  </thead>\n",
              "  <tbody>\n",
              "    <tr>\n",
              "      <th>1000</th>\n",
              "      <td>0.399951</td>\n",
              "      <td>0.00174401</td>\n",
              "      <td>0.00171873</td>\n",
              "      <td>0.401164</td>\n",
              "    </tr>\n",
              "    <tr>\n",
              "      <th>2000</th>\n",
              "      <td>0.44998</td>\n",
              "      <td>0.00174401</td>\n",
              "      <td>0.00171873</td>\n",
              "      <td>0.451446</td>\n",
              "    </tr>\n",
              "    <tr>\n",
              "      <th>4000</th>\n",
              "      <td>0.489081</td>\n",
              "      <td>0.00174401</td>\n",
              "      <td>0.00171873</td>\n",
              "      <td>0.491128</td>\n",
              "    </tr>\n",
              "    <tr>\n",
              "      <th>8000</th>\n",
              "      <td>0.525368</td>\n",
              "      <td>0.00722879</td>\n",
              "      <td>0.00171873</td>\n",
              "      <td>0.527407</td>\n",
              "    </tr>\n",
              "    <tr>\n",
              "      <th>16000</th>\n",
              "      <td>0.585735</td>\n",
              "      <td>0.0879503</td>\n",
              "      <td>0.00171873</td>\n",
              "      <td>0.588254</td>\n",
              "    </tr>\n",
              "  </tbody>\n",
              "</table>\n",
              "</div>"
            ],
            "text/plain": [
              "       UnigramTagger BigramTagger TrigramTagger  CombineTagger\n",
              "values                                                        \n",
              "1000        0.399951   0.00174401    0.00171873       0.401164\n",
              "2000         0.44998   0.00174401    0.00171873       0.451446\n",
              "4000        0.489081   0.00174401    0.00171873       0.491128\n",
              "8000        0.525368   0.00722879    0.00171873       0.527407\n",
              "16000       0.585735    0.0879503    0.00171873       0.588254"
            ]
          },
          "metadata": {
            "tags": []
          },
          "execution_count": 8
        },
        {
          "output_type": "display_data",
          "data": {
            "image/png": "[encoded data removed]",
            "text/plain": [
              "<Figure size 720x288 with 1 Axes>"
            ]
          },
          "metadata": {
            "tags": [],
            "needs_background": "light"
          }
        }
      ]
    },
    {
      "cell_type": "markdown",
      "metadata": {
        "id": "Ya81IEx_mVqe"
      },
      "source": [
        "Вввод:  \n",
        "- Скорость сильно падает при увеличении количества объектов для обучения  \n",
        "- Для хорошей точности необходимо большое число объектов > 80000  \n",
        "- В соло триграмм и биграмм теггеры сильно проигрывают в точности униграмму  \n",
        "- Комбинация не всегда показывает лучший результат  \n",
        "- До числа объектов < 8000, скор биграмма не растет  \n",
        "- При приведении к нижнему регистру всех обучающих данных скор немного поднялся  "
      ]
    },
    {
      "cell_type": "markdown",
      "metadata": {
        "id": "g2yiYfQBmzgS"
      },
      "source": [
        "### 2. написать свой теггер как на занятии, попробовать разные векторайзеры, добавить знание не только букв но и слов"
      ]
    },
    {
      "cell_type": "code",
      "metadata": {
        "id": "sCeyEe00l4HH"
      },
      "source": [
        "def split_tok_lbl(data):\n",
        "  toks = []\n",
        "  lbls = []\n",
        "\n",
        "  for tok, lbl in data:\n",
        "    toks.append(tok)\n",
        "    lbls.append('NO_TAG' if lbl is None else lbl)\n",
        "\n",
        "  return toks, lbls"
      ],
      "execution_count": 9,
      "outputs": []
    },
    {
      "cell_type": "code",
      "metadata": {
        "colab": {
          "base_uri": "https://localhost:8080/"
        },
        "id": "ZVMUp7QqmP4J",
        "outputId": "660e69ba-07ce-474c-dce7-8cf69e66f476"
      },
      "source": [
        "train_tok, train_lbls = split_tok_lbl(train_data)\n",
        "train_tok[:5], train_lbls[:10]"
      ],
      "execution_count": 10,
      "outputs": [
        {
          "output_type": "execute_result",
          "data": {
            "text/plain": [
              "(['анкета', '.', 'начальник', 'областного', 'управления'],\n",
              " ['NOUN',\n",
              "  'PUNCT',\n",
              "  'NOUN',\n",
              "  'ADJ',\n",
              "  'NOUN',\n",
              "  'NOUN',\n",
              "  'PROPN',\n",
              "  'PROPN',\n",
              "  'AUX',\n",
              "  'NOUN'])"
            ]
          },
          "metadata": {
            "tags": []
          },
          "execution_count": 10
        }
      ]
    },
    {
      "cell_type": "code",
      "metadata": {
        "colab": {
          "base_uri": "https://localhost:8080/"
        },
        "id": "002ADonfmP7R",
        "outputId": "c9869161-6c8f-41af-eefe-304bfa63524b"
      },
      "source": [
        "test_tok, test_lbls = split_tok_lbl(test_data)\n",
        "test_tok[:5], test_lbls[:10]"
      ],
      "execution_count": 11,
      "outputs": [
        {
          "output_type": "execute_result",
          "data": {
            "text/plain": [
              "(['алгоритм', ',', 'от', 'имени', 'учёного'],\n",
              " ['NOUN',\n",
              "  'PUNCT',\n",
              "  'ADP',\n",
              "  'NOUN',\n",
              "  'NOUN',\n",
              "  'PART',\n",
              "  'PUNCT',\n",
              "  'PROPN',\n",
              "  'PUNCT',\n",
              "  'PUNCT'])"
            ]
          },
          "metadata": {
            "tags": []
          },
          "execution_count": 11
        }
      ]
    },
    {
      "cell_type": "code",
      "metadata": {
        "colab": {
          "base_uri": "https://localhost:8080/",
          "height": 1000
        },
        "id": "NExWgY4GmP-C",
        "outputId": "a8d1f55a-c1f2-4592-f933-7d498194ab7c"
      },
      "source": [
        "COUNT = 16000\n",
        "\n",
        "df_score_vec = pd.DataFrame(columns=['vectorizer', 'CastomTagger']).set_index('vectorizer')\n",
        "\n",
        "le = LabelEncoder()\n",
        "y_train = le.fit_transform(train_lbls)\n",
        "y_test = le.transform(test_lbls)\n",
        "print(le.classes_)\n",
        "\n",
        "for key_vec, val_vec in {'hv_char': HashingVectorizer(ngram_range=(1,5), analyzer='char', n_features=100),\n",
        "                         'cv_char': CountVectorizer(ngram_range=(1,5), analyzer='char', max_features=100),\n",
        "                         'hv_word': HashingVectorizer(ngram_range=(1,5), analyzer='word', n_features=100),\n",
        "                         'cv_word': CountVectorizer(ngram_range=(1,5), analyzer='word', max_features=100),\n",
        "                         'hv_ch_w': HashingVectorizer(ngram_range=(1,5), analyzer='char_wb', n_features=100),\n",
        "                         'cv_ch_w': CountVectorizer(ngram_range=(1,5), analyzer='char_wb', max_features=100)}.items():\n",
        "\n",
        "    X_train = val_vec.fit_transform(train_tok[:COUNT])\n",
        "    X_test = val_vec.transform(test_tok)\n",
        "\n",
        "    lr = LogisticRegression()\n",
        "    lr.fit(X_train, y_train[:COUNT])\n",
        "    y_pred = lr.predict(X_test)\n",
        "\n",
        "    df_score_vec.loc[key_vec, 'CastomTagger'] = accuracy_score(y_test, y_pred)\n",
        "\n",
        "df_score_vec.plot(kind='barh', grid=True, title='Score', figsize=(10,4))\n",
        "df_score_vec"
      ],
      "execution_count": 12,
      "outputs": [
        {
          "output_type": "stream",
          "text": [
            "['ADJ' 'ADP' 'ADV' 'AUX' 'CCONJ' 'DET' 'INTJ' 'NOUN' 'NO_TAG' 'NUM' 'PART'\n",
            " 'PRON' 'PROPN' 'PUNCT' 'SCONJ' 'SYM' 'VERB' 'X']\n"
          ],
          "name": "stdout"
        },
        {
          "output_type": "stream",
          "text": [
            "/usr/local/lib/python3.7/dist-packages/sklearn/linear_model/_logistic.py:940: ConvergenceWarning: lbfgs failed to converge (status=1):\n",
            "STOP: TOTAL NO. of ITERATIONS REACHED LIMIT.\n",
            "\n",
            "Increase the number of iterations (max_iter) or scale the data as shown in:\n",
            "    https://scikit-learn.org/stable/modules/preprocessing.html\n",
            "Please also refer to the documentation for alternative solver options:\n",
            "    https://scikit-learn.org/stable/modules/linear_model.html#logistic-regression\n",
            "  extra_warning_msg=_LOGISTIC_SOLVER_CONVERGENCE_MSG)\n",
            "/usr/local/lib/python3.7/dist-packages/sklearn/linear_model/_logistic.py:940: ConvergenceWarning: lbfgs failed to converge (status=1):\n",
            "STOP: TOTAL NO. of ITERATIONS REACHED LIMIT.\n",
            "\n",
            "Increase the number of iterations (max_iter) or scale the data as shown in:\n",
            "    https://scikit-learn.org/stable/modules/preprocessing.html\n",
            "Please also refer to the documentation for alternative solver options:\n",
            "    https://scikit-learn.org/stable/modules/linear_model.html#logistic-regression\n",
            "  extra_warning_msg=_LOGISTIC_SOLVER_CONVERGENCE_MSG)\n",
            "/usr/local/lib/python3.7/dist-packages/sklearn/linear_model/_logistic.py:940: ConvergenceWarning: lbfgs failed to converge (status=1):\n",
            "STOP: TOTAL NO. of ITERATIONS REACHED LIMIT.\n",
            "\n",
            "Increase the number of iterations (max_iter) or scale the data as shown in:\n",
            "    https://scikit-learn.org/stable/modules/preprocessing.html\n",
            "Please also refer to the documentation for alternative solver options:\n",
            "    https://scikit-learn.org/stable/modules/linear_model.html#logistic-regression\n",
            "  extra_warning_msg=_LOGISTIC_SOLVER_CONVERGENCE_MSG)\n",
            "/usr/local/lib/python3.7/dist-packages/sklearn/linear_model/_logistic.py:940: ConvergenceWarning: lbfgs failed to converge (status=1):\n",
            "STOP: TOTAL NO. of ITERATIONS REACHED LIMIT.\n",
            "\n",
            "Increase the number of iterations (max_iter) or scale the data as shown in:\n",
            "    https://scikit-learn.org/stable/modules/preprocessing.html\n",
            "Please also refer to the documentation for alternative solver options:\n",
            "    https://scikit-learn.org/stable/modules/linear_model.html#logistic-regression\n",
            "  extra_warning_msg=_LOGISTIC_SOLVER_CONVERGENCE_MSG)\n",
            "/usr/local/lib/python3.7/dist-packages/sklearn/linear_model/_logistic.py:940: ConvergenceWarning: lbfgs failed to converge (status=1):\n",
            "STOP: TOTAL NO. of ITERATIONS REACHED LIMIT.\n",
            "\n",
            "Increase the number of iterations (max_iter) or scale the data as shown in:\n",
            "    https://scikit-learn.org/stable/modules/preprocessing.html\n",
            "Please also refer to the documentation for alternative solver options:\n",
            "    https://scikit-learn.org/stable/modules/linear_model.html#logistic-regression\n",
            "  extra_warning_msg=_LOGISTIC_SOLVER_CONVERGENCE_MSG)\n",
            "/usr/local/lib/python3.7/dist-packages/sklearn/linear_model/_logistic.py:940: ConvergenceWarning: lbfgs failed to converge (status=1):\n",
            "STOP: TOTAL NO. of ITERATIONS REACHED LIMIT.\n",
            "\n",
            "Increase the number of iterations (max_iter) or scale the data as shown in:\n",
            "    https://scikit-learn.org/stable/modules/preprocessing.html\n",
            "Please also refer to the documentation for alternative solver options:\n",
            "    https://scikit-learn.org/stable/modules/linear_model.html#logistic-regression\n",
            "  extra_warning_msg=_LOGISTIC_SOLVER_CONVERGENCE_MSG)\n"
          ],
          "name": "stderr"
        },
        {
          "output_type": "execute_result",
          "data": {
            "text/html": [
              "<div>\n",
              "<style scoped>\n",
              "    .dataframe tbody tr th:only-of-type {\n",
              "        vertical-align: middle;\n",
              "    }\n",
              "\n",
              "    .dataframe tbody tr th {\n",
              "        vertical-align: top;\n",
              "    }\n",
              "\n",
              "    .dataframe thead th {\n",
              "        text-align: right;\n",
              "    }\n",
              "</style>\n",
              "<table border=\"1\" class=\"dataframe\">\n",
              "  <thead>\n",
              "    <tr style=\"text-align: right;\">\n",
              "      <th></th>\n",
              "      <th>CastomTagger</th>\n",
              "    </tr>\n",
              "    <tr>\n",
              "      <th>vectorizer</th>\n",
              "      <th></th>\n",
              "    </tr>\n",
              "  </thead>\n",
              "  <tbody>\n",
              "    <tr>\n",
              "      <th>hv_char</th>\n",
              "      <td>0.64407</td>\n",
              "    </tr>\n",
              "    <tr>\n",
              "      <th>cv_char</th>\n",
              "      <td>0.757642</td>\n",
              "    </tr>\n",
              "    <tr>\n",
              "      <th>hv_word</th>\n",
              "      <td>0.231187</td>\n",
              "    </tr>\n",
              "    <tr>\n",
              "      <th>cv_word</th>\n",
              "      <td>0.36021</td>\n",
              "    </tr>\n",
              "    <tr>\n",
              "      <th>hv_ch_w</th>\n",
              "      <td>0.703443</td>\n",
              "    </tr>\n",
              "    <tr>\n",
              "      <th>cv_ch_w</th>\n",
              "      <td>0.760658</td>\n",
              "    </tr>\n",
              "  </tbody>\n",
              "</table>\n",
              "</div>"
            ],
            "text/plain": [
              "           CastomTagger\n",
              "vectorizer             \n",
              "hv_char         0.64407\n",
              "cv_char        0.757642\n",
              "hv_word        0.231187\n",
              "cv_word         0.36021\n",
              "hv_ch_w        0.703443\n",
              "cv_ch_w        0.760658"
            ]
          },
          "metadata": {
            "tags": []
          },
          "execution_count": 12
        },
        {
          "output_type": "display_data",
          "data": {
            "image/png": "[encoded data removed]",
            "text/plain": [
              "<Figure size 720x288 with 1 Axes>"
            ]
          },
          "metadata": {
            "tags": [],
            "needs_background": "light"
          }
        }
      ]
    },
    {
      "cell_type": "markdown",
      "metadata": {
        "id": "u9wg9fw2oThf"
      },
      "source": [
        "Вывод:  \n",
        "- Лучше всего себя показали комбинации букв и слов  \n",
        "- Чисто на словах скор сильно упал  "
      ]
    },
    {
      "cell_type": "markdown",
      "metadata": {
        "id": "-KuX_zuppWTb"
      },
      "source": [
        "## Задание 2. Проверить насколько хорошо работает NER данные брать из http://www.labinform.ru/pub/named_entities/"
      ]
    },
    {
      "cell_type": "code",
      "metadata": {
        "colab": {
          "base_uri": "https://localhost:8080/"
        },
        "id": "QDGe_9fhmQAg",
        "outputId": "715b641f-f325-43e7-fb30-e0d64ca936d5"
      },
      "source": [
        "!pip install corus\n",
        "!pip install razdel\n",
        "!wget http://ai-center.botik.ru/Airec/ai-resources/Persons-1000.zip # ссылка для скачивани на http://www.labinform.ru/pub/named_entities/"
      ],
      "execution_count": 13,
      "outputs": [
        {
          "output_type": "stream",
          "text": [
            "Collecting corus\n",
            "  Downloading corus-0.9.0-py3-none-any.whl (83 kB)\n",
            "\u001b[?25l\r\u001b[K     |████                            | 10 kB 23.5 MB/s eta 0:00:01\r\u001b[K     |███████▉                        | 20 kB 29.8 MB/s eta 0:00:01\r\u001b[K     |███████████▊                    | 30 kB 34.2 MB/s eta 0:00:01\r\u001b[K     |███████████████▊                | 40 kB 36.1 MB/s eta 0:00:01\r\u001b[K     |███████████████████▋            | 51 kB 36.1 MB/s eta 0:00:01\r\u001b[K     |███████████████████████▌        | 61 kB 38.9 MB/s eta 0:00:01\r\u001b[K     |███████████████████████████▌    | 71 kB 29.0 MB/s eta 0:00:01\r\u001b[K     |███████████████████████████████▍| 81 kB 29.3 MB/s eta 0:00:01\r\u001b[K     |████████████████████████████████| 83 kB 1.8 MB/s \n",
            "\u001b[?25hInstalling collected packages: corus\n",
            "Successfully installed corus-0.9.0\n",
            "Collecting razdel\n",
            "  Downloading razdel-0.5.0-py3-none-any.whl (21 kB)\n",
            "Installing collected packages: razdel\n",
            "Successfully installed razdel-0.5.0\n",
            "--2021-07-23 05:42:50--  http://ai-center.botik.ru/Airec/ai-resources/Persons-1000.zip\n",
            "Resolving ai-center.botik.ru (ai-center.botik.ru)... 95.129.138.2\n",
            "Connecting to ai-center.botik.ru (ai-center.botik.ru)|95.129.138.2|:80... connected.\n",
            "HTTP request sent, awaiting response... 200 OK\n",
            "Length: 3363777 (3.2M) [application/zip]\n",
            "Saving to: ‘Persons-1000.zip’\n",
            "\n",
            "Persons-1000.zip    100%[===================>]   3.21M  3.12MB/s    in 1.0s    \n",
            "\n",
            "2021-07-23 05:42:51 (3.12 MB/s) - ‘Persons-1000.zip’ saved [3363777/3363777]\n",
            "\n"
          ],
          "name": "stdout"
        }
      ]
    },
    {
      "cell_type": "code",
      "metadata": {
        "id": "vIgJZqxSmQDt"
      },
      "source": [
        "import corus\n",
        "from razdel import tokenize"
      ],
      "execution_count": 14,
      "outputs": []
    },
    {
      "cell_type": "code",
      "metadata": {
        "colab": {
          "base_uri": "https://localhost:8080/"
        },
        "id": "hoVJ7m32pr1B",
        "outputId": "37c46b0c-517c-48b4-d7de-d1b3c41f1b04"
      },
      "source": [
        "path = 'Persons-1000.zip'\n",
        "records = corus.persons.load_persons(path)\n",
        "rec = next(records)\n",
        "rec"
      ],
      "execution_count": 15,
      "outputs": [
        {
          "output_type": "execute_result",
          "data": {
            "text/plain": [
              "PersonsMarkup(\n",
              "    text='Россия рассчитывает на конструктивное воздействие США на Грузию\\r\\n\\r\\n04/08/2008 12:08\\r\\n\\r\\nМОСКВА, 4 авг - РИА Новости. Россия рассчитывает, что США воздействуют на Тбилиси в связи с обострением ситуации в зоне грузино-осетинского конфликта. Об этом статс-секретарь - заместитель министра иностранных дел России Григорий Карасин заявил в телефонном разговоре с заместителем госсекретаря США Дэниэлом Фридом.\\r\\n\\r\\n\"С российской стороны выражена глубокая озабоченность в связи с новым витком напряженности вокруг Южной Осетии, противозаконными действиями грузинской стороны по наращиванию своих вооруженных сил в регионе, бесконтрольным строительством фортификационных сооружений\", - говорится в сообщении.\\r\\n\\r\\n\"Россия уже призвала Тбилиси к ответственной линии и рассчитывает также на конструктивное воздействие со стороны Вашингтона\", - сообщил МИД России. ',\n",
              "    spans=[PersonsSpan(\n",
              "         id=1,\n",
              "         start=308,\n",
              "         stop=324,\n",
              "         value='ГРИГОРИЙ КАРАСИН'\n",
              "     ), PersonsSpan(\n",
              "         id=2,\n",
              "         start=387,\n",
              "         stop=402,\n",
              "         value='ДЭНИЭЛ ФРИД'\n",
              "     )]\n",
              ")"
            ]
          },
          "metadata": {
            "tags": []
          },
          "execution_count": 15
        }
      ]
    },
    {
      "cell_type": "code",
      "metadata": {
        "colab": {
          "base_uri": "https://localhost:8080/"
        },
        "id": "uz_zMQCppr5O",
        "outputId": "5283ab27-6b98-4adf-eee1-6a0911a57212"
      },
      "source": [
        "word_tag = []\n",
        "\n",
        "for rec in records:\n",
        "  for r in rec.spans:\n",
        "    for t in tokenize(rec.text):\n",
        "      if (t.start >= r.start) and (t.stop <= r.stop):\n",
        "        word_tag.append((rec.text[t.start:t.stop], 'PERSON'))\n",
        "      else:\n",
        "        word_tag.append((rec.text[t.start:t.stop], 'NO_PERSON'))\n",
        "\n",
        "print(len(word_tag)) \n",
        "print(word_tag[:10])"
      ],
      "execution_count": 16,
      "outputs": [
        {
          "output_type": "stream",
          "text": [
            "3715842\n",
            "[('Комиссар', 'NO_PERSON'), ('СЕ', 'NO_PERSON'), ('критикует', 'NO_PERSON'), ('ограничительную', 'NO_PERSON'), ('политику', 'NO_PERSON'), ('в', 'NO_PERSON'), ('отношении', 'NO_PERSON'), ('беженцев', 'NO_PERSON'), ('в', 'NO_PERSON'), ('европейских', 'NO_PERSON')]\n"
          ],
          "name": "stdout"
        }
      ]
    },
    {
      "cell_type": "code",
      "metadata": {
        "colab": {
          "base_uri": "https://localhost:8080/"
        },
        "id": "95M9gnwepr9t",
        "outputId": "7dfb691e-fed5-4b30-ca7e-6ced08406c34"
      },
      "source": [
        "for i in word_tag[:1000]:\n",
        "  if i[1] == 'PERSON':\n",
        "    print(i)"
      ],
      "execution_count": 17,
      "outputs": [
        {
          "output_type": "stream",
          "text": [
            "('Томас', 'PERSON')\n",
            "('Хаммарберг', 'PERSON')\n",
            "('(', 'PERSON')\n",
            "('Thomas', 'PERSON')\n",
            "('Hammarberg', 'PERSON')\n",
            "(')', 'PERSON')\n",
            "('Хаммарберг', 'PERSON')\n",
            "('Михаила', 'PERSON')\n",
            "('Саакашвили', 'PERSON')\n",
            "('Егора', 'PERSON')\n",
            "('Борисова', 'PERSON')\n",
            "('Егора', 'PERSON')\n",
            "('Борисова', 'PERSON')\n"
          ],
          "name": "stdout"
        }
      ]
    },
    {
      "cell_type": "markdown",
      "metadata": {
        "id": "taww0GD_uCKZ"
      },
      "source": [
        "### 1. взять нер из nltk"
      ]
    },
    {
      "cell_type": "code",
      "metadata": {
        "colab": {
          "base_uri": "https://localhost:8080/"
        },
        "id": "CaZnjifdp6HG",
        "outputId": "062a9328-1440-4d03-f596-2b9b8ece2bf6"
      },
      "source": [
        "import nltk\n",
        "nltk.download('words')\n",
        "nltk.download('maxent_ne_chunker')\n",
        "nltk.download('names')"
      ],
      "execution_count": 18,
      "outputs": [
        {
          "output_type": "stream",
          "text": [
            "[nltk_data] Downloading package words to /root/nltk_data...\n",
            "[nltk_data]   Unzipping corpora/words.zip.\n",
            "[nltk_data] Downloading package maxent_ne_chunker to\n",
            "[nltk_data]     /root/nltk_data...\n",
            "[nltk_data]   Unzipping chunkers/maxent_ne_chunker.zip.\n",
            "[nltk_data] Downloading package names to /root/nltk_data...\n",
            "[nltk_data]   Package names is already up-to-date!\n"
          ],
          "name": "stdout"
        },
        {
          "output_type": "execute_result",
          "data": {
            "text/plain": [
              "True"
            ]
          },
          "metadata": {
            "tags": []
          },
          "execution_count": 18
        }
      ]
    },
    {
      "cell_type": "code",
      "metadata": {
        "colab": {
          "base_uri": "https://localhost:8080/"
        },
        "id": "mtDseqfgp6LC",
        "outputId": "6c7a8401-11af-4514-a849-57c7fdfca319"
      },
      "source": [
        "{(' '.join(c[0] for c in chunk), chunk.label()) for chunk in nltk.ne_chunk(word_tag[:200_000]) if hasattr(chunk, 'label')}"
      ],
      "execution_count": 19,
      "outputs": [
        {
          "output_type": "execute_result",
          "data": {
            "text/plain": [
              "{('AP', 'ORGANIZATION'),\n",
              " ('Clinton', 'PERSON'),\n",
              " ('HSBC', 'ORGANIZATION'),\n",
              " ('John', 'PERSON'),\n",
              " ('John Huntsman Jr', 'PERSON'),\n",
              " ('John Roos', 'PERSON'),\n",
              " ('New York', 'GPE'),\n",
              " ('Washington', 'GPE'),\n",
              " ('Washington Post', 'ORGANIZATION'),\n",
              " ('САО', 'ORGANIZATION')}"
            ]
          },
          "metadata": {
            "tags": []
          },
          "execution_count": 19
        }
      ]
    },
    {
      "cell_type": "markdown",
      "metadata": {
        "id": "v5XVu3gUufWr"
      },
      "source": [
        "Вывод:  \n",
        "- ne_chunk не распознает имена на кирилице  "
      ]
    },
    {
      "cell_type": "markdown",
      "metadata": {
        "id": "NZ6sh5Jhuprg"
      },
      "source": [
        "## 2. проверить deeppavlov"
      ]
    },
    {
      "cell_type": "code",
      "metadata": {
        "colab": {
          "base_uri": "https://localhost:8080/",
          "height": 1000
        },
        "id": "WJM0SgUGp6Nj",
        "outputId": "2e751cd3-2176-4b31-dc2a-370bbde248fa"
      },
      "source": [
        "!python -m venv env\n",
        "!pip install deeppavlov\n",
        "!python -m deeppavlov install squad_bert\n",
        "!python -m deeppavlov install ner_ontonotes"
      ],
      "execution_count": 20,
      "outputs": [
        {
          "output_type": "stream",
          "text": [
            "Error: Command '['/content/env/bin/python3', '-Im', 'ensurepip', '--upgrade', '--default-pip']' returned non-zero exit status 1.\n",
            "Collecting deeppavlov\n",
            "  Downloading deeppavlov-0.15.0-py3-none-any.whl (907 kB)\n",
            "\u001b[K     |████████████████████████████████| 907 kB 34.7 MB/s \n",
            "\u001b[?25hCollecting pytelegrambotapi==3.6.7\n",
            "  Downloading pyTelegramBotAPI-3.6.7.tar.gz (65 kB)\n",
            "\u001b[K     |████████████████████████████████| 65 kB 3.5 MB/s \n",
            "\u001b[?25hCollecting pandas==0.25.3\n",
            "  Downloading pandas-0.25.3-cp37-cp37m-manylinux1_x86_64.whl (10.4 MB)\n",
            "\u001b[K     |████████████████████████████████| 10.4 MB 60.5 MB/s \n",
            "\u001b[?25hCollecting fastapi==0.47.1\n",
            "  Downloading fastapi-0.47.1-py3-none-any.whl (43 kB)\n",
            "\u001b[K     |████████████████████████████████| 43 kB 2.0 MB/s \n",
            "\u001b[?25hCollecting Cython==0.29.14\n",
            "  Downloading Cython-0.29.14-cp37-cp37m-manylinux1_x86_64.whl (2.1 MB)\n",
            "\u001b[K     |████████████████████████████████| 2.1 MB 54.2 MB/s \n",
            "\u001b[?25hCollecting pytz==2019.1\n",
            "  Downloading pytz-2019.1-py2.py3-none-any.whl (510 kB)\n",
            "\u001b[K     |████████████████████████████████| 510 kB 56.4 MB/s \n",
            "\u001b[?25hCollecting overrides==2.7.0\n",
            "  Downloading overrides-2.7.0.tar.gz (4.5 kB)\n",
            "Collecting nltk==3.4.5\n",
            "  Downloading nltk-3.4.5.zip (1.5 MB)\n",
            "\u001b[K     |████████████████████████████████| 1.5 MB 49.2 MB/s \n",
            "\u001b[?25hRequirement already satisfied: tqdm==4.41.1 in /usr/local/lib/python3.7/dist-packages (from deeppavlov) (4.41.1)\n",
            "Collecting scikit-learn==0.21.2\n",
            "  Downloading scikit_learn-0.21.2-cp37-cp37m-manylinux1_x86_64.whl (6.7 MB)\n",
            "\u001b[K     |████████████████████████████████| 6.7 MB 45.2 MB/s \n",
            "\u001b[?25hRequirement already satisfied: scipy==1.4.1 in /usr/local/lib/python3.7/dist-packages (from deeppavlov) (1.4.1)\n",
            "Collecting uvicorn==0.11.7\n",
            "  Downloading uvicorn-0.11.7-py3-none-any.whl (43 kB)\n",
            "\u001b[K     |████████████████████████████████| 43 kB 1.9 MB/s \n",
            "\u001b[?25hCollecting requests==2.22.0\n",
            "  Downloading requests-2.22.0-py2.py3-none-any.whl (57 kB)\n",
            "\u001b[K     |████████████████████████████████| 57 kB 5.5 MB/s \n",
            "\u001b[?25hCollecting ruamel.yaml==0.15.100\n",
            "  Downloading ruamel.yaml-0.15.100-cp37-cp37m-manylinux1_x86_64.whl (654 kB)\n",
            "\u001b[K     |████████████████████████████████| 654 kB 44.2 MB/s \n",
            "\u001b[?25hCollecting prometheus-client==0.7.1\n",
            "  Downloading prometheus_client-0.7.1.tar.gz (38 kB)\n",
            "Collecting pymorphy2-dicts-ru\n",
            "  Downloading pymorphy2_dicts_ru-2.4.417127.4579844-py2.py3-none-any.whl (8.2 MB)\n",
            "\u001b[K     |████████████████████████████████| 8.2 MB 47.9 MB/s \n",
            "\u001b[?25hCollecting h5py==2.10.0\n",
            "  Downloading h5py-2.10.0-cp37-cp37m-manylinux1_x86_64.whl (2.9 MB)\n",
            "\u001b[K     |████████████████████████████████| 2.9 MB 48.2 MB/s \n",
            "\u001b[?25hCollecting sacremoses==0.0.35\n",
            "  Downloading sacremoses-0.0.35.tar.gz (859 kB)\n",
            "\u001b[K     |████████████████████████████████| 859 kB 38.2 MB/s \n",
            "\u001b[?25hRequirement already satisfied: filelock==3.0.12 in /usr/local/lib/python3.7/dist-packages (from deeppavlov) (3.0.12)\n",
            "Collecting pydantic==1.3\n",
            "  Downloading pydantic-1.3-cp37-cp37m-manylinux2010_x86_64.whl (7.3 MB)\n",
            "\u001b[K     |████████████████████████████████| 7.3 MB 23.7 MB/s \n",
            "\u001b[?25hCollecting numpy==1.18.0\n",
            "  Downloading numpy-1.18.0-cp37-cp37m-manylinux1_x86_64.whl (20.1 MB)\n",
            "\u001b[K     |████████████████████████████████| 20.1 MB 1.2 MB/s \n",
            "\u001b[?25hCollecting pyopenssl==19.1.0\n",
            "  Downloading pyOpenSSL-19.1.0-py2.py3-none-any.whl (53 kB)\n",
            "\u001b[K     |████████████████████████████████| 53 kB 2.1 MB/s \n",
            "\u001b[?25hCollecting uvloop==0.14.0\n",
            "  Downloading uvloop-0.14.0-cp37-cp37m-manylinux2010_x86_64.whl (3.8 MB)\n",
            "\u001b[K     |████████████████████████████████| 3.8 MB 46.0 MB/s \n",
            "\u001b[?25hCollecting pymorphy2==0.8\n",
            "  Downloading pymorphy2-0.8-py2.py3-none-any.whl (46 kB)\n",
            "\u001b[K     |████████████████████████████████| 46 kB 3.9 MB/s \n",
            "\u001b[?25hCollecting aio-pika==6.4.1\n",
            "  Downloading aio_pika-6.4.1-py3-none-any.whl (40 kB)\n",
            "\u001b[K     |████████████████████████████████| 40 kB 22 kB/s \n",
            "\u001b[?25hRequirement already satisfied: click==7.1.2 in /usr/local/lib/python3.7/dist-packages (from deeppavlov) (7.1.2)\n",
            "Collecting rusenttokenize==0.0.5\n",
            "  Downloading rusenttokenize-0.0.5-py3-none-any.whl (10 kB)\n",
            "Collecting aiormq<4,>=3.2.0\n",
            "  Downloading aiormq-3.3.1-py3-none-any.whl (28 kB)\n",
            "Collecting yarl\n",
            "  Downloading yarl-1.6.3-cp37-cp37m-manylinux2014_x86_64.whl (294 kB)\n",
            "\u001b[K     |████████████████████████████████| 294 kB 64.7 MB/s \n",
            "\u001b[?25hCollecting starlette<=0.12.9,>=0.12.9\n",
            "  Downloading starlette-0.12.9.tar.gz (46 kB)\n",
            "\u001b[K     |████████████████████████████████| 46 kB 3.7 MB/s \n",
            "\u001b[?25hRequirement already satisfied: six in /usr/local/lib/python3.7/dist-packages (from h5py==2.10.0->deeppavlov) (1.15.0)\n",
            "Requirement already satisfied: python-dateutil>=2.6.1 in /usr/local/lib/python3.7/dist-packages (from pandas==0.25.3->deeppavlov) (2.8.1)\n",
            "Collecting pymorphy2-dicts<3.0,>=2.4\n",
            "  Downloading pymorphy2_dicts-2.4.393442.3710985-py2.py3-none-any.whl (7.1 MB)\n",
            "\u001b[K     |████████████████████████████████| 7.1 MB 20.1 MB/s \n",
            "\u001b[?25hCollecting dawg-python>=0.7\n",
            "  Downloading DAWG_Python-0.7.2-py2.py3-none-any.whl (11 kB)\n",
            "Requirement already satisfied: docopt>=0.6 in /usr/local/lib/python3.7/dist-packages (from pymorphy2==0.8->deeppavlov) (0.6.2)\n",
            "Collecting cryptography>=2.8\n",
            "  Downloading cryptography-3.4.7-cp36-abi3-manylinux2014_x86_64.whl (3.2 MB)\n",
            "\u001b[K     |████████████████████████████████| 3.2 MB 50.1 MB/s \n",
            "\u001b[?25hRequirement already satisfied: urllib3!=1.25.0,!=1.25.1,<1.26,>=1.21.1 in /usr/local/lib/python3.7/dist-packages (from requests==2.22.0->deeppavlov) (1.24.3)\n",
            "Requirement already satisfied: chardet<3.1.0,>=3.0.2 in /usr/local/lib/python3.7/dist-packages (from requests==2.22.0->deeppavlov) (3.0.4)\n",
            "Collecting idna<2.9,>=2.5\n",
            "  Downloading idna-2.8-py2.py3-none-any.whl (58 kB)\n",
            "\u001b[K     |████████████████████████████████| 58 kB 5.4 MB/s \n",
            "\u001b[?25hRequirement already satisfied: certifi>=2017.4.17 in /usr/local/lib/python3.7/dist-packages (from requests==2.22.0->deeppavlov) (2021.5.30)\n",
            "Requirement already satisfied: joblib in /usr/local/lib/python3.7/dist-packages (from sacremoses==0.0.35->deeppavlov) (1.0.1)\n",
            "Collecting h11<0.10,>=0.8\n",
            "  Downloading h11-0.9.0-py2.py3-none-any.whl (53 kB)\n",
            "\u001b[K     |████████████████████████████████| 53 kB 2.1 MB/s \n",
            "\u001b[?25hCollecting httptools==0.1.*\n",
            "  Downloading httptools-0.1.2-cp37-cp37m-manylinux1_x86_64.whl (219 kB)\n",
            "\u001b[K     |████████████████████████████████| 219 kB 52.3 MB/s \n",
            "\u001b[?25hCollecting websockets==8.*\n",
            "  Downloading websockets-8.1-cp37-cp37m-manylinux2010_x86_64.whl (79 kB)\n",
            "\u001b[K     |████████████████████████████████| 79 kB 7.9 MB/s \n",
            "\u001b[?25hCollecting pamqp==2.3.0\n",
            "  Downloading pamqp-2.3.0-py2.py3-none-any.whl (28 kB)\n",
            "Requirement already satisfied: cffi>=1.12 in /usr/local/lib/python3.7/dist-packages (from cryptography>=2.8->pyopenssl==19.1.0->deeppavlov) (1.14.6)\n",
            "Requirement already satisfied: pycparser in /usr/local/lib/python3.7/dist-packages (from cffi>=1.12->cryptography>=2.8->pyopenssl==19.1.0->deeppavlov) (2.20)\n",
            "Requirement already satisfied: typing-extensions>=3.7.4 in /usr/local/lib/python3.7/dist-packages (from yarl->aio-pika==6.4.1->deeppavlov) (3.7.4.3)\n",
            "Collecting multidict>=4.0\n",
            "  Downloading multidict-5.1.0-cp37-cp37m-manylinux2014_x86_64.whl (142 kB)\n",
            "\u001b[K     |████████████████████████████████| 142 kB 61.8 MB/s \n",
            "\u001b[?25hBuilding wheels for collected packages: nltk, overrides, prometheus-client, pytelegrambotapi, sacremoses, starlette\n",
            "  Building wheel for nltk (setup.py) ... \u001b[?25l\u001b[?25hdone\n",
            "  Created wheel for nltk: filename=nltk-3.4.5-py3-none-any.whl size=1449924 sha256=e08385eb023726edf2995160f588f52245ca0b43552fab489e012c0f1dca7f6a\n",
            "  Stored in directory: /root/.cache/pip/wheels/48/8b/7f/473521e0c731c6566d631b281f323842bbda9bd819eb9a3ead\n",
            "  Building wheel for overrides (setup.py) ... \u001b[?25l\u001b[?25hdone\n",
            "  Created wheel for overrides: filename=overrides-2.7.0-py3-none-any.whl size=5604 sha256=fca215ec0830cf29a36607e7245469eedd13e7834cfd48834cdf6478adef3992\n",
            "  Stored in directory: /root/.cache/pip/wheels/c9/87/45/bfdacf6c3b8233b6e8d519edcbd1cf297ad5ff5f0bf84bb9c1\n",
            "  Building wheel for prometheus-client (setup.py) ... \u001b[?25l\u001b[?25hdone\n",
            "  Created wheel for prometheus-client: filename=prometheus_client-0.7.1-py3-none-any.whl size=41403 sha256=29cd95fd9ba725172008fb2e1e337e52dd404f20204de4e8de0a6b527047b755\n",
            "  Stored in directory: /root/.cache/pip/wheels/30/0c/26/59ba285bf65dc79d195e9b25e2ddde4c61070422729b0cd914\n",
            "  Building wheel for pytelegrambotapi (setup.py) ... \u001b[?25l\u001b[?25hdone\n",
            "  Created wheel for pytelegrambotapi: filename=pyTelegramBotAPI-3.6.7-py3-none-any.whl size=47176 sha256=d3984b14788db0849920db2af797294396e87aa42b1e40777c3dc8d080a42b7a\n",
            "  Stored in directory: /root/.cache/pip/wheels/7f/7c/54/8eddf2369ef1b9190e2ee6dc2b40df54b6c65529a38790fdd4\n",
            "  Building wheel for sacremoses (setup.py) ... \u001b[?25l\u001b[?25hdone\n",
            "  Created wheel for sacremoses: filename=sacremoses-0.0.35-py3-none-any.whl size=883990 sha256=8b84443002cdc75d086ac817be1938dc48c41b490265818c0c462f1c03f3b79b\n",
            "  Stored in directory: /root/.cache/pip/wheels/d1/ff/0e/e00ff1e22100702ac8b24e709551ae0fb29db9ffc843510a64\n",
            "  Building wheel for starlette (setup.py) ... \u001b[?25l\u001b[?25hdone\n",
            "  Created wheel for starlette: filename=starlette-0.12.9-py3-none-any.whl size=57252 sha256=762668a7558176481a65fc185caf4218c960be1917dab52d8eee733765e752cd\n",
            "  Stored in directory: /root/.cache/pip/wheels/e8/78/be/f57ed5aed7cd222abdb24e3186b5c9f1074184fcc0a295102b\n",
            "Successfully built nltk overrides prometheus-client pytelegrambotapi sacremoses starlette\n",
            "Installing collected packages: multidict, idna, yarl, pamqp, numpy, websockets, uvloop, starlette, requests, pytz, pymorphy2-dicts, pydantic, httptools, h11, dawg-python, cryptography, aiormq, uvicorn, scikit-learn, sacremoses, rusenttokenize, ruamel.yaml, pytelegrambotapi, pyopenssl, pymorphy2-dicts-ru, pymorphy2, prometheus-client, pandas, overrides, nltk, h5py, fastapi, Cython, aio-pika, deeppavlov\n",
            "  Attempting uninstall: idna\n",
            "    Found existing installation: idna 2.10\n",
            "    Uninstalling idna-2.10:\n",
            "      Successfully uninstalled idna-2.10\n",
            "  Attempting uninstall: numpy\n",
            "    Found existing installation: numpy 1.19.5\n",
            "    Uninstalling numpy-1.19.5:\n",
            "      Successfully uninstalled numpy-1.19.5\n",
            "  Attempting uninstall: requests\n",
            "    Found existing installation: requests 2.23.0\n",
            "    Uninstalling requests-2.23.0:\n",
            "      Successfully uninstalled requests-2.23.0\n",
            "  Attempting uninstall: pytz\n",
            "    Found existing installation: pytz 2018.9\n",
            "    Uninstalling pytz-2018.9:\n",
            "      Successfully uninstalled pytz-2018.9\n",
            "  Attempting uninstall: scikit-learn\n",
            "    Found existing installation: scikit-learn 0.22.2.post1\n",
            "    Uninstalling scikit-learn-0.22.2.post1:\n",
            "      Successfully uninstalled scikit-learn-0.22.2.post1\n",
            "  Attempting uninstall: prometheus-client\n",
            "    Found existing installation: prometheus-client 0.11.0\n",
            "    Uninstalling prometheus-client-0.11.0:\n",
            "      Successfully uninstalled prometheus-client-0.11.0\n",
            "  Attempting uninstall: pandas\n",
            "    Found existing installation: pandas 1.1.5\n",
            "    Uninstalling pandas-1.1.5:\n",
            "      Successfully uninstalled pandas-1.1.5\n",
            "  Attempting uninstall: nltk\n",
            "    Found existing installation: nltk 3.2.5\n",
            "    Uninstalling nltk-3.2.5:\n",
            "      Successfully uninstalled nltk-3.2.5\n",
            "  Attempting uninstall: h5py\n",
            "    Found existing installation: h5py 3.1.0\n",
            "    Uninstalling h5py-3.1.0:\n",
            "      Successfully uninstalled h5py-3.1.0\n",
            "  Attempting uninstall: Cython\n",
            "    Found existing installation: Cython 0.29.23\n",
            "    Uninstalling Cython-0.29.23:\n",
            "      Successfully uninstalled Cython-0.29.23\n",
            "\u001b[31mERROR: pip's dependency resolver does not currently take into account all the packages that are installed. This behaviour is the source of the following dependency conflicts.\n",
            "xarray 0.18.2 requires pandas>=1.0, but you have pandas 0.25.3 which is incompatible.\n",
            "tensorflow 2.5.0 requires h5py~=3.1.0, but you have h5py 2.10.0 which is incompatible.\n",
            "tensorflow 2.5.0 requires numpy~=1.19.2, but you have numpy 1.18.0 which is incompatible.\n",
            "kapre 0.3.5 requires numpy>=1.18.5, but you have numpy 1.18.0 which is incompatible.\n",
            "google-colab 1.0.0 requires pandas~=1.1.0; python_version >= \"3.0\", but you have pandas 0.25.3 which is incompatible.\n",
            "google-colab 1.0.0 requires requests~=2.23.0, but you have requests 2.22.0 which is incompatible.\n",
            "fbprophet 0.7.1 requires pandas>=1.0.4, but you have pandas 0.25.3 which is incompatible.\n",
            "datascience 0.10.6 requires folium==0.2.1, but you have folium 0.8.3 which is incompatible.\n",
            "albumentations 0.1.12 requires imgaug<0.2.7,>=0.2.5, but you have imgaug 0.2.9 which is incompatible.\u001b[0m\n",
            "Successfully installed Cython-0.29.14 aio-pika-6.4.1 aiormq-3.3.1 cryptography-3.4.7 dawg-python-0.7.2 deeppavlov-0.15.0 fastapi-0.47.1 h11-0.9.0 h5py-2.10.0 httptools-0.1.2 idna-2.8 multidict-5.1.0 nltk-3.4.5 numpy-1.18.0 overrides-2.7.0 pamqp-2.3.0 pandas-0.25.3 prometheus-client-0.7.1 pydantic-1.3 pymorphy2-0.8 pymorphy2-dicts-2.4.393442.3710985 pymorphy2-dicts-ru-2.4.417127.4579844 pyopenssl-19.1.0 pytelegrambotapi-3.6.7 pytz-2019.1 requests-2.22.0 ruamel.yaml-0.15.100 rusenttokenize-0.0.5 sacremoses-0.0.35 scikit-learn-0.21.2 starlette-0.12.9 uvicorn-0.11.7 uvloop-0.14.0 websockets-8.1 yarl-1.6.3\n"
          ],
          "name": "stdout"
        },
        {
          "output_type": "display_data",
          "data": {
            "application/vnd.colab-display-data+json": {
              "pip_warning": {
                "packages": [
                  "idna",
                  "nltk",
                  "numpy",
                  "pandas",
                  "pytz",
                  "requests",
                  "sklearn"
                ]
              }
            }
          },
          "metadata": {
            "tags": []
          }
        },
        {
          "output_type": "stream",
          "text": [
            "2021-07-23 05:44:55.636 INFO in 'deeppavlov.core.common.file'['file'] at line 32: Interpreting 'squad_bert' as '/usr/local/lib/python3.7/dist-packages/deeppavlov/configs/squad/squad_bert.json'\n",
            "Collecting git+https://github.com/deepmipt/bert.git@feat/multi_gpu\n",
            "  Cloning https://github.com/deepmipt/bert.git (to revision feat/multi_gpu) to /tmp/pip-req-build-qcya7cyd\n",
            "  Running command git clone -q https://github.com/deepmipt/bert.git /tmp/pip-req-build-qcya7cyd\n",
            "Building wheels for collected packages: bert-dp\n",
            "  Building wheel for bert-dp (setup.py) ... \u001b[?25l\u001b[?25hdone\n",
            "  Created wheel for bert-dp: filename=bert_dp-1.0-py3-none-any.whl size=23591 sha256=d437d6ddd6d7f0d5a9ab3175691806c37de8bc43914bc94ff170af53fa4bed88\n",
            "  Stored in directory: /tmp/pip-ephem-wheel-cache-amjtgg8e/wheels/44/29/b2/ee614cb7f97ba5c2d220029eaede3af4b74331ad31d6e2f4eb\n",
            "Successfully built bert-dp\n",
            "Installing collected packages: bert-dp\n",
            "Successfully installed bert-dp-1.0\n",
            "Collecting tensorflow==1.15.2\n",
            "  Downloading tensorflow-1.15.2-cp37-cp37m-manylinux2010_x86_64.whl (110.5 MB)\n",
            "\u001b[K     |████████████████████████████████| 110.5 MB 1.3 MB/s \n",
            "\u001b[?25hCollecting tensorflow-estimator==1.15.1\n",
            "  Downloading tensorflow_estimator-1.15.1-py2.py3-none-any.whl (503 kB)\n",
            "\u001b[K     |████████████████████████████████| 503 kB 50.9 MB/s \n",
            "\u001b[?25hRequirement already satisfied: absl-py>=0.7.0 in /usr/local/lib/python3.7/dist-packages (from tensorflow==1.15.2) (0.12.0)\n",
            "Collecting tensorboard<1.16.0,>=1.15.0\n",
            "  Downloading tensorboard-1.15.0-py3-none-any.whl (3.8 MB)\n",
            "\u001b[K     |████████████████████████████████| 3.8 MB 28.7 MB/s \n",
            "\u001b[?25hCollecting keras-applications>=1.0.8\n",
            "  Downloading Keras_Applications-1.0.8-py3-none-any.whl (50 kB)\n",
            "\u001b[K     |████████████████████████████████| 50 kB 7.2 MB/s \n",
            "\u001b[?25hRequirement already satisfied: numpy<2.0,>=1.16.0 in /usr/local/lib/python3.7/dist-packages (from tensorflow==1.15.2) (1.18.0)\n",
            "Requirement already satisfied: termcolor>=1.1.0 in /usr/local/lib/python3.7/dist-packages (from tensorflow==1.15.2) (1.1.0)\n",
            "Requirement already satisfied: opt-einsum>=2.3.2 in /usr/local/lib/python3.7/dist-packages (from tensorflow==1.15.2) (3.3.0)\n",
            "Collecting gast==0.2.2\n",
            "  Downloading gast-0.2.2.tar.gz (10 kB)\n",
            "Requirement already satisfied: wrapt>=1.11.1 in /usr/local/lib/python3.7/dist-packages (from tensorflow==1.15.2) (1.12.1)\n",
            "Requirement already satisfied: grpcio>=1.8.6 in /usr/local/lib/python3.7/dist-packages (from tensorflow==1.15.2) (1.34.1)\n",
            "Requirement already satisfied: keras-preprocessing>=1.0.5 in /usr/local/lib/python3.7/dist-packages (from tensorflow==1.15.2) (1.1.2)\n",
            "Requirement already satisfied: wheel>=0.26 in /usr/local/lib/python3.7/dist-packages (from tensorflow==1.15.2) (0.36.2)\n",
            "Requirement already satisfied: six>=1.10.0 in /usr/local/lib/python3.7/dist-packages (from tensorflow==1.15.2) (1.15.0)\n",
            "Requirement already satisfied: astor>=0.6.0 in /usr/local/lib/python3.7/dist-packages (from tensorflow==1.15.2) (0.8.1)\n",
            "Requirement already satisfied: google-pasta>=0.1.6 in /usr/local/lib/python3.7/dist-packages (from tensorflow==1.15.2) (0.2.0)\n",
            "Requirement already satisfied: protobuf>=3.6.1 in /usr/local/lib/python3.7/dist-packages (from tensorflow==1.15.2) (3.17.3)\n",
            "Requirement already satisfied: h5py in /usr/local/lib/python3.7/dist-packages (from keras-applications>=1.0.8->tensorflow==1.15.2) (2.10.0)\n",
            "Requirement already satisfied: setuptools>=41.0.0 in /usr/local/lib/python3.7/dist-packages (from tensorboard<1.16.0,>=1.15.0->tensorflow==1.15.2) (57.2.0)\n",
            "Requirement already satisfied: markdown>=2.6.8 in /usr/local/lib/python3.7/dist-packages (from tensorboard<1.16.0,>=1.15.0->tensorflow==1.15.2) (3.3.4)\n",
            "Requirement already satisfied: werkzeug>=0.11.15 in /usr/local/lib/python3.7/dist-packages (from tensorboard<1.16.0,>=1.15.0->tensorflow==1.15.2) (1.0.1)\n",
            "Requirement already satisfied: importlib-metadata in /usr/local/lib/python3.7/dist-packages (from markdown>=2.6.8->tensorboard<1.16.0,>=1.15.0->tensorflow==1.15.2) (4.6.1)\n",
            "Requirement already satisfied: zipp>=0.5 in /usr/local/lib/python3.7/dist-packages (from importlib-metadata->markdown>=2.6.8->tensorboard<1.16.0,>=1.15.0->tensorflow==1.15.2) (3.5.0)\n",
            "Requirement already satisfied: typing-extensions>=3.6.4 in /usr/local/lib/python3.7/dist-packages (from importlib-metadata->markdown>=2.6.8->tensorboard<1.16.0,>=1.15.0->tensorflow==1.15.2) (3.7.4.3)\n",
            "Building wheels for collected packages: gast\n",
            "  Building wheel for gast (setup.py) ... \u001b[?25l\u001b[?25hdone\n",
            "  Created wheel for gast: filename=gast-0.2.2-py3-none-any.whl size=7553 sha256=5354e6cf199c7967d288a282ed472f2238d90b4e3854062541e5298f9b8c1941\n",
            "  Stored in directory: /root/.cache/pip/wheels/21/7f/02/420f32a803f7d0967b48dd823da3f558c5166991bfd204eef3\n",
            "Successfully built gast\n",
            "Installing collected packages: tensorflow-estimator, tensorboard, keras-applications, gast, tensorflow\n",
            "  Attempting uninstall: tensorflow-estimator\n",
            "    Found existing installation: tensorflow-estimator 2.5.0\n",
            "    Uninstalling tensorflow-estimator-2.5.0:\n",
            "      Successfully uninstalled tensorflow-estimator-2.5.0\n",
            "  Attempting uninstall: tensorboard\n",
            "    Found existing installation: tensorboard 2.5.0\n",
            "    Uninstalling tensorboard-2.5.0:\n",
            "      Successfully uninstalled tensorboard-2.5.0\n",
            "  Attempting uninstall: gast\n",
            "    Found existing installation: gast 0.4.0\n",
            "    Uninstalling gast-0.4.0:\n",
            "      Successfully uninstalled gast-0.4.0\n",
            "  Attempting uninstall: tensorflow\n",
            "    Found existing installation: tensorflow 2.5.0\n",
            "    Uninstalling tensorflow-2.5.0:\n",
            "      Successfully uninstalled tensorflow-2.5.0\n",
            "\u001b[31mERROR: pip's dependency resolver does not currently take into account all the packages that are installed. This behaviour is the source of the following dependency conflicts.\n",
            "tensorflow-probability 0.13.0 requires gast>=0.3.2, but you have gast 0.2.2 which is incompatible.\n",
            "kapre 0.3.5 requires numpy>=1.18.5, but you have numpy 1.18.0 which is incompatible.\n",
            "kapre 0.3.5 requires tensorflow>=2.0.0, but you have tensorflow 1.15.2 which is incompatible.\u001b[0m\n",
            "Successfully installed gast-0.2.2 keras-applications-1.0.8 tensorboard-1.15.0 tensorflow-1.15.2 tensorflow-estimator-1.15.1\n",
            "2021-07-23 05:45:55.692 INFO in 'deeppavlov.core.common.file'['file'] at line 32: Interpreting 'ner_ontonotes' as '/usr/local/lib/python3.7/dist-packages/deeppavlov/configs/ner/ner_ontonotes.json'\n",
            "Collecting gensim==3.8.1\n",
            "  Downloading gensim-3.8.1-cp37-cp37m-manylinux1_x86_64.whl (24.2 MB)\n",
            "\u001b[K     |████████████████████████████████| 24.2 MB 72 kB/s \n",
            "\u001b[?25hRequirement already satisfied: six>=1.5.0 in /usr/local/lib/python3.7/dist-packages (from gensim==3.8.1) (1.15.0)\n",
            "Requirement already satisfied: smart-open>=1.8.1 in /usr/local/lib/python3.7/dist-packages (from gensim==3.8.1) (5.1.0)\n",
            "Requirement already satisfied: numpy>=1.11.3 in /usr/local/lib/python3.7/dist-packages (from gensim==3.8.1) (1.18.0)\n",
            "Requirement already satisfied: scipy>=0.18.1 in /usr/local/lib/python3.7/dist-packages (from gensim==3.8.1) (1.4.1)\n",
            "Installing collected packages: gensim\n",
            "  Attempting uninstall: gensim\n",
            "    Found existing installation: gensim 3.6.0\n",
            "    Uninstalling gensim-3.6.0:\n",
            "      Successfully uninstalled gensim-3.6.0\n",
            "Successfully installed gensim-3.8.1\n",
            "Requirement already satisfied: tensorflow==1.15.2 in /usr/local/lib/python3.7/dist-packages (1.15.2)\n",
            "Requirement already satisfied: opt-einsum>=2.3.2 in /usr/local/lib/python3.7/dist-packages (from tensorflow==1.15.2) (3.3.0)\n",
            "Requirement already satisfied: numpy<2.0,>=1.16.0 in /usr/local/lib/python3.7/dist-packages (from tensorflow==1.15.2) (1.18.0)\n",
            "Requirement already satisfied: wheel>=0.26 in /usr/local/lib/python3.7/dist-packages (from tensorflow==1.15.2) (0.36.2)\n",
            "Requirement already satisfied: grpcio>=1.8.6 in /usr/local/lib/python3.7/dist-packages (from tensorflow==1.15.2) (1.34.1)\n",
            "Requirement already satisfied: keras-preprocessing>=1.0.5 in /usr/local/lib/python3.7/dist-packages (from tensorflow==1.15.2) (1.1.2)\n",
            "Requirement already satisfied: protobuf>=3.6.1 in /usr/local/lib/python3.7/dist-packages (from tensorflow==1.15.2) (3.17.3)\n",
            "Requirement already satisfied: google-pasta>=0.1.6 in /usr/local/lib/python3.7/dist-packages (from tensorflow==1.15.2) (0.2.0)\n",
            "Requirement already satisfied: tensorflow-estimator==1.15.1 in /usr/local/lib/python3.7/dist-packages (from tensorflow==1.15.2) (1.15.1)\n",
            "Requirement already satisfied: astor>=0.6.0 in /usr/local/lib/python3.7/dist-packages (from tensorflow==1.15.2) (0.8.1)\n",
            "Requirement already satisfied: keras-applications>=1.0.8 in /usr/local/lib/python3.7/dist-packages (from tensorflow==1.15.2) (1.0.8)\n",
            "Requirement already satisfied: tensorboard<1.16.0,>=1.15.0 in /usr/local/lib/python3.7/dist-packages (from tensorflow==1.15.2) (1.15.0)\n",
            "Requirement already satisfied: gast==0.2.2 in /usr/local/lib/python3.7/dist-packages (from tensorflow==1.15.2) (0.2.2)\n",
            "Requirement already satisfied: termcolor>=1.1.0 in /usr/local/lib/python3.7/dist-packages (from tensorflow==1.15.2) (1.1.0)\n",
            "Requirement already satisfied: wrapt>=1.11.1 in /usr/local/lib/python3.7/dist-packages (from tensorflow==1.15.2) (1.12.1)\n",
            "Requirement already satisfied: absl-py>=0.7.0 in /usr/local/lib/python3.7/dist-packages (from tensorflow==1.15.2) (0.12.0)\n",
            "Requirement already satisfied: six>=1.10.0 in /usr/local/lib/python3.7/dist-packages (from tensorflow==1.15.2) (1.15.0)\n",
            "Requirement already satisfied: h5py in /usr/local/lib/python3.7/dist-packages (from keras-applications>=1.0.8->tensorflow==1.15.2) (2.10.0)\n",
            "Requirement already satisfied: markdown>=2.6.8 in /usr/local/lib/python3.7/dist-packages (from tensorboard<1.16.0,>=1.15.0->tensorflow==1.15.2) (3.3.4)\n",
            "Requirement already satisfied: setuptools>=41.0.0 in /usr/local/lib/python3.7/dist-packages (from tensorboard<1.16.0,>=1.15.0->tensorflow==1.15.2) (57.2.0)\n",
            "Requirement already satisfied: werkzeug>=0.11.15 in /usr/local/lib/python3.7/dist-packages (from tensorboard<1.16.0,>=1.15.0->tensorflow==1.15.2) (1.0.1)\n",
            "Requirement already satisfied: importlib-metadata in /usr/local/lib/python3.7/dist-packages (from markdown>=2.6.8->tensorboard<1.16.0,>=1.15.0->tensorflow==1.15.2) (4.6.1)\n",
            "Requirement already satisfied: zipp>=0.5 in /usr/local/lib/python3.7/dist-packages (from importlib-metadata->markdown>=2.6.8->tensorboard<1.16.0,>=1.15.0->tensorflow==1.15.2) (3.5.0)\n",
            "Requirement already satisfied: typing-extensions>=3.6.4 in /usr/local/lib/python3.7/dist-packages (from importlib-metadata->markdown>=2.6.8->tensorboard<1.16.0,>=1.15.0->tensorflow==1.15.2) (3.7.4.3)\n"
          ],
          "name": "stdout"
        }
      ]
    },
    {
      "cell_type": "code",
      "metadata": {
        "id": "nrvDFr-ButhH"
      },
      "source": [
        "import deeppavlov\n",
        "from deeppavlov import configs, build_model"
      ],
      "execution_count": 21,
      "outputs": []
    },
    {
      "cell_type": "code",
      "metadata": {
        "colab": {
          "base_uri": "https://localhost:8080/"
        },
        "id": "Y2pgKmI_utkq",
        "outputId": "265a4deb-3710-49ed-edb0-0d0dd581b130"
      },
      "source": [
        "deeppavlov_ner = build_model(configs.ner.ner_bert_ent_and_type_rus, download=True)"
      ],
      "execution_count": 22,
      "outputs": [
        {
          "output_type": "stream",
          "text": [
            "2021-07-23 05:46:08.175 INFO in 'deeppavlov.core.data.utils'['utils'] at line 95: Downloading from http://files.deeppavlov.ai/kbqa/models/ner_cq_rus.tar.gz to /root/.deeppavlov/models/ner_cq_rus.tar.gz\n",
            "100%|██████████| 1.32G/1.32G [02:18<00:00, 9.54MB/s]\n",
            "2021-07-23 05:48:27.348 INFO in 'deeppavlov.core.data.utils'['utils'] at line 272: Extracting /root/.deeppavlov/models/ner_cq_rus.tar.gz archive into /root/.deeppavlov/models/ner_ent_and_type_rus\n",
            "2021-07-23 05:48:42.830 INFO in 'deeppavlov.core.data.utils'['utils'] at line 95: Downloading from http://files.deeppavlov.ai/kbqa/datasets/entity_and_type_detection_rus.pickle to /root/.deeppavlov/models/entity_and_type_detection_rus.pickle\n",
            "100%|██████████| 2.07M/2.07M [00:00<00:00, 3.02MB/s]\n",
            "2021-07-23 05:48:45.26 INFO in 'deeppavlov.core.data.utils'['utils'] at line 95: Downloading from http://files.deeppavlov.ai/deeppavlov_data/bert/multi_cased_L-12_H-768_A-12.zip to /root/.deeppavlov/downloads/multi_cased_L-12_H-768_A-12.zip\n",
            "100%|██████████| 663M/663M [01:25<00:00, 7.71MB/s]\n",
            "2021-07-23 05:50:11.821 INFO in 'deeppavlov.core.data.utils'['utils'] at line 272: Extracting /root/.deeppavlov/downloads/multi_cased_L-12_H-768_A-12.zip archive into /root/.deeppavlov/downloads/bert_models\n",
            "[nltk_data] Downloading package punkt to /root/nltk_data...\n",
            "[nltk_data]   Unzipping tokenizers/punkt.zip.\n",
            "[nltk_data] Downloading package stopwords to /root/nltk_data...\n",
            "[nltk_data]   Unzipping corpora/stopwords.zip.\n",
            "[nltk_data] Downloading package perluniprops to /root/nltk_data...\n",
            "[nltk_data]   Unzipping misc/perluniprops.zip.\n",
            "[nltk_data] Downloading package nonbreaking_prefixes to\n",
            "[nltk_data]     /root/nltk_data...\n",
            "[nltk_data]   Unzipping corpora/nonbreaking_prefixes.zip.\n"
          ],
          "name": "stderr"
        },
        {
          "output_type": "stream",
          "text": [
            "WARNING:tensorflow:From /usr/local/lib/python3.7/dist-packages/bert_dp/tokenization.py:125: The name tf.gfile.GFile is deprecated. Please use tf.io.gfile.GFile instead.\n",
            "\n"
          ],
          "name": "stdout"
        },
        {
          "output_type": "stream",
          "text": [
            "2021-07-23 05:50:23.519 INFO in 'deeppavlov.core.data.simple_vocab'['simple_vocab'] at line 115: [loading vocabulary from /root/.deeppavlov/models/ner_ent_and_type_rus/tag.dict]\n"
          ],
          "name": "stderr"
        },
        {
          "output_type": "stream",
          "text": [
            "WARNING:tensorflow:From /usr/local/lib/python3.7/dist-packages/deeppavlov/core/models/tf_model.py:37: The name tf.Session is deprecated. Please use tf.compat.v1.Session instead.\n",
            "\n",
            "WARNING:tensorflow:From /usr/local/lib/python3.7/dist-packages/deeppavlov/core/models/tf_model.py:222: The name tf.placeholder is deprecated. Please use tf.compat.v1.placeholder instead.\n",
            "\n",
            "WARNING:tensorflow:From /usr/local/lib/python3.7/dist-packages/deeppavlov/core/models/tf_model.py:222: The name tf.train.Optimizer is deprecated. Please use tf.compat.v1.train.Optimizer instead.\n",
            "\n",
            "WARNING:tensorflow:From /usr/local/lib/python3.7/dist-packages/deeppavlov/core/models/tf_model.py:193: The name tf.train.AdamOptimizer is deprecated. Please use tf.compat.v1.train.AdamOptimizer instead.\n",
            "\n",
            "WARNING:tensorflow:From /usr/local/lib/python3.7/dist-packages/deeppavlov/models/bert/bert_sequence_tagger.py:236: The name tf.ConfigProto is deprecated. Please use tf.compat.v1.ConfigProto instead.\n",
            "\n",
            "WARNING:tensorflow:From /usr/local/lib/python3.7/dist-packages/deeppavlov/models/bert/bert_sequence_tagger.py:314: The name tf.placeholder_with_default is deprecated. Please use tf.compat.v1.placeholder_with_default instead.\n",
            "\n",
            "WARNING:tensorflow:From /usr/local/lib/python3.7/dist-packages/bert_dp/modeling.py:178: The name tf.variable_scope is deprecated. Please use tf.compat.v1.variable_scope instead.\n",
            "\n",
            "WARNING:tensorflow:From /usr/local/lib/python3.7/dist-packages/bert_dp/modeling.py:418: The name tf.get_variable is deprecated. Please use tf.compat.v1.get_variable instead.\n",
            "\n",
            "WARNING:tensorflow:From /usr/local/lib/python3.7/dist-packages/bert_dp/modeling.py:499: The name tf.assert_less_equal is deprecated. Please use tf.compat.v1.assert_less_equal instead.\n",
            "\n",
            "WARNING:tensorflow:\n",
            "The TensorFlow contrib module will not be included in TensorFlow 2.0.\n",
            "For more information, please see:\n",
            "  * https://github.com/tensorflow/community/blob/master/rfcs/20180907-contrib-sunset.md\n",
            "  * https://github.com/tensorflow/addons\n",
            "  * https://github.com/tensorflow/io (for I/O related ops)\n",
            "If you depend on functionality not listed there, please file an issue.\n",
            "\n",
            "WARNING:tensorflow:From /usr/local/lib/python3.7/dist-packages/bert_dp/modeling.py:366: calling dropout (from tensorflow.python.ops.nn_ops) with keep_prob is deprecated and will be removed in a future version.\n",
            "Instructions for updating:\n",
            "Please use `rate` instead of `keep_prob`. Rate should be set to `rate = 1 - keep_prob`.\n",
            "WARNING:tensorflow:From /usr/local/lib/python3.7/dist-packages/bert_dp/modeling.py:680: dense (from tensorflow.python.layers.core) is deprecated and will be removed in a future version.\n",
            "Instructions for updating:\n",
            "Use keras.layers.Dense instead.\n",
            "WARNING:tensorflow:From /usr/local/lib/python3.7/dist-packages/tensorflow_core/python/layers/core.py:187: Layer.apply (from tensorflow.python.keras.engine.base_layer) is deprecated and will be removed in a future version.\n",
            "Instructions for updating:\n",
            "Please use `layer.__call__` method instead.\n",
            "WARNING:tensorflow:From /usr/local/lib/python3.7/dist-packages/bert_dp/modeling.py:283: The name tf.erf is deprecated. Please use tf.math.erf instead.\n",
            "\n",
            "WARNING:tensorflow:Variable *= will be deprecated. Use `var.assign(var * other)` if you want assignment to the variable value or `x = x * y` if you want a new python Tensor object.\n",
            "WARNING:tensorflow:From /usr/local/lib/python3.7/dist-packages/deeppavlov/models/bert/bert_sequence_tagger.py:75: where (from tensorflow.python.ops.array_ops) is deprecated and will be removed in a future version.\n",
            "Instructions for updating:\n",
            "Use tf.where in 2.0, which has the same broadcast rule as np.where\n",
            "WARNING:tensorflow:From /usr/local/lib/python3.7/dist-packages/deeppavlov/models/bert/bert_sequence_tagger.py:571: The name tf.losses.sparse_softmax_cross_entropy is deprecated. Please use tf.compat.v1.losses.sparse_softmax_cross_entropy instead.\n",
            "\n",
            "WARNING:tensorflow:From /usr/local/lib/python3.7/dist-packages/deeppavlov/core/models/tf_model.py:131: The name tf.get_collection is deprecated. Please use tf.compat.v1.get_collection instead.\n",
            "\n",
            "WARNING:tensorflow:From /usr/local/lib/python3.7/dist-packages/deeppavlov/core/models/tf_model.py:131: The name tf.GraphKeys is deprecated. Please use tf.compat.v1.GraphKeys instead.\n",
            "\n",
            "WARNING:tensorflow:From /usr/local/lib/python3.7/dist-packages/deeppavlov/core/models/tf_model.py:94: The name tf.global_variables is deprecated. Please use tf.compat.v1.global_variables instead.\n",
            "\n",
            "WARNING:tensorflow:From /usr/local/lib/python3.7/dist-packages/tensorflow_core/python/training/moving_averages.py:433: Variable.initialized_value (from tensorflow.python.ops.variables) is deprecated and will be removed in a future version.\n",
            "Instructions for updating:\n",
            "Use Variable.read_value. Variables in 2.X are initialized automatically both in eager and graph (inside tf.defun) contexts.\n",
            "WARNING:tensorflow:From /usr/local/lib/python3.7/dist-packages/deeppavlov/models/bert/bert_sequence_tagger.py:671: The name tf.assign is deprecated. Please use tf.compat.v1.assign instead.\n",
            "\n",
            "WARNING:tensorflow:From /usr/local/lib/python3.7/dist-packages/deeppavlov/models/bert/bert_sequence_tagger.py:244: The name tf.global_variables_initializer is deprecated. Please use tf.compat.v1.global_variables_initializer instead.\n",
            "\n",
            "WARNING:tensorflow:From /usr/local/lib/python3.7/dist-packages/deeppavlov/models/bert/bert_sequence_tagger.py:249: checkpoint_exists (from tensorflow.python.training.checkpoint_management) is deprecated and will be removed in a future version.\n",
            "Instructions for updating:\n",
            "Use standard file APIs to check for files with this prefix.\n"
          ],
          "name": "stdout"
        },
        {
          "output_type": "stream",
          "text": [
            "2021-07-23 05:50:52.362 INFO in 'deeppavlov.core.models.tf_model'['tf_model'] at line 51: [loading model from /root/.deeppavlov/models/ner_ent_and_type_rus/model]\n"
          ],
          "name": "stderr"
        },
        {
          "output_type": "stream",
          "text": [
            "WARNING:tensorflow:From /usr/local/lib/python3.7/dist-packages/deeppavlov/core/models/tf_model.py:54: The name tf.train.Saver is deprecated. Please use tf.compat.v1.train.Saver instead.\n",
            "\n",
            "INFO:tensorflow:Restoring parameters from /root/.deeppavlov/models/ner_ent_and_type_rus/model\n"
          ],
          "name": "stdout"
        }
      ]
    },
    {
      "cell_type": "code",
      "metadata": {
        "colab": {
          "base_uri": "https://localhost:8080/"
        },
        "id": "l_qsg9lRutoq",
        "outputId": "3d26e756-4071-4e20-9dfe-9b62d313520a"
      },
      "source": [
        "deeppavlov_ner(word_tag[:1000])"
      ],
      "execution_count": 23,
      "outputs": [
        {
          "output_type": "execute_result",
          "data": {
            "text/plain": [
              "[[('Комиссар', 'NO_PERSON'),\n",
              "  ('СЕ', 'NO_PERSON'),\n",
              "  ('критикует', 'NO_PERSON'),\n",
              "  ('ограничительную', 'NO_PERSON'),\n",
              "  ('политику', 'NO_PERSON'),\n",
              "  ('в', 'NO_PERSON'),\n",
              "  ('отношении', 'NO_PERSON'),\n",
              "  ('беженцев', 'NO_PERSON'),\n",
              "  ('в', 'NO_PERSON'),\n",
              "  ('европейских', 'NO_PERSON'),\n",
              "  ('странах', 'NO_PERSON'),\n",
              "  ('05/08/2008', 'NO_PERSON'),\n",
              "  ('10', 'NO_PERSON'),\n",
              "  (':', 'NO_PERSON'),\n",
              "  ('32', 'NO_PERSON'),\n",
              "  ('МОСКВА', 'NO_PERSON'),\n",
              "  (',', 'NO_PERSON'),\n",
              "  ('5', 'NO_PERSON'),\n",
              "  ('августа', 'NO_PERSON'),\n",
              "  ('/', 'NO_PERSON'),\n",
              "  ('Новости-Грузия', 'NO_PERSON'),\n",
              "  ('/', 'NO_PERSON'),\n",
              "  ('.', 'NO_PERSON'),\n",
              "  ('Проводимая', 'NO_PERSON'),\n",
              "  ('в', 'NO_PERSON'),\n",
              "  ('европейских', 'NO_PERSON'),\n",
              "  ('странах', 'NO_PERSON'),\n",
              "  ('ограничительная', 'NO_PERSON'),\n",
              "  ('политика', 'NO_PERSON'),\n",
              "  ('в', 'NO_PERSON'),\n",
              "  ('отношении', 'NO_PERSON'),\n",
              "  ('беженцев', 'NO_PERSON'),\n",
              "  ('нарушает', 'NO_PERSON'),\n",
              "  ('ряд', 'NO_PERSON'),\n",
              "  ('международных', 'NO_PERSON'),\n",
              "  ('стандартов', 'NO_PERSON'),\n",
              "  (',', 'NO_PERSON'),\n",
              "  ('в', 'NO_PERSON'),\n",
              "  ('частности', 'NO_PERSON'),\n",
              "  (',', 'NO_PERSON'),\n",
              "  ('право', 'NO_PERSON'),\n",
              "  ('на', 'NO_PERSON'),\n",
              "  ('воссоединение', 'NO_PERSON'),\n",
              "  ('семей', 'NO_PERSON'),\n",
              "  (',', 'NO_PERSON'),\n",
              "  ('заявляет', 'NO_PERSON'),\n",
              "  ('Комиссар', 'NO_PERSON'),\n",
              "  ('Совета', 'NO_PERSON'),\n",
              "  ('Европы', 'NO_PERSON'),\n",
              "  ('по', 'NO_PERSON'),\n",
              "  ('правам', 'NO_PERSON'),\n",
              "  ('человека', 'NO_PERSON'),\n",
              "  ('Томас', 'PERSON'),\n",
              "  ('Хаммарберг', 'PERSON'),\n",
              "  ('(', 'PERSON'),\n",
              "  ('Thomas', 'PERSON'),\n",
              "  ('Hammarberg', 'PERSON'),\n",
              "  (')', 'PERSON'),\n",
              "  ('в', 'NO_PERSON'),\n",
              "  ('размещенном', 'NO_PERSON'),\n",
              "  ('на', 'NO_PERSON'),\n",
              "  ('его', 'NO_PERSON'),\n",
              "  ('сайте', 'NO_PERSON'),\n",
              "  ('еженедельном', 'NO_PERSON'),\n",
              "  ('комментарии', 'NO_PERSON'),\n",
              "  ('.', 'NO_PERSON'),\n",
              "  ('\"', 'NO_PERSON'),\n",
              "  ('Ограничительная', 'NO_PERSON'),\n",
              "  ('политика', 'NO_PERSON'),\n",
              "  ('в', 'NO_PERSON'),\n",
              "  ('отношении', 'NO_PERSON'),\n",
              "  ('беженцев', 'NO_PERSON'),\n",
              "  ('в', 'NO_PERSON'),\n",
              "  ('европейских', 'NO_PERSON'),\n",
              "  ('странах', 'NO_PERSON'),\n",
              "  ('уменьшает', 'NO_PERSON'),\n",
              "  ('возможности', 'NO_PERSON'),\n",
              "  ('воссоединения', 'NO_PERSON'),\n",
              "  ('разделенных', 'NO_PERSON'),\n",
              "  ('семей', 'NO_PERSON'),\n",
              "  ('\"', 'NO_PERSON'),\n",
              "  (',', 'NO_PERSON'),\n",
              "  ('-', 'NO_PERSON'),\n",
              "  ('полагает', 'NO_PERSON'),\n",
              "  ('он', 'NO_PERSON'),\n",
              "  ('.', 'NO_PERSON'),\n",
              "  ('По', 'NO_PERSON'),\n",
              "  ('сообщению', 'NO_PERSON'),\n",
              "  ('РИА', 'NO_PERSON'),\n",
              "  ('Новости', 'NO_PERSON'),\n",
              "  (',', 'NO_PERSON'),\n",
              "  ('Хаммарберг', 'NO_PERSON'),\n",
              "  ('констатирует', 'NO_PERSON'),\n",
              "  (',', 'NO_PERSON'),\n",
              "  ('что', 'NO_PERSON'),\n",
              "  ('в', 'NO_PERSON'),\n",
              "  ('последнее', 'NO_PERSON'),\n",
              "  ('время', 'NO_PERSON'),\n",
              "  ('\"', 'NO_PERSON'),\n",
              "  ('правительства', 'NO_PERSON'),\n",
              "  ('попытались', 'NO_PERSON'),\n",
              "  ('ограничить', 'NO_PERSON'),\n",
              "  ('приезд', 'NO_PERSON'),\n",
              "  ('близких', 'NO_PERSON'),\n",
              "  ('родственников', 'NO_PERSON'),\n",
              "  ('к', 'NO_PERSON'),\n",
              "  ('тем', 'NO_PERSON'),\n",
              "  ('беженцам', 'NO_PERSON'),\n",
              "  (',', 'NO_PERSON'),\n",
              "  ('которые', 'NO_PERSON'),\n",
              "  ('уже', 'NO_PERSON'),\n",
              "  ('проживают', 'NO_PERSON'),\n",
              "  ('в', 'NO_PERSON'),\n",
              "  ('стране', 'NO_PERSON'),\n",
              "  ('\"', 'NO_PERSON'),\n",
              "  ('.', 'NO_PERSON'),\n",
              "  ('Комиссар', 'NO_PERSON'),\n",
              "  ('не', 'NO_PERSON'),\n",
              "  ('называет', 'NO_PERSON'),\n",
              "  ('конкретных', 'NO_PERSON'),\n",
              "  ('стран', 'NO_PERSON'),\n",
              "  (',', 'NO_PERSON'),\n",
              "  ('одновременно', 'NO_PERSON'),\n",
              "  ('отмечая', 'NO_PERSON'),\n",
              "  (',', 'NO_PERSON'),\n",
              "  ('что', 'NO_PERSON'),\n",
              "  ('в', 'NO_PERSON'),\n",
              "  ('ряде', 'NO_PERSON'),\n",
              "  ('случаев', 'NO_PERSON'),\n",
              "  ('подобная', 'NO_PERSON'),\n",
              "  ('линия', 'NO_PERSON'),\n",
              "  ('привела', 'NO_PERSON'),\n",
              "  ('\"', 'NO_PERSON'),\n",
              "  ('к', 'NO_PERSON'),\n",
              "  ('неоправданным', 'NO_PERSON'),\n",
              "  ('человеческим', 'NO_PERSON'),\n",
              "  ('страданиям', 'NO_PERSON'),\n",
              "  (',', 'NO_PERSON'),\n",
              "  ('когда', 'NO_PERSON'),\n",
              "  ('члены', 'NO_PERSON'),\n",
              "  ('семьи', 'NO_PERSON'),\n",
              "  (',', 'NO_PERSON'),\n",
              "  ('зависящие', 'NO_PERSON'),\n",
              "  ('друг', 'NO_PERSON'),\n",
              "  ('от', 'NO_PERSON'),\n",
              "  ('друга', 'NO_PERSON'),\n",
              "  (',', 'NO_PERSON'),\n",
              "  ('оказались', 'NO_PERSON'),\n",
              "  ('разделенными', 'NO_PERSON'),\n",
              "  ('\"', 'NO_PERSON'),\n",
              "  ('.', 'NO_PERSON'),\n",
              "  ('\"', 'NO_PERSON'),\n",
              "  ('Такая', 'NO_PERSON'),\n",
              "  ('политика', 'NO_PERSON'),\n",
              "  ('противоречит', 'NO_PERSON'),\n",
              "  ('праву', 'NO_PERSON'),\n",
              "  ('на', 'NO_PERSON'),\n",
              "  ('воссоединение', 'NO_PERSON'),\n",
              "  ('семей', 'NO_PERSON'),\n",
              "  (',', 'NO_PERSON'),\n",
              "  ('как', 'NO_PERSON'),\n",
              "  ('это', 'NO_PERSON'),\n",
              "  ('предусмотрено', 'NO_PERSON'),\n",
              "  ('некоторыми', 'NO_PERSON'),\n",
              "  ('международными', 'NO_PERSON'),\n",
              "  ('стандартами', 'NO_PERSON'),\n",
              "  ('\"', 'NO_PERSON'),\n",
              "  (',', 'NO_PERSON'),\n",
              "  ('-', 'NO_PERSON'),\n",
              "  ('замечает', 'NO_PERSON'),\n",
              "  ('он', 'NO_PERSON'),\n",
              "  ('.', 'NO_PERSON'),\n",
              "  ('Комиссар', 'NO_PERSON'),\n",
              "  ('Совета', 'NO_PERSON'),\n",
              "  ('Европы', 'NO_PERSON'),\n",
              "  ('призывает', 'NO_PERSON'),\n",
              "  ('страны', 'NO_PERSON'),\n",
              "  ('учитывать', 'NO_PERSON'),\n",
              "  ('в', 'NO_PERSON'),\n",
              "  ('политике', 'NO_PERSON'),\n",
              "  (',', 'NO_PERSON'),\n",
              "  ('проводимой', 'NO_PERSON'),\n",
              "  ('в', 'NO_PERSON'),\n",
              "  ('отношении', 'NO_PERSON'),\n",
              "  ('беженцев', 'NO_PERSON'),\n",
              "  (',', 'NO_PERSON'),\n",
              "  ('положения', 'NO_PERSON'),\n",
              "  ('о', 'NO_PERSON'),\n",
              "  ('семье', 'NO_PERSON'),\n",
              "  (',', 'NO_PERSON'),\n",
              "  ('принятые', 'NO_PERSON'),\n",
              "  ('в', 'NO_PERSON'),\n",
              "  ('рамках', 'NO_PERSON'),\n",
              "  ('ООН', 'NO_PERSON'),\n",
              "  ('и', 'NO_PERSON'),\n",
              "  ('ЕС', 'NO_PERSON'),\n",
              "  ('.', 'NO_PERSON'),\n",
              "  ('Комиссар', 'NO_PERSON'),\n",
              "  ('СЕ', 'NO_PERSON'),\n",
              "  ('критикует', 'NO_PERSON'),\n",
              "  ('ограничительную', 'NO_PERSON'),\n",
              "  ('политику', 'NO_PERSON'),\n",
              "  ('в', 'NO_PERSON'),\n",
              "  ('отношении', 'NO_PERSON'),\n",
              "  ('беженцев', 'NO_PERSON'),\n",
              "  ('в', 'NO_PERSON'),\n",
              "  ('европейских', 'NO_PERSON'),\n",
              "  ('странах', 'NO_PERSON'),\n",
              "  ('05/08/2008', 'NO_PERSON'),\n",
              "  ('10', 'NO_PERSON'),\n",
              "  (':', 'NO_PERSON'),\n",
              "  ('32', 'NO_PERSON'),\n",
              "  ('МОСКВА', 'NO_PERSON'),\n",
              "  (',', 'NO_PERSON'),\n",
              "  ('5', 'NO_PERSON'),\n",
              "  ('августа', 'NO_PERSON'),\n",
              "  ('/', 'NO_PERSON'),\n",
              "  ('Новости-Грузия', 'NO_PERSON'),\n",
              "  ('/', 'NO_PERSON'),\n",
              "  ('.', 'NO_PERSON'),\n",
              "  ('Проводимая', 'NO_PERSON'),\n",
              "  ('в', 'NO_PERSON'),\n",
              "  ('европейских', 'NO_PERSON'),\n",
              "  ('странах', 'NO_PERSON'),\n",
              "  ('ограничительная', 'NO_PERSON'),\n",
              "  ('политика', 'NO_PERSON'),\n",
              "  ('в', 'NO_PERSON'),\n",
              "  ('отношении', 'NO_PERSON'),\n",
              "  ('беженцев', 'NO_PERSON'),\n",
              "  ('нарушает', 'NO_PERSON'),\n",
              "  ('ряд', 'NO_PERSON'),\n",
              "  ('международных', 'NO_PERSON'),\n",
              "  ('стандартов', 'NO_PERSON'),\n",
              "  (',', 'NO_PERSON'),\n",
              "  ('в', 'NO_PERSON'),\n",
              "  ('частности', 'NO_PERSON'),\n",
              "  (',', 'NO_PERSON'),\n",
              "  ('право', 'NO_PERSON'),\n",
              "  ('на', 'NO_PERSON'),\n",
              "  ('воссоединение', 'NO_PERSON'),\n",
              "  ('семей', 'NO_PERSON'),\n",
              "  (',', 'NO_PERSON'),\n",
              "  ('заявляет', 'NO_PERSON'),\n",
              "  ('Комиссар', 'NO_PERSON'),\n",
              "  ('Совета', 'NO_PERSON'),\n",
              "  ('Европы', 'NO_PERSON'),\n",
              "  ('по', 'NO_PERSON'),\n",
              "  ('правам', 'NO_PERSON'),\n",
              "  ('человека', 'NO_PERSON'),\n",
              "  ('Томас', 'NO_PERSON'),\n",
              "  ('Хаммарберг', 'NO_PERSON'),\n",
              "  ('(', 'NO_PERSON'),\n",
              "  ('Thomas', 'NO_PERSON'),\n",
              "  ('Hammarberg', 'NO_PERSON'),\n",
              "  (')', 'NO_PERSON'),\n",
              "  ('в', 'NO_PERSON'),\n",
              "  ('размещенном', 'NO_PERSON'),\n",
              "  ('на', 'NO_PERSON'),\n",
              "  ('его', 'NO_PERSON'),\n",
              "  ('сайте', 'NO_PERSON'),\n",
              "  ('еженедельном', 'NO_PERSON'),\n",
              "  ('комментарии', 'NO_PERSON'),\n",
              "  ('.', 'NO_PERSON'),\n",
              "  ('\"', 'NO_PERSON'),\n",
              "  ('Ограничительная', 'NO_PERSON'),\n",
              "  ('политика', 'NO_PERSON'),\n",
              "  ('в', 'NO_PERSON'),\n",
              "  ('отношении', 'NO_PERSON'),\n",
              "  ('беженцев', 'NO_PERSON'),\n",
              "  ('в', 'NO_PERSON'),\n",
              "  ('европейских', 'NO_PERSON'),\n",
              "  ('странах', 'NO_PERSON'),\n",
              "  ('уменьшает', 'NO_PERSON'),\n",
              "  ('возможности', 'NO_PERSON'),\n",
              "  ('воссоединения', 'NO_PERSON'),\n",
              "  ('разделенных', 'NO_PERSON'),\n",
              "  ('семей', 'NO_PERSON'),\n",
              "  ('\"', 'NO_PERSON'),\n",
              "  (',', 'NO_PERSON'),\n",
              "  ('-', 'NO_PERSON'),\n",
              "  ('полагает', 'NO_PERSON'),\n",
              "  ('он', 'NO_PERSON'),\n",
              "  ('.', 'NO_PERSON'),\n",
              "  ('По', 'NO_PERSON'),\n",
              "  ('сообщению', 'NO_PERSON'),\n",
              "  ('РИА', 'NO_PERSON'),\n",
              "  ('Новости', 'NO_PERSON'),\n",
              "  (',', 'NO_PERSON'),\n",
              "  ('Хаммарберг', 'PERSON'),\n",
              "  ('констатирует', 'NO_PERSON'),\n",
              "  (',', 'NO_PERSON'),\n",
              "  ('что', 'NO_PERSON'),\n",
              "  ('в', 'NO_PERSON'),\n",
              "  ('последнее', 'NO_PERSON'),\n",
              "  ('время', 'NO_PERSON'),\n",
              "  ('\"', 'NO_PERSON'),\n",
              "  ('правительства', 'NO_PERSON'),\n",
              "  ('попытались', 'NO_PERSON'),\n",
              "  ('ограничить', 'NO_PERSON'),\n",
              "  ('приезд', 'NO_PERSON'),\n",
              "  ('близких', 'NO_PERSON'),\n",
              "  ('родственников', 'NO_PERSON'),\n",
              "  ('к', 'NO_PERSON'),\n",
              "  ('тем', 'NO_PERSON'),\n",
              "  ('беженцам', 'NO_PERSON'),\n",
              "  (',', 'NO_PERSON'),\n",
              "  ('которые', 'NO_PERSON'),\n",
              "  ('уже', 'NO_PERSON'),\n",
              "  ('проживают', 'NO_PERSON'),\n",
              "  ('в', 'NO_PERSON'),\n",
              "  ('стране', 'NO_PERSON'),\n",
              "  ('\"', 'NO_PERSON'),\n",
              "  ('.', 'NO_PERSON'),\n",
              "  ('Комиссар', 'NO_PERSON'),\n",
              "  ('не', 'NO_PERSON'),\n",
              "  ('называет', 'NO_PERSON'),\n",
              "  ('конкретных', 'NO_PERSON'),\n",
              "  ('стран', 'NO_PERSON'),\n",
              "  (',', 'NO_PERSON'),\n",
              "  ('одновременно', 'NO_PERSON'),\n",
              "  ('отмечая', 'NO_PERSON'),\n",
              "  (',', 'NO_PERSON'),\n",
              "  ('что', 'NO_PERSON'),\n",
              "  ('в', 'NO_PERSON'),\n",
              "  ('ряде', 'NO_PERSON'),\n",
              "  ('случаев', 'NO_PERSON'),\n",
              "  ('подобная', 'NO_PERSON'),\n",
              "  ('линия', 'NO_PERSON'),\n",
              "  ('привела', 'NO_PERSON'),\n",
              "  ('\"', 'NO_PERSON'),\n",
              "  ('к', 'NO_PERSON'),\n",
              "  ('неоправданным', 'NO_PERSON'),\n",
              "  ('человеческим', 'NO_PERSON'),\n",
              "  ('страданиям', 'NO_PERSON'),\n",
              "  (',', 'NO_PERSON'),\n",
              "  ('когда', 'NO_PERSON'),\n",
              "  ('члены', 'NO_PERSON'),\n",
              "  ('семьи', 'NO_PERSON'),\n",
              "  (',', 'NO_PERSON'),\n",
              "  ('зависящие', 'NO_PERSON'),\n",
              "  ('друг', 'NO_PERSON'),\n",
              "  ('от', 'NO_PERSON'),\n",
              "  ('друга', 'NO_PERSON'),\n",
              "  (',', 'NO_PERSON'),\n",
              "  ('оказались', 'NO_PERSON'),\n",
              "  ('разделенными', 'NO_PERSON'),\n",
              "  ('\"', 'NO_PERSON'),\n",
              "  ('.', 'NO_PERSON'),\n",
              "  ('\"', 'NO_PERSON'),\n",
              "  ('Такая', 'NO_PERSON'),\n",
              "  ('политика', 'NO_PERSON'),\n",
              "  ('противоречит', 'NO_PERSON'),\n",
              "  ('праву', 'NO_PERSON'),\n",
              "  ('на', 'NO_PERSON'),\n",
              "  ('воссоединение', 'NO_PERSON'),\n",
              "  ('семей', 'NO_PERSON'),\n",
              "  (',', 'NO_PERSON'),\n",
              "  ('как', 'NO_PERSON'),\n",
              "  ('это', 'NO_PERSON'),\n",
              "  ('предусмотрено', 'NO_PERSON'),\n",
              "  ('некоторыми', 'NO_PERSON'),\n",
              "  ('международными', 'NO_PERSON'),\n",
              "  ('стандартами', 'NO_PERSON'),\n",
              "  ('\"', 'NO_PERSON'),\n",
              "  (',', 'NO_PERSON'),\n",
              "  ('-', 'NO_PERSON'),\n",
              "  ('замечает', 'NO_PERSON'),\n",
              "  ('он', 'NO_PERSON'),\n",
              "  ('.', 'NO_PERSON'),\n",
              "  ('Комиссар', 'NO_PERSON'),\n",
              "  ('Совета', 'NO_PERSON'),\n",
              "  ('Европы', 'NO_PERSON'),\n",
              "  ('призывает', 'NO_PERSON'),\n",
              "  ('страны', 'NO_PERSON'),\n",
              "  ('учитывать', 'NO_PERSON'),\n",
              "  ('в', 'NO_PERSON'),\n",
              "  ('политике', 'NO_PERSON'),\n",
              "  (',', 'NO_PERSON'),\n",
              "  ('проводимой', 'NO_PERSON'),\n",
              "  ('в', 'NO_PERSON'),\n",
              "  ('отношении', 'NO_PERSON'),\n",
              "  ('беженцев', 'NO_PERSON'),\n",
              "  (',', 'NO_PERSON'),\n",
              "  ('положения', 'NO_PERSON'),\n",
              "  ('о', 'NO_PERSON'),\n",
              "  ('семье', 'NO_PERSON'),\n",
              "  (',', 'NO_PERSON'),\n",
              "  ('принятые', 'NO_PERSON'),\n",
              "  ('в', 'NO_PERSON'),\n",
              "  ('рамках', 'NO_PERSON'),\n",
              "  ('ООН', 'NO_PERSON'),\n",
              "  ('и', 'NO_PERSON'),\n",
              "  ('ЕС', 'NO_PERSON'),\n",
              "  ('.', 'NO_PERSON'),\n",
              "  ('4', 'NO_PERSON'),\n",
              "  ('октября', 'NO_PERSON'),\n",
              "  ('назначены', 'NO_PERSON'),\n",
              "  ('очередные', 'NO_PERSON'),\n",
              "  ('выборы', 'NO_PERSON'),\n",
              "  ('Верховного', 'NO_PERSON'),\n",
              "  ('Совета', 'NO_PERSON'),\n",
              "  ('Аджарской', 'NO_PERSON'),\n",
              "  ('АР', 'NO_PERSON'),\n",
              "  ('По', 'NO_PERSON'),\n",
              "  ('распоряжению', 'NO_PERSON'),\n",
              "  ('президента', 'NO_PERSON'),\n",
              "  ('Грузии', 'NO_PERSON'),\n",
              "  ('Михаила', 'PERSON'),\n",
              "  ('Саакашвили', 'PERSON'),\n",
              "  ('4', 'NO_PERSON'),\n",
              "  ('октября', 'NO_PERSON'),\n",
              "  ('2008', 'NO_PERSON'),\n",
              "  ('года', 'NO_PERSON'),\n",
              "  ('назначены', 'NO_PERSON'),\n",
              "  ('очередные', 'NO_PERSON'),\n",
              "  ('выборы', 'NO_PERSON'),\n",
              "  ('Верховного', 'NO_PERSON'),\n",
              "  ('Совета', 'NO_PERSON'),\n",
              "  ('Аджарской', 'NO_PERSON'),\n",
              "  ('АР', 'NO_PERSON'),\n",
              "  ('.', 'NO_PERSON'),\n",
              "  ('Об', 'NO_PERSON'),\n",
              "  ('этом', 'NO_PERSON'),\n",
              "  ('Новости-Грузия', 'NO_PERSON'),\n",
              "  ('сообщили', 'NO_PERSON'),\n",
              "  ('в', 'NO_PERSON'),\n",
              "  ('пресс-службе', 'NO_PERSON'),\n",
              "  ('администрации', 'NO_PERSON'),\n",
              "  ('президента', 'NO_PERSON'),\n",
              "  ('во', 'NO_PERSON'),\n",
              "  ('вторник', 'NO_PERSON'),\n",
              "  ('.', 'NO_PERSON'),\n",
              "  ('Выборы', 'NO_PERSON'),\n",
              "  ('Верховного', 'NO_PERSON'),\n",
              "  ('совета', 'NO_PERSON'),\n",
              "  ('Аджарской', 'NO_PERSON'),\n",
              "  ('автономной', 'NO_PERSON'),\n",
              "  ('республики', 'NO_PERSON'),\n",
              "  ('назначены', 'NO_PERSON'),\n",
              "  ('в', 'NO_PERSON'),\n",
              "  ('соответствии', 'NO_PERSON'),\n",
              "  ('с', 'NO_PERSON'),\n",
              "  ('241-ой', 'NO_PERSON'),\n",
              "  ('статьей', 'NO_PERSON'),\n",
              "  ('и', 'NO_PERSON'),\n",
              "  ('4-м', 'NO_PERSON'),\n",
              "  ('пунктом', 'NO_PERSON'),\n",
              "  ('10-й', 'NO_PERSON'),\n",
              "  ('статьи', 'NO_PERSON'),\n",
              "  ('Конституционного', 'NO_PERSON'),\n",
              "  ('закона', 'NO_PERSON'),\n",
              "  ('Грузии', 'NO_PERSON'),\n",
              "  ('<', 'NO_PERSON'),\n",
              "  ('О', 'NO_PERSON'),\n",
              "  ('статусе', 'NO_PERSON'),\n",
              "  ('Аджарской', 'NO_PERSON'),\n",
              "  ('автономной', 'NO_PERSON'),\n",
              "  ('республики', 'NO_PERSON'),\n",
              "  ('>', 'NO_PERSON'),\n",
              "  ('.', 'NO_PERSON'),\n",
              "  ('Следственное', 'NO_PERSON'),\n",
              "  ('управление', 'NO_PERSON'),\n",
              "  ('при', 'NO_PERSON'),\n",
              "  ('прокуратуре', 'NO_PERSON'),\n",
              "  ('требует', 'NO_PERSON'),\n",
              "  ('наказать', 'NO_PERSON'),\n",
              "  ('премьера', 'NO_PERSON'),\n",
              "  ('Якутии', 'NO_PERSON'),\n",
              "  ('Следственное', 'NO_PERSON'),\n",
              "  ('управление', 'NO_PERSON'),\n",
              "  ('Следственного', 'NO_PERSON'),\n",
              "  ('комитета', 'NO_PERSON'),\n",
              "  ('при', 'NO_PERSON'),\n",
              "  ('прокуратуре', 'NO_PERSON'),\n",
              "  ('Российской', 'NO_PERSON'),\n",
              "  ('Федерации', 'NO_PERSON'),\n",
              "  ('по', 'NO_PERSON'),\n",
              "  ('Якутии', 'NO_PERSON'),\n",
              "  ('обжаловало', 'NO_PERSON'),\n",
              "  ('решение', 'NO_PERSON'),\n",
              "  ('прокуратуры', 'NO_PERSON'),\n",
              "  ('республики', 'NO_PERSON'),\n",
              "  ('.', 'NO_PERSON'),\n",
              "  ('Ранее', 'NO_PERSON'),\n",
              "  ('прокуратура', 'NO_PERSON'),\n",
              "  ('отказала', 'NO_PERSON'),\n",
              "  ('в', 'NO_PERSON'),\n",
              "  ('возбуждении', 'NO_PERSON'),\n",
              "  ('уголовного', 'NO_PERSON'),\n",
              "  ('дела', 'NO_PERSON'),\n",
              "  ('в', 'NO_PERSON'),\n",
              "  ('отношении', 'NO_PERSON'),\n",
              "  ('председателя', 'NO_PERSON'),\n",
              "  ('правительства', 'NO_PERSON'),\n",
              "  ('республики', 'NO_PERSON'),\n",
              "  ('Егора', 'PERSON'),\n",
              "  ('Борисова', 'PERSON'),\n",
              "  (',', 'NO_PERSON'),\n",
              "  ('подозреваемого', 'NO_PERSON'),\n",
              "  ('в', 'NO_PERSON'),\n",
              "  ('хищении', 'NO_PERSON'),\n",
              "  ('30', 'NO_PERSON'),\n",
              "  ('млн', 'NO_PERSON'),\n",
              "  ('руб', 'NO_PERSON'),\n",
              "  ('.', 'NO_PERSON'),\n",
              "  ('Как', 'NO_PERSON'),\n",
              "  ('сообщили', 'NO_PERSON'),\n",
              "  ('в', 'NO_PERSON'),\n",
              "  ('четверг', 'NO_PERSON'),\n",
              "  ('корреспонденту', 'NO_PERSON'),\n",
              "  ('Агентства', 'NO_PERSON'),\n",
              "  ('национальных', 'NO_PERSON'),\n",
              "  ('новостей', 'NO_PERSON'),\n",
              "  ('в', 'NO_PERSON'),\n",
              "  ('следственном', 'NO_PERSON'),\n",
              "  ('управлении', 'NO_PERSON'),\n",
              "  (',', 'NO_PERSON'),\n",
              "  ('еще', 'NO_PERSON'),\n",
              "  ('16', 'NO_PERSON'),\n",
              "  ('мая', 'NO_PERSON'),\n",
              "  ('2007', 'NO_PERSON'),\n",
              "  ('г', 'NO_PERSON'),\n",
              "  ('.', 'NO_PERSON'),\n",
              "  ('прокуратурой', 'NO_PERSON'),\n",
              "  ('Якутии', 'NO_PERSON'),\n",
              "  ('было', 'NO_PERSON'),\n",
              "  ('возбуждено', 'NO_PERSON'),\n",
              "  ('уголовное', 'NO_PERSON'),\n",
              "  ('дело', 'NO_PERSON'),\n",
              "  ('№', 'NO_PERSON'),\n",
              "  ('66144', 'NO_PERSON'),\n",
              "  ('по', 'NO_PERSON'),\n",
              "  ('признакам', 'NO_PERSON'),\n",
              "  ('преступления', 'NO_PERSON'),\n",
              "  (',', 'NO_PERSON'),\n",
              "  ('предусмотренного', 'NO_PERSON'),\n",
              "  ('ч', 'NO_PERSON'),\n",
              "  ('.', 'NO_PERSON'),\n",
              "  ('4', 'NO_PERSON'),\n",
              "  ('ст', 'NO_PERSON'),\n",
              "  ('.', 'NO_PERSON'),\n",
              "  ('159', 'NO_PERSON'),\n",
              "  ('УК', 'NO_PERSON'),\n",
              "  ('РФ', 'NO_PERSON'),\n",
              "  ('по', 'NO_PERSON'),\n",
              "  ('факту', 'NO_PERSON'),\n",
              "  ('причинения', 'NO_PERSON'),\n",
              "  ('имущественного', 'NO_PERSON'),\n",
              "  ('ущерба', 'NO_PERSON'),\n",
              "  ('в', 'NO_PERSON'),\n",
              "  ('размере', 'NO_PERSON'),\n",
              "  ('30', 'NO_PERSON'),\n",
              "  ('млн', 'NO_PERSON'),\n",
              "  ('руб', 'NO_PERSON'),\n",
              "  ('.', 'NO_PERSON'),\n",
              "  ('государственному', 'NO_PERSON'),\n",
              "  ('унитарному', 'NO_PERSON'),\n",
              "  ('предприятию', 'NO_PERSON'),\n",
              "  ('<', 'NO_PERSON'),\n",
              "  ('Дирекция', 'NO_PERSON'),\n",
              "  ('по', 'NO_PERSON'),\n",
              "  ('строительству', 'NO_PERSON'),\n",
              "  ('железной', 'NO_PERSON'),\n",
              "  ('дороги', 'NO_PERSON'),\n",
              "  ('<', 'NO_PERSON'),\n",
              "  ('Беркакит-Томмот-Якутск', 'NO_PERSON'),\n",
              "  ('>', 'NO_PERSON'),\n",
              "  ('.', 'NO_PERSON'),\n",
              "  ('<', 'NO_PERSON'),\n",
              "  ('В', 'NO_PERSON'),\n",
              "  ('ходе', 'NO_PERSON'),\n",
              "  ('расследования', 'NO_PERSON'),\n",
              "  ('данного', 'NO_PERSON'),\n",
              "  ('уголовного', 'NO_PERSON'),\n",
              "  ('дела', 'NO_PERSON'),\n",
              "  ('собраны', 'NO_PERSON'),\n",
              "  ('достаточные', 'NO_PERSON'),\n",
              "  ('данные', 'NO_PERSON'),\n",
              "  (',', 'NO_PERSON'),\n",
              "  ('свидетельствующие', 'NO_PERSON'),\n",
              "  ('о', 'NO_PERSON'),\n",
              "  ('причастности', 'NO_PERSON'),\n",
              "  ('к', 'NO_PERSON'),\n",
              "  ('причинению', 'NO_PERSON'),\n",
              "  ('ущерба', 'NO_PERSON'),\n",
              "  ('данному', 'NO_PERSON'),\n",
              "  ('предприятию', 'NO_PERSON'),\n",
              "  ('председателя', 'NO_PERSON'),\n",
              "  ('правительства', 'NO_PERSON'),\n",
              "  ('Республики', 'NO_PERSON'),\n",
              "  ('Саха', 'NO_PERSON'),\n",
              "  ('(', 'NO_PERSON'),\n",
              "  ('Якутия', 'NO_PERSON'),\n",
              "  (')', 'NO_PERSON'),\n",
              "  ('Егора', 'NO_PERSON'),\n",
              "  ('Борисова', 'NO_PERSON'),\n",
              "  ('>', 'NO_PERSON'),\n",
              "  (',', 'NO_PERSON'),\n",
              "  ('-', 'NO_PERSON'),\n",
              "  ('говорится', 'NO_PERSON'),\n",
              "  ('в', 'NO_PERSON'),\n",
              "  ('официальном', 'NO_PERSON'),\n",
              "  ('заявлении', 'NO_PERSON'),\n",
              "  ('следственного', 'NO_PERSON'),\n",
              "  ('управления', 'NO_PERSON'),\n",
              "  ('.', 'NO_PERSON'),\n",
              "  ('Для', 'NO_PERSON'),\n",
              "  ('установления', 'NO_PERSON'),\n",
              "  ('процессуальным', 'NO_PERSON'),\n",
              "  ('путем', 'NO_PERSON'),\n",
              "  ('всех', 'NO_PERSON'),\n",
              "  ('обстоятельств', 'NO_PERSON'),\n",
              "  (',', 'NO_PERSON'),\n",
              "  ('касающихся', 'NO_PERSON'),\n",
              "  ('причинения', 'NO_PERSON'),\n",
              "  ('ущерба', 'NO_PERSON'),\n",
              "  (',', 'NO_PERSON'),\n",
              "  ('4', 'NO_PERSON'),\n",
              "  ('августа', 'NO_PERSON'),\n",
              "  ('2008', 'NO_PERSON'),\n",
              "  ('года', 'NO_PERSON'),\n",
              "  ('Следственное', 'NO_PERSON'),\n",
              "  ('управление', 'NO_PERSON'),\n",
              "  ('Следственного', 'NO_PERSON'),\n",
              "  ('комитета', 'NO_PERSON'),\n",
              "  ('при', 'NO_PERSON'),\n",
              "  ('прокуратуре', 'NO_PERSON'),\n",
              "  ('Российской', 'NO_PERSON'),\n",
              "  ('Федерации', 'NO_PERSON'),\n",
              "  ('по', 'NO_PERSON'),\n",
              "  ('Якутии', 'NO_PERSON'),\n",
              "  ('возбудило', 'NO_PERSON'),\n",
              "  ('уголовное', 'NO_PERSON'),\n",
              "  ('дело', 'NO_PERSON'),\n",
              "  ('№', 'NO_PERSON'),\n",
              "  ('49234', 'NO_PERSON'),\n",
              "  ('в', 'NO_PERSON'),\n",
              "  ('отношении', 'NO_PERSON'),\n",
              "  ('Егора', 'NO_PERSON'),\n",
              "  ('Борисова', 'NO_PERSON'),\n",
              "  ('по', 'NO_PERSON'),\n",
              "  ('признакам', 'NO_PERSON'),\n",
              "  ('составов', 'NO_PERSON'),\n",
              "  ('преступлений', 'NO_PERSON'),\n",
              "  (',', 'NO_PERSON'),\n",
              "  ('предусмотренных', 'NO_PERSON'),\n",
              "  ('ч', 'NO_PERSON'),\n",
              "  ('.', 'NO_PERSON'),\n",
              "  ('2', 'NO_PERSON'),\n",
              "  ('ст', 'NO_PERSON'),\n",
              "  ('.', 'NO_PERSON'),\n",
              "  ('286', 'NO_PERSON'),\n",
              "  (',', 'NO_PERSON'),\n",
              "  ('ч', 'NO_PERSON'),\n",
              "  ('.', 'NO_PERSON'),\n",
              "  ('5', 'NO_PERSON'),\n",
              "  ('ст', 'NO_PERSON'),\n",
              "  ('.', 'NO_PERSON'),\n",
              "  ('33', 'NO_PERSON'),\n",
              "  (',', 'NO_PERSON'),\n",
              "  ('ч', 'NO_PERSON'),\n",
              "  ('.', 'NO_PERSON'),\n",
              "  ('4', 'NO_PERSON'),\n",
              "  ('ст', 'NO_PERSON'),\n",
              "  ('.', 'NO_PERSON'),\n",
              "  ('160', 'NO_PERSON'),\n",
              "  ('и', 'NO_PERSON'),\n",
              "  ('ч', 'NO_PERSON'),\n",
              "  ('.', 'NO_PERSON'),\n",
              "  ('2', 'NO_PERSON'),\n",
              "  ('ст', 'NO_PERSON'),\n",
              "  ('.', 'NO_PERSON'),\n",
              "  ('286', 'NO_PERSON'),\n",
              "  ('УК', 'NO_PERSON'),\n",
              "  ('РФ', 'NO_PERSON'),\n",
              "  ('.', 'NO_PERSON'),\n",
              "  ('12', 'NO_PERSON'),\n",
              "  ('августа', 'NO_PERSON'),\n",
              "  ('прокуратура', 'NO_PERSON'),\n",
              "  ('Якутии', 'NO_PERSON'),\n",
              "  ('постановление', 'NO_PERSON'),\n",
              "  ('о', 'NO_PERSON'),\n",
              "  ('возбуждении', 'NO_PERSON'),\n",
              "  ('уголовного', 'NO_PERSON'),\n",
              "  ('дела', 'NO_PERSON'),\n",
              "  ('№', 'NO_PERSON'),\n",
              "  ('49234', 'NO_PERSON'),\n",
              "  ('отменила', 'NO_PERSON'),\n",
              "  ('.', 'NO_PERSON'),\n",
              "  ('В', 'NO_PERSON'),\n",
              "  ('связи', 'NO_PERSON'),\n",
              "  ('с', 'NO_PERSON'),\n",
              "  ('этим', 'NO_PERSON'),\n",
              "  ('следственное', 'NO_PERSON'),\n",
              "  ('управление', 'NO_PERSON'),\n",
              "  ('повторно', 'NO_PERSON'),\n",
              "  ('обратилось', 'NO_PERSON'),\n",
              "  ('к', 'NO_PERSON'),\n",
              "  ('прокурору', 'NO_PERSON'),\n",
              "  ('республики', 'NO_PERSON'),\n",
              "  ('Анатолию', 'NO_PERSON'),\n",
              "  ('Подласенко', 'NO_PERSON'),\n",
              "  ('с', 'NO_PERSON'),\n",
              "  ('требованием', 'NO_PERSON'),\n",
              "  ('о', 'NO_PERSON'),\n",
              "  ('возбуждении', 'NO_PERSON'),\n",
              "  ('уголовного', 'NO_PERSON'),\n",
              "  ('дела', 'NO_PERSON'),\n",
              "  ('.', 'NO_PERSON'),\n",
              "  ('Следственное', 'NO_PERSON'),\n",
              "  ('управление', 'NO_PERSON'),\n",
              "  ('при', 'NO_PERSON'),\n",
              "  ('прокуратуре', 'NO_PERSON'),\n",
              "  ('требует', 'NO_PERSON'),\n",
              "  ('наказать', 'NO_PERSON'),\n",
              "  ('премьера', 'NO_PERSON'),\n",
              "  ('Якутии', 'NO_PERSON'),\n",
              "  ('Следственное', 'NO_PERSON'),\n",
              "  ('управление', 'NO_PERSON'),\n",
              "  ('Следственного', 'NO_PERSON'),\n",
              "  ('комитета', 'NO_PERSON'),\n",
              "  ('при', 'NO_PERSON'),\n",
              "  ('прокуратуре', 'NO_PERSON'),\n",
              "  ('Российской', 'NO_PERSON'),\n",
              "  ('Федерации', 'NO_PERSON'),\n",
              "  ('по', 'NO_PERSON'),\n",
              "  ('Якутии', 'NO_PERSON'),\n",
              "  ('обжаловало', 'NO_PERSON'),\n",
              "  ('решение', 'NO_PERSON'),\n",
              "  ('прокуратуры', 'NO_PERSON'),\n",
              "  ('республики', 'NO_PERSON'),\n",
              "  ('.', 'NO_PERSON'),\n",
              "  ('Ранее', 'NO_PERSON'),\n",
              "  ('прокуратура', 'NO_PERSON'),\n",
              "  ('отказала', 'NO_PERSON'),\n",
              "  ('в', 'NO_PERSON'),\n",
              "  ('возбуждении', 'NO_PERSON'),\n",
              "  ('уголовного', 'NO_PERSON'),\n",
              "  ('дела', 'NO_PERSON'),\n",
              "  ('в', 'NO_PERSON'),\n",
              "  ('отношении', 'NO_PERSON'),\n",
              "  ('председателя', 'NO_PERSON'),\n",
              "  ('правительства', 'NO_PERSON'),\n",
              "  ('республики', 'NO_PERSON'),\n",
              "  ('Егора', 'NO_PERSON'),\n",
              "  ('Борисова', 'NO_PERSON'),\n",
              "  (',', 'NO_PERSON'),\n",
              "  ('подозреваемого', 'NO_PERSON'),\n",
              "  ('в', 'NO_PERSON'),\n",
              "  ('хищении', 'NO_PERSON'),\n",
              "  ('30', 'NO_PERSON'),\n",
              "  ('млн', 'NO_PERSON'),\n",
              "  ('руб', 'NO_PERSON'),\n",
              "  ('.', 'NO_PERSON'),\n",
              "  ('Как', 'NO_PERSON'),\n",
              "  ('сообщили', 'NO_PERSON'),\n",
              "  ('в', 'NO_PERSON'),\n",
              "  ('четверг', 'NO_PERSON'),\n",
              "  ('корреспонденту', 'NO_PERSON'),\n",
              "  ('Агентства', 'NO_PERSON'),\n",
              "  ('национальных', 'NO_PERSON'),\n",
              "  ('новостей', 'NO_PERSON'),\n",
              "  ('в', 'NO_PERSON'),\n",
              "  ('следственном', 'NO_PERSON'),\n",
              "  ('управлении', 'NO_PERSON'),\n",
              "  (',', 'NO_PERSON'),\n",
              "  ('еще', 'NO_PERSON'),\n",
              "  ('16', 'NO_PERSON'),\n",
              "  ('мая', 'NO_PERSON'),\n",
              "  ('2007', 'NO_PERSON'),\n",
              "  ('г', 'NO_PERSON'),\n",
              "  ('.', 'NO_PERSON'),\n",
              "  ('прокуратурой', 'NO_PERSON'),\n",
              "  ('Якутии', 'NO_PERSON'),\n",
              "  ('было', 'NO_PERSON'),\n",
              "  ('возбуждено', 'NO_PERSON'),\n",
              "  ('уголовное', 'NO_PERSON'),\n",
              "  ('дело', 'NO_PERSON'),\n",
              "  ('№', 'NO_PERSON'),\n",
              "  ('66144', 'NO_PERSON'),\n",
              "  ('по', 'NO_PERSON'),\n",
              "  ('признакам', 'NO_PERSON'),\n",
              "  ('преступления', 'NO_PERSON'),\n",
              "  (',', 'NO_PERSON'),\n",
              "  ('предусмотренного', 'NO_PERSON'),\n",
              "  ('ч', 'NO_PERSON'),\n",
              "  ('.', 'NO_PERSON'),\n",
              "  ('4', 'NO_PERSON'),\n",
              "  ('ст', 'NO_PERSON'),\n",
              "  ('.', 'NO_PERSON'),\n",
              "  ('159', 'NO_PERSON'),\n",
              "  ('УК', 'NO_PERSON'),\n",
              "  ('РФ', 'NO_PERSON'),\n",
              "  ('по', 'NO_PERSON'),\n",
              "  ('факту', 'NO_PERSON'),\n",
              "  ('причинения', 'NO_PERSON'),\n",
              "  ('имущественного', 'NO_PERSON'),\n",
              "  ('ущерба', 'NO_PERSON'),\n",
              "  ('в', 'NO_PERSON'),\n",
              "  ('размере', 'NO_PERSON'),\n",
              "  ('30', 'NO_PERSON'),\n",
              "  ('млн', 'NO_PERSON'),\n",
              "  ('руб', 'NO_PERSON'),\n",
              "  ('.', 'NO_PERSON'),\n",
              "  ('государственному', 'NO_PERSON'),\n",
              "  ('унитарному', 'NO_PERSON'),\n",
              "  ('предприятию', 'NO_PERSON'),\n",
              "  ('<', 'NO_PERSON'),\n",
              "  ('Дирекция', 'NO_PERSON'),\n",
              "  ('по', 'NO_PERSON'),\n",
              "  ('строительству', 'NO_PERSON'),\n",
              "  ('железной', 'NO_PERSON'),\n",
              "  ('дороги', 'NO_PERSON'),\n",
              "  ('<', 'NO_PERSON'),\n",
              "  ('Беркакит-Томмот-Якутск', 'NO_PERSON'),\n",
              "  ('>', 'NO_PERSON'),\n",
              "  ('.', 'NO_PERSON'),\n",
              "  ('<', 'NO_PERSON'),\n",
              "  ('В', 'NO_PERSON'),\n",
              "  ('ходе', 'NO_PERSON'),\n",
              "  ('расследования', 'NO_PERSON'),\n",
              "  ('данного', 'NO_PERSON'),\n",
              "  ('уголовного', 'NO_PERSON'),\n",
              "  ('дела', 'NO_PERSON'),\n",
              "  ('собраны', 'NO_PERSON'),\n",
              "  ('достаточные', 'NO_PERSON'),\n",
              "  ('данные', 'NO_PERSON'),\n",
              "  (',', 'NO_PERSON'),\n",
              "  ('свидетельствующие', 'NO_PERSON'),\n",
              "  ('о', 'NO_PERSON'),\n",
              "  ('причастности', 'NO_PERSON'),\n",
              "  ('к', 'NO_PERSON'),\n",
              "  ('причинению', 'NO_PERSON'),\n",
              "  ('ущерба', 'NO_PERSON'),\n",
              "  ('данному', 'NO_PERSON'),\n",
              "  ('предприятию', 'NO_PERSON'),\n",
              "  ('председателя', 'NO_PERSON'),\n",
              "  ('правительства', 'NO_PERSON'),\n",
              "  ('Республики', 'NO_PERSON'),\n",
              "  ('Саха', 'NO_PERSON'),\n",
              "  ('(', 'NO_PERSON'),\n",
              "  ('Якутия', 'NO_PERSON'),\n",
              "  (')', 'NO_PERSON'),\n",
              "  ('Егора', 'PERSON'),\n",
              "  ('Борисова', 'PERSON'),\n",
              "  ('>', 'NO_PERSON'),\n",
              "  (',', 'NO_PERSON'),\n",
              "  ('-', 'NO_PERSON'),\n",
              "  ('говорится', 'NO_PERSON'),\n",
              "  ('в', 'NO_PERSON'),\n",
              "  ('официальном', 'NO_PERSON'),\n",
              "  ('заявлении', 'NO_PERSON'),\n",
              "  ('следственного', 'NO_PERSON'),\n",
              "  ('управления', 'NO_PERSON'),\n",
              "  ('.', 'NO_PERSON'),\n",
              "  ('Для', 'NO_PERSON'),\n",
              "  ('установления', 'NO_PERSON'),\n",
              "  ('процессуальным', 'NO_PERSON'),\n",
              "  ('путем', 'NO_PERSON'),\n",
              "  ('всех', 'NO_PERSON'),\n",
              "  ('обстоятельств', 'NO_PERSON'),\n",
              "  (',', 'NO_PERSON'),\n",
              "  ('касающихся', 'NO_PERSON'),\n",
              "  ('причинения', 'NO_PERSON'),\n",
              "  ('ущерба', 'NO_PERSON'),\n",
              "  (',', 'NO_PERSON'),\n",
              "  ('4', 'NO_PERSON'),\n",
              "  ('августа', 'NO_PERSON'),\n",
              "  ('2008', 'NO_PERSON'),\n",
              "  ('года', 'NO_PERSON'),\n",
              "  ('Следственное', 'NO_PERSON'),\n",
              "  ('управление', 'NO_PERSON'),\n",
              "  ('Следственного', 'NO_PERSON'),\n",
              "  ('комитета', 'NO_PERSON'),\n",
              "  ('при', 'NO_PERSON'),\n",
              "  ('прокуратуре', 'NO_PERSON'),\n",
              "  ('Российской', 'NO_PERSON'),\n",
              "  ('Федерации', 'NO_PERSON'),\n",
              "  ('по', 'NO_PERSON'),\n",
              "  ('Якутии', 'NO_PERSON'),\n",
              "  ('возбудило', 'NO_PERSON'),\n",
              "  ('уголовное', 'NO_PERSON'),\n",
              "  ('дело', 'NO_PERSON'),\n",
              "  ('№', 'NO_PERSON'),\n",
              "  ('49234', 'NO_PERSON'),\n",
              "  ('в', 'NO_PERSON'),\n",
              "  ('отношении', 'NO_PERSON'),\n",
              "  ('Егора', 'NO_PERSON'),\n",
              "  ('Борисова', 'NO_PERSON'),\n",
              "  ('по', 'NO_PERSON'),\n",
              "  ('признакам', 'NO_PERSON'),\n",
              "  ('составов', 'NO_PERSON'),\n",
              "  ('преступлений', 'NO_PERSON'),\n",
              "  (',', 'NO_PERSON'),\n",
              "  ('предусмотренных', 'NO_PERSON'),\n",
              "  ('ч', 'NO_PERSON'),\n",
              "  ('.', 'NO_PERSON'),\n",
              "  ('2', 'NO_PERSON'),\n",
              "  ('ст', 'NO_PERSON'),\n",
              "  ('.', 'NO_PERSON'),\n",
              "  ('286', 'NO_PERSON'),\n",
              "  (',', 'NO_PERSON'),\n",
              "  ('ч', 'NO_PERSON'),\n",
              "  ('.', 'NO_PERSON'),\n",
              "  ('5', 'NO_PERSON'),\n",
              "  ('ст', 'NO_PERSON'),\n",
              "  ('.', 'NO_PERSON'),\n",
              "  ('33', 'NO_PERSON'),\n",
              "  (',', 'NO_PERSON'),\n",
              "  ('ч', 'NO_PERSON'),\n",
              "  ('.', 'NO_PERSON'),\n",
              "  ('4', 'NO_PERSON'),\n",
              "  ('ст', 'NO_PERSON'),\n",
              "  ('.', 'NO_PERSON'),\n",
              "  ('160', 'NO_PERSON'),\n",
              "  ('и', 'NO_PERSON'),\n",
              "  ('ч', 'NO_PERSON'),\n",
              "  ('.', 'NO_PERSON'),\n",
              "  ('2', 'NO_PERSON'),\n",
              "  ('ст', 'NO_PERSON'),\n",
              "  ('.', 'NO_PERSON'),\n",
              "  ('286', 'NO_PERSON'),\n",
              "  ('УК', 'NO_PERSON'),\n",
              "  ('РФ', 'NO_PERSON'),\n",
              "  ('.', 'NO_PERSON'),\n",
              "  ('12', 'NO_PERSON'),\n",
              "  ('августа', 'NO_PERSON'),\n",
              "  ('прокуратура', 'NO_PERSON'),\n",
              "  ('Якутии', 'NO_PERSON'),\n",
              "  ('постановление', 'NO_PERSON'),\n",
              "  ('о', 'NO_PERSON'),\n",
              "  ('возбуждении', 'NO_PERSON'),\n",
              "  ('уголовного', 'NO_PERSON'),\n",
              "  ('дела', 'NO_PERSON'),\n",
              "  ('№', 'NO_PERSON'),\n",
              "  ('49234', 'NO_PERSON'),\n",
              "  ('отменила', 'NO_PERSON'),\n",
              "  ('.', 'NO_PERSON'),\n",
              "  ('В', 'NO_PERSON'),\n",
              "  ('связи', 'NO_PERSON'),\n",
              "  ('с', 'NO_PERSON'),\n",
              "  ('этим', 'NO_PERSON'),\n",
              "  ('следственное', 'NO_PERSON'),\n",
              "  ('управление', 'NO_PERSON'),\n",
              "  ('повторно', 'NO_PERSON'),\n",
              "  ('обратилось', 'NO_PERSON'),\n",
              "  ('к', 'NO_PERSON'),\n",
              "  ('прокурору', 'NO_PERSON'),\n",
              "  ('республики', 'NO_PERSON'),\n",
              "  ('Анатолию', 'NO_PERSON'),\n",
              "  ('Подласенко', 'NO_PERSON'),\n",
              "  ('с', 'NO_PERSON'),\n",
              "  ('требованием', 'NO_PERSON'),\n",
              "  ('о', 'NO_PERSON'),\n",
              "  ('возбуждении', 'NO_PERSON'),\n",
              "  ('уголовного', 'NO_PERSON'),\n",
              "  ('дела', 'NO_PERSON'),\n",
              "  ('.', 'NO_PERSON'),\n",
              "  ('Следственное', 'NO_PERSON'),\n",
              "  ('управление', 'NO_PERSON'),\n",
              "  ('при', 'NO_PERSON'),\n",
              "  ('прокуратуре', 'NO_PERSON'),\n",
              "  ('требует', 'NO_PERSON'),\n",
              "  ('наказать', 'NO_PERSON'),\n",
              "  ('премьера', 'NO_PERSON'),\n",
              "  ('Якутии', 'NO_PERSON'),\n",
              "  ('Следственное', 'NO_PERSON'),\n",
              "  ('управление', 'NO_PERSON'),\n",
              "  ('Следственного', 'NO_PERSON'),\n",
              "  ('комитета', 'NO_PERSON'),\n",
              "  ('при', 'NO_PERSON'),\n",
              "  ('прокуратуре', 'NO_PERSON'),\n",
              "  ('Российской', 'NO_PERSON'),\n",
              "  ('Федерации', 'NO_PERSON'),\n",
              "  ('по', 'NO_PERSON'),\n",
              "  ('Якутии', 'NO_PERSON'),\n",
              "  ('обжаловало', 'NO_PERSON'),\n",
              "  ('решение', 'NO_PERSON'),\n",
              "  ('прокуратуры', 'NO_PERSON'),\n",
              "  ('республики', 'NO_PERSON'),\n",
              "  ('.', 'NO_PERSON'),\n",
              "  ('Ранее', 'NO_PERSON'),\n",
              "  ('прокуратура', 'NO_PERSON'),\n",
              "  ('отказала', 'NO_PERSON'),\n",
              "  ('в', 'NO_PERSON'),\n",
              "  ('возбуждении', 'NO_PERSON'),\n",
              "  ('уголовного', 'NO_PERSON'),\n",
              "  ('дела', 'NO_PERSON'),\n",
              "  ('в', 'NO_PERSON'),\n",
              "  ('отношении', 'NO_PERSON'),\n",
              "  ('председателя', 'NO_PERSON'),\n",
              "  ('правительства', 'NO_PERSON'),\n",
              "  ('республики', 'NO_PERSON'),\n",
              "  ('Егора', 'NO_PERSON'),\n",
              "  ('Борисова', 'NO_PERSON'),\n",
              "  (',', 'NO_PERSON'),\n",
              "  ('подозреваемого', 'NO_PERSON'),\n",
              "  ('в', 'NO_PERSON'),\n",
              "  ('хищении', 'NO_PERSON'),\n",
              "  ('30', 'NO_PERSON')],\n",
              " array([[[8.88035715e-01, 1.02582023e-01, 9.38226841e-03],\n",
              "         [5.78020751e-01, 4.12535369e-01, 9.44383722e-03]],\n",
              " \n",
              "        [[9.82447922e-01, 1.54371662e-02, 2.11485359e-03],\n",
              "         [8.09715271e-01, 1.79014415e-01, 1.12703685e-02]],\n",
              " \n",
              "        [[9.93955433e-01, 5.10503864e-03, 9.39458725e-04],\n",
              "         [6.77232891e-02, 9.29964364e-01, 2.31237966e-03]],\n",
              " \n",
              "        ...,\n",
              " \n",
              "        [[9.82820630e-01, 1.38696311e-02, 3.30966804e-03],\n",
              "         [3.91855568e-01, 5.95739305e-01, 1.24051645e-02]],\n",
              " \n",
              "        [[9.91751611e-01, 6.54002884e-03, 1.70834549e-03],\n",
              "         [2.23025233e-01, 7.71724522e-01, 5.25012147e-03]],\n",
              " \n",
              "        [[7.70351231e-01, 2.18523607e-01, 1.11250682e-02],\n",
              "         [5.23785353e-01, 4.63075012e-01, 1.31397303e-02]]], dtype=float32)]"
            ]
          },
          "metadata": {
            "tags": []
          },
          "execution_count": 23
        }
      ]
    },
    {
      "cell_type": "markdown",
      "metadata": {
        "id": "331_MZz9yEvd"
      },
      "source": [
        " 3. написать свой нер попробовать разные подходы  \n",
        " - передаём в сетку токен и его соседей    \n",
        " - передаём в сетку только токен\n"
      ]
    },
    {
      "cell_type": "code",
      "metadata": {
        "id": "uD6fnQBavfQa"
      },
      "source": [
        "from nltk.tag import SequentialBackoffTagger\n",
        "from nltk.corpus import names\n",
        "\n",
        "from sklearn.model_selection import train_test_split\n",
        "from sklearn.preprocessing import LabelEncoder\n",
        "from sklearn.feature_extraction.text import HashingVectorizer\n",
        "from sklearn.linear_model import LogisticRegression\n",
        "from sklearn.metrics import accuracy_score, roc_auc_score"
      ],
      "execution_count": 24,
      "outputs": []
    },
    {
      "cell_type": "code",
      "metadata": {
        "colab": {
          "base_uri": "https://localhost:8080/"
        },
        "id": "I5s2-HxqvfUH",
        "outputId": "ef234140-1d2b-49e2-c487-dc919633e360"
      },
      "source": [
        "X = []\n",
        "y = []\n",
        "\n",
        "for tok, lbl in word_tag:\n",
        "  X.append(tok)\n",
        "  y.append(lbl)\n",
        "\n",
        "X[:5], y[:5]"
      ],
      "execution_count": 25,
      "outputs": [
        {
          "output_type": "execute_result",
          "data": {
            "text/plain": [
              "(['Комиссар', 'СЕ', 'критикует', 'ограничительную', 'политику'],\n",
              " ['NO_PERSON', 'NO_PERSON', 'NO_PERSON', 'NO_PERSON', 'NO_PERSON'])"
            ]
          },
          "metadata": {
            "tags": []
          },
          "execution_count": 25
        }
      ]
    },
    {
      "cell_type": "code",
      "metadata": {
        "colab": {
          "base_uri": "https://localhost:8080/"
        },
        "id": "QO6eBbMHvfXn",
        "outputId": "3c20b130-a339-4368-b313-46ec03cabb98"
      },
      "source": [
        "le = LabelEncoder()\n",
        "y_train_test = le.fit_transform(y)\n",
        "print(le.classes_)"
      ],
      "execution_count": 26,
      "outputs": [
        {
          "output_type": "stream",
          "text": [
            "['NO_PERSON' 'PERSON']\n"
          ],
          "name": "stdout"
        }
      ]
    },
    {
      "cell_type": "code",
      "metadata": {
        "id": "nvO7nKdny6UU"
      },
      "source": [
        "X_train, X_test, y_train, y_test = train_test_split(X, y_train_test, test_size=0.3)"
      ],
      "execution_count": 27,
      "outputs": []
    },
    {
      "cell_type": "code",
      "metadata": {
        "id": "gnZs1t9Gy6gu"
      },
      "source": [
        "hvec_ch = HashingVectorizer(ngram_range=(1,5), analyzer='char_wb', n_features=100)"
      ],
      "execution_count": 28,
      "outputs": []
    },
    {
      "cell_type": "code",
      "metadata": {
        "id": "C1ehttevvfbD"
      },
      "source": [
        "X_train_vec = hvec_ch.fit_transform(X_train)\n",
        "X_test_vec = hvec_ch.transform(X_test)"
      ],
      "execution_count": 29,
      "outputs": []
    },
    {
      "cell_type": "code",
      "metadata": {
        "id": "WSrBSvkAzErY"
      },
      "source": [
        "lr = LogisticRegression()\n",
        "lr.fit(X_train_vec, y_train)\n",
        "y_pred = lr.predict(X_test_vec)"
      ],
      "execution_count": 30,
      "outputs": []
    },
    {
      "cell_type": "code",
      "metadata": {
        "colab": {
          "base_uri": "https://localhost:8080/"
        },
        "id": "EfVPC7QzzEvh",
        "outputId": "56d234c0-6bb0-4087-faa0-d55b8471ed16"
      },
      "source": [
        "roc_auc_score(y_test, y_pred)"
      ],
      "execution_count": 31,
      "outputs": [
        {
          "output_type": "execute_result",
          "data": {
            "text/plain": [
              "0.5"
            ]
          },
          "metadata": {
            "tags": []
          },
          "execution_count": 31
        }
      ]
    },
    {
      "cell_type": "markdown",
      "metadata": {
        "id": "NwRZTsQizOBU"
      },
      "source": [
        "Вывод:  \n",
        "roc_auc_score показал, что шанс верного угадывания персоны случаен  \n",
        "NER из nltk хорошо угадывает персон, чьи имена написаны латиницей"
      ]
    }
  ]
}