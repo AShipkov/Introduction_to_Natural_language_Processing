{
  "nbformat": 4,
  "nbformat_minor": 0,
  "metadata": {
    "colab": {
      "name": "Untitled15.ipynb",
      "provenance": []
    },
    "kernelspec": {
      "name": "python3",
      "display_name": "Python 3"
    },
    "language_info": {
      "name": "python"
    },
    "accelerator": "GPU"
  },
  "cells": [
    {
      "cell_type": "code",
      "metadata": {
        "id": "u9bHKc28Wfm6"
      },
      "source": [
        "import pandas as pd\n",
        "from sklearn.feature_extraction.text import CountVectorizer, TfidfVectorizer, HashingVectorizer\n",
        "from sklearn import model_selection, preprocessing, linear_model\n",
        "from sklearn.metrics import accuracy_score, classification_report\n",
        "from sklearn.model_selection import train_test_split\n",
        "import matplotlib.pyplot as plt\n",
        "%matplotlib inline\n",
        "import matplotlib.ticker as ticker\n",
        "import numpy as np\n",
        "import re\n",
        "import io\n",
        "import time\n",
        "import os\n",
        "\n",
        "import tensorflow as tf\n",
        "\n",
        "from tensorflow.keras.preprocessing.sequence import pad_sequences\n",
        "from tensorflow.keras.utils import to_categorical\n",
        "from tensorflow.keras.preprocessing.text import Tokenizer\n",
        "from tensorflow.keras.callbacks import EarlyStopping \n",
        "\n",
        "from tensorflow.keras import Sequential, Model\n",
        "from tensorflow.keras.layers import Dense, Dropout, Activation, Input, Embedding, Conv1D, GlobalMaxPool1D, MaxPooling1D, SimpleRNN, LSTM, GRU"
      ],
      "execution_count": 37,
      "outputs": []
    },
    {
      "cell_type": "code",
      "metadata": {
        "colab": {
          "base_uri": "https://localhost:8080/"
        },
        "id": "w8bn02wSWncB",
        "outputId": "dcbd12e7-0703-4bdc-e550-5a59bf95c30d"
      },
      "source": [
        "!wget http://www.manythings.org/anki/rus-eng.zip"
      ],
      "execution_count": 2,
      "outputs": [
        {
          "output_type": "stream",
          "text": [
            "--2021-08-12 14:27:04--  http://www.manythings.org/anki/rus-eng.zip\n",
            "Resolving www.manythings.org (www.manythings.org)... 104.21.92.44, 172.67.186.54, 2606:4700:3030::6815:5c2c, ...\n",
            "Connecting to www.manythings.org (www.manythings.org)|104.21.92.44|:80... connected.\n",
            "HTTP request sent, awaiting response... 200 OK\n",
            "Length: 14385451 (14M) [application/zip]\n",
            "Saving to: ‘rus-eng.zip’\n",
            "\n",
            "rus-eng.zip         100%[===================>]  13.72M  6.57MB/s    in 2.1s    \n",
            "\n",
            "2021-08-12 14:27:07 (6.57 MB/s) - ‘rus-eng.zip’ saved [14385451/14385451]\n",
            "\n"
          ],
          "name": "stdout"
        }
      ]
    },
    {
      "cell_type": "code",
      "metadata": {
        "colab": {
          "base_uri": "https://localhost:8080/"
        },
        "id": "hoMJ84wjXMdg",
        "outputId": "ebb67012-998e-4cfe-9db7-f8a4ea5632b0"
      },
      "source": [
        "!mkdir rus-eng\n",
        "!unzip rus-eng.zip -d rus-eng/"
      ],
      "execution_count": 3,
      "outputs": [
        {
          "output_type": "stream",
          "text": [
            "Archive:  rus-eng.zip\n",
            "  inflating: rus-eng/rus.txt         \n",
            "  inflating: rus-eng/_about.txt      \n"
          ],
          "name": "stdout"
        }
      ]
    },
    {
      "cell_type": "code",
      "metadata": {
        "colab": {
          "base_uri": "https://localhost:8080/"
        },
        "id": "6e1WtgOIXWQg",
        "outputId": "1e40e96d-bfb1-46af-fdcf-7c6af1605fd0"
      },
      "source": [
        "!ls /content/rus-eng/ -lah"
      ],
      "execution_count": 4,
      "outputs": [
        {
          "output_type": "stream",
          "text": [
            "total 69M\n",
            "drwxr-xr-x 2 root root 4.0K Aug 12 14:27 .\n",
            "drwxr-xr-x 1 root root 4.0K Aug 12 14:27 ..\n",
            "-rw-r--r-- 1 root root 1.5K Jul 14 10:16 _about.txt\n",
            "-rw-r--r-- 1 root root  69M Jul 14 10:16 rus.txt\n"
          ],
          "name": "stdout"
        }
      ]
    },
    {
      "cell_type": "code",
      "metadata": {
        "id": "ea0sqOTQXWTY"
      },
      "source": [
        "# Download the file\n",
        "path_to_file = \"/content/rus-eng/rus.txt\""
      ],
      "execution_count": 5,
      "outputs": []
    },
    {
      "cell_type": "code",
      "metadata": {
        "id": "P9n2tUPnWuYA"
      },
      "source": [
        "def preprocess_sentence(w):\n",
        "    w = w.lower().strip()\n",
        "\n",
        "    # creating a space between a word and the punctuation following it\n",
        "    # eg: \"he is a boy.\" => \"he is a boy .\"\n",
        "    # Reference:- https://stackoverflow.com/questions/3645931/python-padding-punctuation-with-white-spaces-keeping-punctuation\n",
        "    w = re.sub(r\"([?.!,])\", r\" \\1 \", w)\n",
        "    w = re.sub(r'[\" \"]+', \" \", w) #collapse whitespaces\n",
        "\n",
        "    # replacing everything with space except (a-z, A-Z, \".\", \"?\", \"!\", \",\")\n",
        "    w = re.sub(r\"[^a-zA-Zа-яА-Я?.!,']+\", \" \", w)\n",
        "\n",
        "    w = w.strip() #Remove spaces at the beginning and at the end of the string\n",
        "\n",
        "    # adding a start and an end token to the sentence\n",
        "    # so that the model know when to start and stop predicting.\n",
        "    w = '<start> ' + w + ' <end>'\n",
        "    return w"
      ],
      "execution_count": 6,
      "outputs": []
    },
    {
      "cell_type": "code",
      "metadata": {
        "id": "xp-NZSpWWua_"
      },
      "source": [
        "# 1. Remove the accents\n",
        "# 2. Clean the sentences\n",
        "# 3. Return word pairs in the format: [ENG, RUS]\n",
        "def create_dataset(path, num_examples):\n",
        "    lines = io.open(path, encoding='UTF-8').read().strip().split('\\n')\n",
        "\n",
        "    word_pairs = [[preprocess_sentence(w) for w in l.split('\\t')[:2]]  for l in lines[:num_examples]]\n",
        "\n",
        "    return zip(*word_pairs)"
      ],
      "execution_count": 7,
      "outputs": []
    },
    {
      "cell_type": "code",
      "metadata": {
        "colab": {
          "base_uri": "https://localhost:8080/"
        },
        "id": "o46jgsBoWud3",
        "outputId": "7d880d55-6210-4284-f35b-5189e957aa22"
      },
      "source": [
        "en, ru = create_dataset(path_to_file, None)\n",
        "print(en[-1])\n",
        "print(ru[-1])"
      ],
      "execution_count": 8,
      "outputs": [
        {
          "output_type": "stream",
          "text": [
            "<start> doubtless there exists in this world precisely the right woman for any given man to marry and vice versa but when you consider that a human being has the opportunity of being acquainted with only a few hundred people , and out of the few hundred that there are but a dozen or less whom he knows intimately , and out of the dozen , one or two friends at most , it will easily be seen , when we remember the number of millions who inhabit this world , that probably , since the earth was created , the right man has never yet met the right woman . <end>\n",
            "<start> несомненно , для каждого мужчины в этом мире где то есть подходящая женщина , которая может стать ему женой , обратное верно и для женщин . но если учесть , что у человека может быть максимум несколько сотен знакомых , из которых лишь дюжина , а то и меньше , тех , кого он знает близко , а из этой дюжины у него один или от силы два друга , то можно легко увидеть , что с уч том миллионов живущих на земле людей , ни один подходящий мужчина , возможно , ещ не встретил подходящую женщину . <end>\n"
          ],
          "name": "stdout"
        }
      ]
    },
    {
      "cell_type": "code",
      "metadata": {
        "colab": {
          "base_uri": "https://localhost:8080/"
        },
        "id": "liKzPmF6Wugv",
        "outputId": "33e82c14-c777-4ebd-e68b-a4dcffa39251"
      },
      "source": [
        "len(en), len(ru)"
      ],
      "execution_count": 9,
      "outputs": [
        {
          "output_type": "execute_result",
          "data": {
            "text/plain": [
              "(431097, 431097)"
            ]
          },
          "metadata": {
            "tags": []
          },
          "execution_count": 9
        }
      ]
    },
    {
      "cell_type": "code",
      "metadata": {
        "id": "nViGb9XCXmMI"
      },
      "source": [
        "def tokenize(lang):\n",
        "    lang_tokenizer = tf.keras.preprocessing.text.Tokenizer(filters='')\n",
        "    lang_tokenizer.fit_on_texts(lang)\n",
        "\n",
        "    tensor = lang_tokenizer.texts_to_sequences(lang)\n",
        "\n",
        "    tensor = tf.keras.preprocessing.sequence.pad_sequences(tensor, padding='post')\n",
        "\n",
        "    return tensor, lang_tokenizer"
      ],
      "execution_count": 10,
      "outputs": []
    },
    {
      "cell_type": "code",
      "metadata": {
        "id": "FVw3lk9KXpNI"
      },
      "source": [
        "def load_dataset(path, num_examples=None):\n",
        "    # creating cleaned input, output pairs\n",
        "#     targ_lang, inp_lang = create_dataset(path, num_examples) # ru -> en\n",
        "    targ_lang, inp_lang = create_dataset(path, num_examples) # en -> ru\n",
        "    \n",
        "    input_tensor, inp_lang_tokenizer = tokenize(inp_lang)\n",
        "    target_tensor, targ_lang_tokenizer = tokenize(targ_lang)\n",
        "\n",
        "    return input_tensor, target_tensor, inp_lang_tokenizer, targ_lang_tokenizer"
      ],
      "execution_count": 11,
      "outputs": []
    },
    {
      "cell_type": "code",
      "metadata": {
        "id": "l1aOA7gsXpQH"
      },
      "source": [
        "# Try experimenting with the size of that dataset\n",
        "# num_examples = len(en)\n",
        "num_examples = 150000\n",
        "input_tensor, target_tensor, inp_lang, targ_lang = load_dataset(path_to_file, num_examples)\n",
        "\n",
        "# Calculate max_length of the target tensors\n",
        "max_length_targ, max_length_inp = target_tensor.shape[1], input_tensor.shape[1]"
      ],
      "execution_count": 12,
      "outputs": []
    },
    {
      "cell_type": "code",
      "metadata": {
        "colab": {
          "base_uri": "https://localhost:8080/"
        },
        "id": "U8tb0wS4XmPA",
        "outputId": "4ea578dd-5100-4827-8d7d-9c67a1e181c7"
      },
      "source": [
        "max_length_targ, max_length_inp"
      ],
      "execution_count": 13,
      "outputs": [
        {
          "output_type": "execute_result",
          "data": {
            "text/plain": [
              "(12, 15)"
            ]
          },
          "metadata": {
            "tags": []
          },
          "execution_count": 13
        }
      ]
    },
    {
      "cell_type": "code",
      "metadata": {
        "colab": {
          "base_uri": "https://localhost:8080/"
        },
        "id": "X8B6x1N4XmR3",
        "outputId": "912c21fe-1f12-415c-83a6-b5322d45d0f3"
      },
      "source": [
        "# Creating training and validation sets using an 80-20 split\n",
        "input_tensor_train, input_tensor_val, target_tensor_train, target_tensor_val = train_test_split(input_tensor, target_tensor, test_size=0.2)\n",
        "\n",
        "# Show length\n",
        "print(len(input_tensor_train), len(target_tensor_train), len(input_tensor_val), len(target_tensor_val))"
      ],
      "execution_count": 14,
      "outputs": [
        {
          "output_type": "stream",
          "text": [
            "120000 120000 30000 30000\n"
          ],
          "name": "stdout"
        }
      ]
    },
    {
      "cell_type": "code",
      "metadata": {
        "id": "XAjnSi-JWujP"
      },
      "source": [
        "def convert(lang, tensor):\n",
        "    for t in tensor:\n",
        "        if t!=0:\n",
        "            print (\"%d ----> %s\" % (t, lang.index_word[t]))"
      ],
      "execution_count": 15,
      "outputs": []
    },
    {
      "cell_type": "code",
      "metadata": {
        "colab": {
          "base_uri": "https://localhost:8080/"
        },
        "id": "89KpklggX3rX",
        "outputId": "2f96a0e9-9e94-46b3-d62d-ef7ad70734da"
      },
      "source": [
        "convert(inp_lang, input_tensor_train[0])"
      ],
      "execution_count": 16,
      "outputs": [
        {
          "output_type": "stream",
          "text": [
            "1 ----> <start>\n",
            "6 ----> том\n",
            "17 ----> меня\n",
            "72 ----> никогда\n",
            "7 ----> не\n",
            "82 ----> видел\n",
            "3 ----> .\n",
            "2 ----> <end>\n"
          ],
          "name": "stdout"
        }
      ]
    },
    {
      "cell_type": "code",
      "metadata": {
        "id": "kfi9zbTUX3uG"
      },
      "source": [
        "BUFFER_SIZE = len(input_tensor_train)\n",
        "BATCH_SIZE = 128\n",
        "\n",
        "steps_per_epoch = len(input_tensor_train)//BATCH_SIZE\n",
        "embedding_dim = 300\n",
        "units = 1024\n",
        "vocab_inp_size = len(inp_lang.word_index)+1\n",
        "vocab_tar_size = len(targ_lang.word_index)+1\n",
        "\n",
        "dataset = tf.data.Dataset.from_tensor_slices((input_tensor_train, target_tensor_train)).shuffle(BUFFER_SIZE)\n",
        "dataset = dataset.batch(BATCH_SIZE, drop_remainder=True)"
      ],
      "execution_count": 17,
      "outputs": []
    },
    {
      "cell_type": "code",
      "metadata": {
        "colab": {
          "base_uri": "https://localhost:8080/"
        },
        "id": "lZllXNaLX3xY",
        "outputId": "ef6073c9-c2fa-41e7-9873-a5fba3bc4075"
      },
      "source": [
        "example_input_batch, example_target_batch = next(iter(dataset))\n",
        "example_input_batch.shape, example_target_batch.shape"
      ],
      "execution_count": 18,
      "outputs": [
        {
          "output_type": "execute_result",
          "data": {
            "text/plain": [
              "(TensorShape([128, 15]), TensorShape([128, 12]))"
            ]
          },
          "metadata": {
            "tags": []
          },
          "execution_count": 18
        }
      ]
    },
    {
      "cell_type": "code",
      "metadata": {
        "id": "iWed725YX30w"
      },
      "source": [
        "# Model\n",
        "class Encoder(tf.keras.Model):\n",
        "    def __init__(self, vocab_size, embedding_dim, enc_units, batch_sz):\n",
        "        super(Encoder, self).__init__()\n",
        "        self.batch_sz = batch_sz\n",
        "        self.enc_units = enc_units\n",
        "        self.embedding = tf.keras.layers.Embedding(vocab_size, embedding_dim)\n",
        "        self.gru = tf.keras.layers.GRU(self.enc_units,\n",
        "                                       return_sequences=True, #additional output dim sequence length\n",
        "                                       return_state=True,\n",
        "                                       recurrent_initializer='glorot_uniform')\n",
        "\n",
        "\n",
        "    def call(self, x, hidden):\n",
        "        x = self.embedding(x)\n",
        "        output, state = self.gru(x, initial_state = hidden)\n",
        "        return output, state # нужен выходной слой\n",
        "\n",
        "    def initialize_hidden_state(self):\n",
        "        return tf.zeros((self.batch_sz, self.enc_units))"
      ],
      "execution_count": 19,
      "outputs": []
    },
    {
      "cell_type": "code",
      "metadata": {
        "colab": {
          "base_uri": "https://localhost:8080/"
        },
        "id": "1KqSq_31YGVH",
        "outputId": "d86f1c43-4a12-4625-d833-ffb0319e27bf"
      },
      "source": [
        "encoder = Encoder(vocab_inp_size, embedding_dim, units, BATCH_SIZE)\n",
        "\n",
        "# sample input\n",
        "sample_hidden = encoder.initialize_hidden_state()\n",
        "sample_output, sample_hidden = encoder(example_input_batch, sample_hidden)\n",
        "print ('Encoder output shape: (batch size, sequence length, units) {}'.format(sample_output.shape))\n",
        "print ('Encoder Hidden state shape: (batch size, units) {}'.format(sample_hidden.shape))"
      ],
      "execution_count": 20,
      "outputs": [
        {
          "output_type": "stream",
          "text": [
            "Encoder output shape: (batch size, sequence length, units) (128, 15, 1024)\n",
            "Encoder Hidden state shape: (batch size, units) (128, 1024)\n"
          ],
          "name": "stdout"
        }
      ]
    },
    {
      "cell_type": "code",
      "metadata": {
        "id": "I5J_QbgUYJ6v"
      },
      "source": [
        "class BahdanauAttention(tf.keras.layers.Layer):\n",
        "    def __init__(self, units):\n",
        "        super(BahdanauAttention, self).__init__()\n",
        "        self.W1 = tf.keras.layers.Dense(units)\n",
        "        self.W2 = tf.keras.layers.Dense(units)\n",
        "        self.V = tf.keras.layers.Dense(1)\n",
        "\n",
        "    def call(self, query, values):\n",
        "        # query - sample_hidden\n",
        "        # values - sample_output\n",
        "        \n",
        "        # query hidden state shape == (batch_size, hidden size)\n",
        "        # query_with_time_axis shape == (batch_size, 1, hidden size)\n",
        "        # values shape == (batch_size, max_len, hidden size)\n",
        "        # we are doing this to broadcast addition along the time axis to calculate the score\n",
        "        query_with_time_axis = tf.expand_dims(query, 1)\n",
        "\n",
        "        # score shape == (batch_size, max_length, 1)\n",
        "        # we get 1 at the last axis because we are applying score to self.V\n",
        "        # the shape of the tensor before applying self.V is (batch_size, max_length, units)\n",
        "        # W1 - sample_hidden через Dense\n",
        "        # W2 - sample_output через Dense\n",
        "        # tanh активация -> скоры\n",
        "        score = self.V(tf.nn.tanh(\n",
        "            self.W1(query_with_time_axis) + self.W2(values)))\n",
        "\n",
        "        # attention_weights shape == (batch_size, max_length, 1)\n",
        "        attention_weights = tf.nn.softmax(score, axis=1)\n",
        "\n",
        "        # context_vector shape after sum == (batch_size, hidden_size)\n",
        "        context_vector = attention_weights * values\n",
        "        context_vector = tf.reduce_sum(context_vector, axis=1)\n",
        "\n",
        "        return context_vector, attention_weights"
      ],
      "execution_count": 21,
      "outputs": []
    },
    {
      "cell_type": "code",
      "metadata": {
        "colab": {
          "base_uri": "https://localhost:8080/"
        },
        "id": "BZI9fF8BYJ92",
        "outputId": "7c6cb12f-c748-4575-a0b0-38649f057a9b"
      },
      "source": [
        "attention_layer = BahdanauAttention(10) # 10 юнитов - гиперпараметр?\n",
        "attention_result, attention_weights = attention_layer(sample_hidden, sample_output)\n",
        "\n",
        "print(\"Attention result shape: (batch size, units) {}\".format(attention_result.shape))\n",
        "print(\"Attention weights shape: (batch_size, sequence_length, 1) {}\".format(attention_weights.shape))"
      ],
      "execution_count": 22,
      "outputs": [
        {
          "output_type": "stream",
          "text": [
            "Attention result shape: (batch size, units) (128, 1024)\n",
            "Attention weights shape: (batch_size, sequence_length, 1) (128, 15, 1)\n"
          ],
          "name": "stdout"
        }
      ]
    },
    {
      "cell_type": "code",
      "metadata": {
        "id": "eyb6EbxzYGYG"
      },
      "source": [
        "class Decoder(tf.keras.Model):\n",
        "    def __init__(self, vocab_size, embedding_dim, dec_units, batch_sz):\n",
        "        super(Decoder, self).__init__()\n",
        "        self.batch_sz = batch_sz\n",
        "        self.dec_units = dec_units\n",
        "        self.embedding = tf.keras.layers.Embedding(vocab_size, embedding_dim)\n",
        "        self.gru = tf.keras.layers.GRU(self.dec_units,\n",
        "                                       return_sequences=True,\n",
        "                                       return_state=True,\n",
        "                                       recurrent_initializer='glorot_uniform')\n",
        "        self.fc = tf.keras.layers.Dense(vocab_size)\n",
        "        \n",
        "        # used for attention\n",
        "        self.attention = BahdanauAttention(self.dec_units)        \n",
        "\n",
        "    def call(self, x, hidden, enc_output): # подаем еще и выходной слой\n",
        "        # enc_output shape == (batch_size, max_length, hidden_size) = (batch size, sequence length, units)\n",
        "        context_vector, attention_weights = self.attention(hidden, enc_output)\n",
        "\n",
        "        # x shape after passing through embedding == (batch_size, 1, embedding_dim)\n",
        "        x = self.embedding(x)\n",
        "\n",
        "        # x shape after concatenation == (batch_size, 1, embedding_dim + hidden_size)\n",
        "        x = tf.concat([tf.expand_dims(context_vector, 1), x], axis=-1) # конкатим с вектором контекста из внимания\n",
        "\n",
        "        # passing the concatenated vector to the GRU\n",
        "        output, state = self.gru(x, initial_state=hidden) \n",
        "        #initial_state = sample_hidden - List of initial state tensors to be passed to the first call of the cell\n",
        "\n",
        "        # output shape == (batch_size * 1, hidden_size)\n",
        "        output = tf.reshape(output, (-1, output.shape[2]))\n",
        "\n",
        "        # output shape == (batch_size, vocab)\n",
        "        x = self.fc(output)\n",
        "        \n",
        "        return x, state, attention_weights"
      ],
      "execution_count": 23,
      "outputs": []
    },
    {
      "cell_type": "code",
      "metadata": {
        "id": "lNqNDoPkYVgH"
      },
      "source": [
        "decoder = Decoder(vocab_tar_size, embedding_dim, units, BATCH_SIZE)\n",
        "decoder_sample_x, decoder_sample_h, decoder_sample_w = decoder(tf.random.uniform((BATCH_SIZE, 1)), sample_hidden, sample_output)\n",
        "decoder_sample_x.shape # (batch_size, vocab size)"
      ],
      "execution_count": null,
      "outputs": []
    },
    {
      "cell_type": "code",
      "metadata": {
        "id": "8UVvgXoWYVim"
      },
      "source": [
        "optimizer = tf.keras.optimizers.Adam()\n",
        "\n",
        "loss_object = tf.keras.losses.SparseCategoricalCrossentropy(\n",
        "    from_logits=True, reduction='none')\n",
        "\n",
        "def loss_function(real, pred):\n",
        "    mask = tf.math.logical_not(tf.math.equal(real, 0))\n",
        "    loss_ = loss_object(real, pred)\n",
        "\n",
        "    mask = tf.cast(mask, dtype=loss_.dtype)\n",
        "    loss_ *= mask\n",
        "\n",
        "    return tf.reduce_mean(loss_)"
      ],
      "execution_count": 25,
      "outputs": []
    },
    {
      "cell_type": "code",
      "metadata": {
        "id": "xXSEygISYVmM"
      },
      "source": [
        "checkpoint_dir = './training_checkpoints'\n",
        "\n",
        "checkpoint_prefix = os.path.join(checkpoint_dir, \"ckpt\")\n",
        "\n",
        "checkpoint = tf.train.Checkpoint(optimizer=optimizer,\n",
        "                                 encoder=encoder,\n",
        "                                 decoder=decoder)"
      ],
      "execution_count": 26,
      "outputs": []
    },
    {
      "cell_type": "code",
      "metadata": {
        "id": "_W4CV0pyZUdv"
      },
      "source": [
        "@tf.function\n",
        "def train_step(inp, targ, enc_hidden):\n",
        "    loss = 0\n",
        "\n",
        "    with tf.GradientTape() as tape:\n",
        "        enc_output, enc_hidden = encoder(inp, enc_hidden)\n",
        "\n",
        "        dec_hidden = enc_hidden\n",
        "\n",
        "        dec_input = tf.expand_dims([targ_lang.word_index['<start>']] * BATCH_SIZE, 1)\n",
        "\n",
        "        # Teacher forcing - feeding the target as the next input\n",
        "        for t in range(1, targ.shape[1]):\n",
        "            # passing enc_output to the decoder\n",
        "            predictions, dec_hidden, att_weights = decoder(dec_input, dec_hidden, enc_output)\n",
        "\n",
        "            loss += loss_function(targ[:, t], predictions)\n",
        "\n",
        "            # using teacher forcing\n",
        "            dec_input = tf.expand_dims(targ[:, t], 1)\n",
        "\n",
        "    batch_loss = (loss / int(targ.shape[1]))\n",
        "\n",
        "    variables = encoder.trainable_variables + decoder.trainable_variables\n",
        "\n",
        "    gradients = tape.gradient(loss, variables)\n",
        "\n",
        "    optimizer.apply_gradients(zip(gradients, variables))\n",
        "\n",
        "    return batch_loss"
      ],
      "execution_count": 27,
      "outputs": []
    },
    {
      "cell_type": "code",
      "metadata": {
        "id": "XQE21zqUZUgl",
        "colab": {
          "base_uri": "https://localhost:8080/"
        },
        "outputId": "688c6805-2856-44b4-e9f3-31f11fe27b56"
      },
      "source": [
        "EPOCHS = 15\n",
        "\n",
        "for epoch in range(EPOCHS):\n",
        "    start = time.time()\n",
        "\n",
        "    enc_hidden = encoder.initialize_hidden_state()\n",
        "    total_loss = 0\n",
        "\n",
        "    for (batch, (inp, targ)) in enumerate(dataset.take(steps_per_epoch)):\n",
        "        batch_loss = train_step(inp, targ, enc_hidden)\n",
        "        total_loss += batch_loss\n",
        "\n",
        "        if batch % 100 == 0:\n",
        "            print('Epoch {} Batch {} Loss {:.4f}'.format(epoch + 1,\n",
        "                                                       batch,\n",
        "                                                       batch_loss.numpy()))\n",
        "    # saving (checkpoint) the model every 2 epochs\n",
        "    if (epoch + 1) % 10 == 0:\n",
        "        checkpoint.save(file_prefix = checkpoint_prefix)\n",
        "\n",
        "    print('Epoch {} Loss {:.4f}'.format(epoch + 1,\n",
        "                                      total_loss / steps_per_epoch))\n",
        "    print('Time taken for 1 epoch {} sec\\n'.format(time.time() - start))"
      ],
      "execution_count": 28,
      "outputs": [
        {
          "output_type": "stream",
          "text": [
            "Epoch 1 Batch 0 Loss 4.6226\n",
            "Epoch 1 Batch 100 Loss 2.1571\n",
            "Epoch 1 Batch 200 Loss 1.7541\n",
            "Epoch 1 Batch 300 Loss 1.5966\n",
            "Epoch 1 Batch 400 Loss 1.3643\n",
            "Epoch 1 Batch 500 Loss 1.2487\n",
            "Epoch 1 Batch 600 Loss 1.1147\n",
            "Epoch 1 Batch 700 Loss 1.0119\n",
            "Epoch 1 Batch 800 Loss 0.9541\n",
            "Epoch 1 Batch 900 Loss 0.9153\n",
            "Epoch 1 Loss 1.4335\n",
            "Time taken for 1 epoch 374.53583693504333 sec\n",
            "\n",
            "Epoch 2 Batch 0 Loss 0.8304\n",
            "Epoch 2 Batch 100 Loss 0.6949\n",
            "Epoch 2 Batch 200 Loss 0.6770\n",
            "Epoch 2 Batch 300 Loss 0.6917\n",
            "Epoch 2 Batch 400 Loss 0.6354\n",
            "Epoch 2 Batch 500 Loss 0.5921\n",
            "Epoch 2 Batch 600 Loss 0.6001\n",
            "Epoch 2 Batch 700 Loss 0.5924\n",
            "Epoch 2 Batch 800 Loss 0.5748\n",
            "Epoch 2 Batch 900 Loss 0.4905\n",
            "Epoch 2 Loss 0.6415\n",
            "Time taken for 1 epoch 355.6614408493042 sec\n",
            "\n",
            "Epoch 3 Batch 0 Loss 0.3819\n",
            "Epoch 3 Batch 100 Loss 0.3967\n",
            "Epoch 3 Batch 200 Loss 0.3880\n",
            "Epoch 3 Batch 300 Loss 0.3319\n",
            "Epoch 3 Batch 400 Loss 0.3666\n",
            "Epoch 3 Batch 500 Loss 0.3478\n",
            "Epoch 3 Batch 600 Loss 0.3226\n",
            "Epoch 3 Batch 700 Loss 0.3805\n",
            "Epoch 3 Batch 800 Loss 0.3354\n",
            "Epoch 3 Batch 900 Loss 0.3092\n",
            "Epoch 3 Loss 0.3583\n",
            "Time taken for 1 epoch 353.0807409286499 sec\n",
            "\n",
            "Epoch 4 Batch 0 Loss 0.1947\n",
            "Epoch 4 Batch 100 Loss 0.2164\n",
            "Epoch 4 Batch 200 Loss 0.2245\n",
            "Epoch 4 Batch 300 Loss 0.2147\n",
            "Epoch 4 Batch 400 Loss 0.1814\n",
            "Epoch 4 Batch 500 Loss 0.2717\n",
            "Epoch 4 Batch 600 Loss 0.2194\n",
            "Epoch 4 Batch 700 Loss 0.2290\n",
            "Epoch 4 Batch 800 Loss 0.2328\n",
            "Epoch 4 Batch 900 Loss 0.2326\n",
            "Epoch 4 Loss 0.2247\n",
            "Time taken for 1 epoch 352.6782765388489 sec\n",
            "\n",
            "Epoch 5 Batch 0 Loss 0.1340\n",
            "Epoch 5 Batch 100 Loss 0.1580\n",
            "Epoch 5 Batch 200 Loss 0.1566\n",
            "Epoch 5 Batch 300 Loss 0.1052\n",
            "Epoch 5 Batch 400 Loss 0.1626\n",
            "Epoch 5 Batch 500 Loss 0.1672\n",
            "Epoch 5 Batch 600 Loss 0.1459\n",
            "Epoch 5 Batch 700 Loss 0.1751\n",
            "Epoch 5 Batch 800 Loss 0.1970\n",
            "Epoch 5 Batch 900 Loss 0.1665\n",
            "Epoch 5 Loss 0.1568\n",
            "Time taken for 1 epoch 354.5177233219147 sec\n",
            "\n",
            "Epoch 6 Batch 0 Loss 0.1209\n",
            "Epoch 6 Batch 100 Loss 0.1190\n",
            "Epoch 6 Batch 200 Loss 0.0943\n",
            "Epoch 6 Batch 300 Loss 0.1050\n",
            "Epoch 6 Batch 400 Loss 0.1181\n",
            "Epoch 6 Batch 500 Loss 0.1006\n",
            "Epoch 6 Batch 600 Loss 0.1219\n",
            "Epoch 6 Batch 700 Loss 0.1531\n",
            "Epoch 6 Batch 800 Loss 0.1413\n",
            "Epoch 6 Batch 900 Loss 0.1571\n",
            "Epoch 6 Loss 0.1209\n",
            "Time taken for 1 epoch 354.9981791973114 sec\n",
            "\n",
            "Epoch 7 Batch 0 Loss 0.0732\n",
            "Epoch 7 Batch 100 Loss 0.0907\n",
            "Epoch 7 Batch 200 Loss 0.0920\n",
            "Epoch 7 Batch 300 Loss 0.0965\n",
            "Epoch 7 Batch 400 Loss 0.0806\n",
            "Epoch 7 Batch 500 Loss 0.0999\n",
            "Epoch 7 Batch 600 Loss 0.1345\n",
            "Epoch 7 Batch 700 Loss 0.1255\n",
            "Epoch 7 Batch 800 Loss 0.1253\n",
            "Epoch 7 Batch 900 Loss 0.1048\n",
            "Epoch 7 Loss 0.1022\n",
            "Time taken for 1 epoch 354.38544750213623 sec\n",
            "\n",
            "Epoch 8 Batch 0 Loss 0.0697\n",
            "Epoch 8 Batch 100 Loss 0.0612\n",
            "Epoch 8 Batch 200 Loss 0.0727\n",
            "Epoch 8 Batch 300 Loss 0.0734\n",
            "Epoch 8 Batch 400 Loss 0.0666\n",
            "Epoch 8 Batch 500 Loss 0.0977\n",
            "Epoch 8 Batch 600 Loss 0.0803\n",
            "Epoch 8 Batch 700 Loss 0.1016\n",
            "Epoch 8 Batch 800 Loss 0.1165\n",
            "Epoch 8 Batch 900 Loss 0.1039\n",
            "Epoch 8 Loss 0.0907\n",
            "Time taken for 1 epoch 353.2430782318115 sec\n",
            "\n",
            "Epoch 9 Batch 0 Loss 0.0650\n",
            "Epoch 9 Batch 100 Loss 0.0730\n",
            "Epoch 9 Batch 200 Loss 0.0819\n",
            "Epoch 9 Batch 300 Loss 0.0681\n",
            "Epoch 9 Batch 400 Loss 0.0871\n",
            "Epoch 9 Batch 500 Loss 0.0905\n",
            "Epoch 9 Batch 600 Loss 0.0852\n",
            "Epoch 9 Batch 700 Loss 0.1095\n",
            "Epoch 9 Batch 800 Loss 0.0686\n",
            "Epoch 9 Batch 900 Loss 0.0624\n",
            "Epoch 9 Loss 0.0839\n",
            "Time taken for 1 epoch 355.03088545799255 sec\n",
            "\n",
            "Epoch 10 Batch 0 Loss 0.0616\n",
            "Epoch 10 Batch 100 Loss 0.0840\n",
            "Epoch 10 Batch 200 Loss 0.0588\n",
            "Epoch 10 Batch 300 Loss 0.0942\n",
            "Epoch 10 Batch 400 Loss 0.0769\n",
            "Epoch 10 Batch 500 Loss 0.0862\n",
            "Epoch 10 Batch 600 Loss 0.0860\n",
            "Epoch 10 Batch 700 Loss 0.0699\n",
            "Epoch 10 Batch 800 Loss 0.0962\n",
            "Epoch 10 Batch 900 Loss 0.0960\n",
            "Epoch 10 Loss 0.0805\n",
            "Time taken for 1 epoch 356.7231204509735 sec\n",
            "\n",
            "Epoch 11 Batch 0 Loss 0.0602\n",
            "Epoch 11 Batch 100 Loss 0.0463\n",
            "Epoch 11 Batch 200 Loss 0.0441\n",
            "Epoch 11 Batch 300 Loss 0.0600\n",
            "Epoch 11 Batch 400 Loss 0.0730\n",
            "Epoch 11 Batch 500 Loss 0.0555\n",
            "Epoch 11 Batch 600 Loss 0.0762\n",
            "Epoch 11 Batch 700 Loss 0.1146\n",
            "Epoch 11 Batch 800 Loss 0.0924\n",
            "Epoch 11 Batch 900 Loss 0.0779\n",
            "Epoch 11 Loss 0.0755\n",
            "Time taken for 1 epoch 350.23209381103516 sec\n",
            "\n",
            "Epoch 12 Batch 0 Loss 0.0720\n",
            "Epoch 12 Batch 100 Loss 0.0752\n",
            "Epoch 12 Batch 200 Loss 0.0491\n",
            "Epoch 12 Batch 300 Loss 0.0598\n",
            "Epoch 12 Batch 400 Loss 0.0699\n",
            "Epoch 12 Batch 500 Loss 0.0933\n",
            "Epoch 12 Batch 600 Loss 0.0976\n",
            "Epoch 12 Batch 700 Loss 0.0825\n",
            "Epoch 12 Batch 800 Loss 0.0846\n",
            "Epoch 12 Batch 900 Loss 0.0718\n",
            "Epoch 12 Loss 0.0731\n",
            "Time taken for 1 epoch 345.98477721214294 sec\n",
            "\n",
            "Epoch 13 Batch 0 Loss 0.0729\n",
            "Epoch 13 Batch 100 Loss 0.0539\n",
            "Epoch 13 Batch 200 Loss 0.0756\n",
            "Epoch 13 Batch 300 Loss 0.0485\n",
            "Epoch 13 Batch 400 Loss 0.0566\n",
            "Epoch 13 Batch 500 Loss 0.0635\n",
            "Epoch 13 Batch 600 Loss 0.0637\n",
            "Epoch 13 Batch 700 Loss 0.0905\n",
            "Epoch 13 Batch 800 Loss 0.0696\n",
            "Epoch 13 Batch 900 Loss 0.1007\n",
            "Epoch 13 Loss 0.0709\n",
            "Time taken for 1 epoch 348.1763918399811 sec\n",
            "\n",
            "Epoch 14 Batch 0 Loss 0.0510\n",
            "Epoch 14 Batch 100 Loss 0.0655\n",
            "Epoch 14 Batch 200 Loss 0.0502\n",
            "Epoch 14 Batch 300 Loss 0.0670\n",
            "Epoch 14 Batch 400 Loss 0.0840\n",
            "Epoch 14 Batch 500 Loss 0.0601\n",
            "Epoch 14 Batch 600 Loss 0.0719\n",
            "Epoch 14 Batch 700 Loss 0.0629\n",
            "Epoch 14 Batch 800 Loss 0.0531\n",
            "Epoch 14 Batch 900 Loss 0.0820\n",
            "Epoch 14 Loss 0.0695\n",
            "Time taken for 1 epoch 348.85820484161377 sec\n",
            "\n",
            "Epoch 15 Batch 0 Loss 0.0564\n",
            "Epoch 15 Batch 100 Loss 0.0556\n",
            "Epoch 15 Batch 200 Loss 0.0631\n",
            "Epoch 15 Batch 300 Loss 0.0801\n",
            "Epoch 15 Batch 400 Loss 0.0933\n",
            "Epoch 15 Batch 500 Loss 0.0960\n",
            "Epoch 15 Batch 600 Loss 0.0706\n",
            "Epoch 15 Batch 700 Loss 0.0831\n",
            "Epoch 15 Batch 800 Loss 0.0759\n",
            "Epoch 15 Batch 900 Loss 0.0630\n",
            "Epoch 15 Loss 0.0678\n",
            "Time taken for 1 epoch 349.83451986312866 sec\n",
            "\n"
          ],
          "name": "stdout"
        }
      ]
    },
    {
      "cell_type": "code",
      "metadata": {
        "id": "iUxIXMhdvSvt"
      },
      "source": [
        "def evaluate(sentence):\n",
        "    attention_plot = np.zeros((max_length_targ, max_length_inp))\n",
        "\n",
        "    sentence = preprocess_sentence(sentence)\n",
        "\n",
        "    inputs = [inp_lang.word_index[i] for i in sentence.split(' ')]\n",
        "    inputs = tf.keras.preprocessing.sequence.pad_sequences([inputs],\n",
        "                                                         maxlen=max_length_inp,\n",
        "                                                         padding='post')\n",
        "    inputs = tf.convert_to_tensor(inputs)\n",
        "\n",
        "    result = ''\n",
        "\n",
        "    hidden = [tf.zeros((1, units))]\n",
        "    enc_out, enc_hidden = encoder(inputs, hidden)\n",
        "\n",
        "    dec_hidden = enc_hidden\n",
        "    dec_input = tf.expand_dims([targ_lang.word_index['<start>']], 0)\n",
        "\n",
        "    for t in range(max_length_targ):\n",
        "        predictions, dec_hidden, attention_weights = decoder(dec_input, dec_hidden, enc_out)\n",
        "\n",
        "        # storing the attention weights to plot later on\n",
        "        attention_weights = tf.reshape(attention_weights, (-1, ))\n",
        "        attention_plot[t] = attention_weights.numpy()        \n",
        "           \n",
        "        predicted_id = tf.argmax(predictions[0]).numpy()\n",
        "        result += targ_lang.index_word[predicted_id] + ' '\n",
        "\n",
        "        if targ_lang.index_word[predicted_id] == '<end>':\n",
        "            return result, sentence, attention_plot\n",
        "\n",
        "        # the predicted ID is fed back into the model\n",
        "        dec_input = tf.expand_dims([predicted_id], 0)\n",
        "\n",
        "    return result, sentence, attention_plot"
      ],
      "execution_count": 29,
      "outputs": []
    },
    {
      "cell_type": "code",
      "metadata": {
        "id": "aoVIfVdYZUmP"
      },
      "source": [
        "# function for plotting the attention weights\n",
        "def plot_attention(attention, sentence, predicted_sentence):\n",
        "    fig = plt.figure(figsize=(10,10))\n",
        "    ax = fig.add_subplot(1, 1, 1)\n",
        "    ax.matshow(attention, cmap='viridis')\n",
        "\n",
        "    fontdict = {'fontsize': 14}\n",
        "\n",
        "    ax.set_xticklabels([''] + sentence, fontdict=fontdict, rotation=90)\n",
        "    ax.set_yticklabels([''] + predicted_sentence, fontdict=fontdict)\n",
        "\n",
        "    ax.xaxis.set_major_locator(ticker.MultipleLocator(1))\n",
        "    ax.yaxis.set_major_locator(ticker.MultipleLocator(1))\n",
        "\n",
        "    plt.show()"
      ],
      "execution_count": 30,
      "outputs": []
    },
    {
      "cell_type": "code",
      "metadata": {
        "id": "U3sHLa0YZniF"
      },
      "source": [
        "def translate(sentence):\n",
        "    result, sentence, attention_plot = evaluate(sentence)\n",
        "\n",
        "    print('Input: %s' % (sentence))\n",
        "    print('Predicted translation: {}'.format(result))\n",
        "    \n",
        "    attention_plot = attention_plot[:len(result.split(' ')), :len(sentence.split(' '))]\n",
        "    plot_attention(attention_plot, sentence.split(' '), result.split(' '))"
      ],
      "execution_count": 31,
      "outputs": []
    },
    {
      "cell_type": "code",
      "metadata": {
        "id": "X4B1gGMdZnks",
        "colab": {
          "base_uri": "https://localhost:8080/"
        },
        "outputId": "db61d176-252e-4a3a-8a49-1d6d89fc8966"
      },
      "source": [
        "# restoring the latest checkpoint in checkpoint_dir\n",
        "checkpoint.restore(tf.train.latest_checkpoint(checkpoint_dir))"
      ],
      "execution_count": 32,
      "outputs": [
        {
          "output_type": "execute_result",
          "data": {
            "text/plain": [
              "<tensorflow.python.training.tracking.util.CheckpointLoadStatus at 0x7f3cc5e12450>"
            ]
          },
          "metadata": {
            "tags": []
          },
          "execution_count": 32
        }
      ]
    },
    {
      "cell_type": "code",
      "metadata": {
        "id": "WJQxzQHi99ng",
        "colab": {
          "base_uri": "https://localhost:8080/",
          "height": 682
        },
        "outputId": "5c40ba5d-1f3b-4b6c-c18e-0679e2abe679"
      },
      "source": [
        "translate('Окно закрыто.')"
      ],
      "execution_count": 38,
      "outputs": [
        {
          "output_type": "stream",
          "text": [
            "Input: <start> окно закрыто . <end>\n",
            "Predicted translation: the window is closed . <end> \n"
          ],
          "name": "stdout"
        },
        {
          "output_type": "display_data",
          "data": {
            "image/png": "[encoded data removed]",
            "text/plain": [
              "<Figure size 720x720 with 1 Axes>"
            ]
          },
          "metadata": {
            "tags": [],
            "needs_background": "light"
          }
        }
      ]
    },
    {
      "cell_type": "code",
      "metadata": {
        "colab": {
          "base_uri": "https://localhost:8080/",
          "height": 683
        },
        "id": "MraoKeMB99rQ",
        "outputId": "ad5de861-50fd-4d1f-8f0f-d4e19c5e5cd2"
      },
      "source": [
        "translate('Самолет вылетит в 10 часов утра.')"
      ],
      "execution_count": 39,
      "outputs": [
        {
          "output_type": "stream",
          "text": [
            "Input: <start> самолет вылетит в часов утра . <end>\n",
            "Predicted translation: the fuse lit at home . <end> \n"
          ],
          "name": "stdout"
        },
        {
          "output_type": "display_data",
          "data": {
            "image/png": "[encoded data removed]",
            "text/plain": [
              "<Figure size 720x720 with 1 Axes>"
            ]
          },
          "metadata": {
            "tags": [],
            "needs_background": "light"
          }
        }
      ]
    },
    {
      "cell_type": "code",
      "metadata": {
        "id": "FAp8quEW99u2",
        "colab": {
          "base_uri": "https://localhost:8080/",
          "height": 684
        },
        "outputId": "abcfc064-6b04-4228-c6eb-1ea975b48f34"
      },
      "source": [
        "translate('Яблоки красные.')"
      ],
      "execution_count": 40,
      "outputs": [
        {
          "output_type": "stream",
          "text": [
            "Input: <start> яблоки красные . <end>\n",
            "Predicted translation: the apples are red . <end> \n"
          ],
          "name": "stdout"
        },
        {
          "output_type": "display_data",
          "data": {
            "image/png": "[encoded data removed]",
            "text/plain": [
              "<Figure size 720x720 with 1 Axes>"
            ]
          },
          "metadata": {
            "tags": [],
            "needs_background": "light"
          }
        }
      ]
    },
    {
      "cell_type": "code",
      "metadata": {
        "colab": {
          "base_uri": "https://localhost:8080/",
          "height": 677
        },
        "id": "Pd1vPs5fGMlL",
        "outputId": "c6b8b39f-2425-4608-d913-672546ee01dc"
      },
      "source": [
        "translate('Надо идти на работу завтра')"
      ],
      "execution_count": 42,
      "outputs": [
        {
          "output_type": "stream",
          "text": [
            "Input: <start> надо идти на работу завтра <end>\n",
            "Predicted translation: do you have to go to work ? <end> \n"
          ],
          "name": "stdout"
        },
        {
          "output_type": "display_data",
          "data": {
            "image/png": "[encoded data removed]",
            "text/plain": [
              "<Figure size 720x720 with 1 Axes>"
            ]
          },
          "metadata": {
            "tags": [],
            "needs_background": "light"
          }
        }
      ]
    }
  ]
}