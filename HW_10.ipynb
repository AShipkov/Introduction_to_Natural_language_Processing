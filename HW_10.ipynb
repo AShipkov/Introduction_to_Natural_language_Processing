{
  "nbformat": 4,
  "nbformat_minor": 0,
  "metadata": {
    "colab": {
      "name": "Untitled14.ipynb",
      "provenance": []
    },
    "kernelspec": {
      "name": "python3",
      "display_name": "Python 3"
    },
    "language_info": {
      "name": "python"
    },
    "accelerator": "GPU"
  },
  "cells": [
    {
      "cell_type": "code",
      "metadata": {
        "id": "Cd9RNbrzlOyL"
      },
      "source": [
        "import pandas as pd\n",
        "from sklearn.feature_extraction.text import CountVectorizer, TfidfVectorizer, HashingVectorizer\n",
        "from sklearn import model_selection, preprocessing, linear_model\n",
        "from sklearn.metrics import accuracy_score, classification_report\n",
        "from sklearn.model_selection import train_test_split\n",
        "import matplotlib.pyplot as plt\n",
        "%matplotlib inline\n",
        "import numpy as np\n",
        "import re\n",
        "import io\n",
        "import time\n",
        "import os"
      ],
      "execution_count": 1,
      "outputs": []
    },
    {
      "cell_type": "code",
      "metadata": {
        "id": "NSah4P_Xl3Za"
      },
      "source": [
        "import tensorflow as tf\n",
        "\n",
        "from tensorflow.keras.preprocessing.sequence import pad_sequences\n",
        "from tensorflow.keras.utils import to_categorical\n",
        "from tensorflow.keras.preprocessing.text import Tokenizer\n",
        "from tensorflow.keras.callbacks import EarlyStopping \n",
        "\n",
        "from tensorflow.keras import Sequential, Model\n",
        "from tensorflow.keras.layers import Dense, Dropout, Activation, Input, Embedding, Conv1D, GlobalMaxPool1D, MaxPooling1D, SimpleRNN, LSTM, GRU"
      ],
      "execution_count": 2,
      "outputs": []
    },
    {
      "cell_type": "code",
      "metadata": {
        "colab": {
          "base_uri": "https://localhost:8080/"
        },
        "id": "H_5HzVSNl3dD",
        "outputId": "90b2dd05-8f70-42df-cf1a-05b114c01bff"
      },
      "source": [
        "!wget http://www.manythings.org/anki/rus-eng.zip"
      ],
      "execution_count": 3,
      "outputs": [
        {
          "output_type": "stream",
          "text": [
            "--2021-08-09 11:39:52--  http://www.manythings.org/anki/rus-eng.zip\n",
            "Resolving www.manythings.org (www.manythings.org)... 104.21.92.44, 172.67.186.54, 2606:4700:3030::6815:5c2c, ...\n",
            "Connecting to www.manythings.org (www.manythings.org)|104.21.92.44|:80... connected.\n",
            "HTTP request sent, awaiting response... 200 OK\n",
            "Length: 14385451 (14M) [application/zip]\n",
            "Saving to: ‘rus-eng.zip’\n",
            "\n",
            "rus-eng.zip         100%[===================>]  13.72M  3.68MB/s    in 4.7s    \n",
            "\n",
            "2021-08-09 11:39:57 (2.91 MB/s) - ‘rus-eng.zip’ saved [14385451/14385451]\n",
            "\n"
          ],
          "name": "stdout"
        }
      ]
    },
    {
      "cell_type": "code",
      "metadata": {
        "id": "1m-68v7nl3g5"
      },
      "source": [
        "PATH_TO_FILE = '../data/rus-eng/rus.txt'\n",
        "NUM_EXAMPLES = 100_000"
      ],
      "execution_count": 4,
      "outputs": []
    },
    {
      "cell_type": "code",
      "metadata": {
        "colab": {
          "base_uri": "https://localhost:8080/"
        },
        "id": "BElN51FAl3j5",
        "outputId": "3c3b7db5-89e4-4f67-baa1-e1a162a23193"
      },
      "source": [
        "!mkdir rus-eng\n",
        "!unzip rus-eng.zip -d rus-eng/"
      ],
      "execution_count": 5,
      "outputs": [
        {
          "output_type": "stream",
          "text": [
            "Archive:  rus-eng.zip\n",
            "  inflating: rus-eng/rus.txt         \n",
            "  inflating: rus-eng/_about.txt      \n"
          ],
          "name": "stdout"
        }
      ]
    },
    {
      "cell_type": "code",
      "metadata": {
        "colab": {
          "base_uri": "https://localhost:8080/"
        },
        "id": "KgdYmp37nnm_",
        "outputId": "740d65a0-bb53-487b-ff3e-3c6030dbcdf0"
      },
      "source": [
        "!ls /content/rus-eng/ -lah"
      ],
      "execution_count": 6,
      "outputs": [
        {
          "output_type": "stream",
          "text": [
            "total 69M\n",
            "drwxr-xr-x 2 root root 4.0K Aug  9 11:39 .\n",
            "drwxr-xr-x 1 root root 4.0K Aug  9 11:39 ..\n",
            "-rw-r--r-- 1 root root 1.5K Jul 14 10:16 _about.txt\n",
            "-rw-r--r-- 1 root root  69M Jul 14 10:16 rus.txt\n"
          ],
          "name": "stdout"
        }
      ]
    },
    {
      "cell_type": "code",
      "metadata": {
        "id": "Ta1WBHOunyD4"
      },
      "source": [
        "# Download the file\n",
        "path_to_file = \"/content/rus-eng/rus.txt\""
      ],
      "execution_count": 7,
      "outputs": []
    },
    {
      "cell_type": "code",
      "metadata": {
        "id": "uvmxff-SnyJ3"
      },
      "source": [
        "def preprocess_sentence(w):\n",
        "    w = w.lower().strip()\n",
        "\n",
        "    # creating a space between a word and the punctuation following it\n",
        "    # eg: \"he is a boy.\" => \"he is a boy .\"\n",
        "    # Reference:- https://stackoverflow.com/questions/3645931/python-padding-punctuation-with-white-spaces-keeping-punctuation\n",
        "    w = re.sub(r\"([?.!,])\", r\" \\1 \", w)\n",
        "    w = re.sub(r'[\" \"]+', \" \", w) #collapse whitespaces\n",
        "\n",
        "    # replacing everything with space except (a-z, A-Z, \".\", \"?\", \"!\", \",\")\n",
        "    w = re.sub(r\"[^a-zA-Zа-яА-Я?.!,']+\", \" \", w)\n",
        "\n",
        "    w = w.strip() #Remove spaces at the beginning and at the end of the string\n",
        "\n",
        "    # adding a start and an end token to the sentence\n",
        "    # so that the model know when to start and stop predicting.\n",
        "    w = '<start> ' + w + ' <end>'\n",
        "    return w"
      ],
      "execution_count": 8,
      "outputs": []
    },
    {
      "cell_type": "code",
      "metadata": {
        "colab": {
          "base_uri": "https://localhost:8080/",
          "height": 35
        },
        "id": "J9LlbybzolcQ",
        "outputId": "8b16be9f-82b0-4ffe-af1f-7098a1cdd336"
      },
      "source": [
        "preprocess_sentence(\"I can't go.\")"
      ],
      "execution_count": 9,
      "outputs": [
        {
          "output_type": "execute_result",
          "data": {
            "application/vnd.google.colaboratory.intrinsic+json": {
              "type": "string"
            },
            "text/plain": [
              "\"<start> i can't go . <end>\""
            ]
          },
          "metadata": {
            "tags": []
          },
          "execution_count": 9
        }
      ]
    },
    {
      "cell_type": "code",
      "metadata": {
        "id": "ToHQczt4olfR"
      },
      "source": [
        "# 1. Remove the accents\n",
        "# 2. Clean the sentences\n",
        "# 3. Return word pairs in the format: [ENG, RUS]\n",
        "def create_dataset(path, num_examples):\n",
        "    lines = io.open(path, encoding='UTF-8').read().strip().split('\\n')\n",
        "\n",
        "    word_pairs = [[preprocess_sentence(w) for w in l.split('\\t')[:2]]  for l in lines[:num_examples]]\n",
        "\n",
        "    return zip(*word_pairs)"
      ],
      "execution_count": 10,
      "outputs": []
    },
    {
      "cell_type": "code",
      "metadata": {
        "colab": {
          "base_uri": "https://localhost:8080/"
        },
        "id": "RfJqrmb2oliR",
        "outputId": "25d12543-9242-40db-923e-10c48911a831"
      },
      "source": [
        "en, ru = create_dataset(path_to_file, None)\n",
        "print(en[0])\n",
        "print(ru[0])"
      ],
      "execution_count": 11,
      "outputs": [
        {
          "output_type": "stream",
          "text": [
            "<start> go . <end>\n",
            "<start> марш ! <end>\n"
          ],
          "name": "stdout"
        }
      ]
    },
    {
      "cell_type": "code",
      "metadata": {
        "colab": {
          "base_uri": "https://localhost:8080/"
        },
        "id": "HIYzWH5bolkr",
        "outputId": "df905394-3b7a-44a1-e846-09c1a0500dbc"
      },
      "source": [
        "en[:4]"
      ],
      "execution_count": 12,
      "outputs": [
        {
          "output_type": "execute_result",
          "data": {
            "text/plain": [
              "('<start> go . <end>',\n",
              " '<start> go . <end>',\n",
              " '<start> go . <end>',\n",
              " '<start> hi . <end>')"
            ]
          },
          "metadata": {
            "tags": []
          },
          "execution_count": 12
        }
      ]
    },
    {
      "cell_type": "code",
      "metadata": {
        "colab": {
          "base_uri": "https://localhost:8080/"
        },
        "id": "1WdZlCXEpj3E",
        "outputId": "7e40a818-369d-46e5-b651-fade0c351388"
      },
      "source": [
        "len(en), len(ru)"
      ],
      "execution_count": 14,
      "outputs": [
        {
          "output_type": "execute_result",
          "data": {
            "text/plain": [
              "(431097, 431097)"
            ]
          },
          "metadata": {
            "tags": []
          },
          "execution_count": 14
        }
      ]
    },
    {
      "cell_type": "code",
      "metadata": {
        "id": "KFt39i3-pj59"
      },
      "source": [
        "def tokenize(lang):\n",
        "    lang_tokenizer = tf.keras.preprocessing.text.Tokenizer(filters='')\n",
        "    lang_tokenizer.fit_on_texts(lang)\n",
        "\n",
        "    tensor = lang_tokenizer.texts_to_sequences(lang)\n",
        "\n",
        "    tensor = tf.keras.preprocessing.sequence.pad_sequences(tensor, padding='post')\n",
        "\n",
        "    return tensor, lang_tokenizer"
      ],
      "execution_count": 13,
      "outputs": []
    },
    {
      "cell_type": "code",
      "metadata": {
        "colab": {
          "base_uri": "https://localhost:8080/"
        },
        "id": "W1y__PA7pj9L",
        "outputId": "33f9cddb-84de-4aea-8724-269aff7ff7a9"
      },
      "source": [
        "tokenize(en[:2])"
      ],
      "execution_count": 15,
      "outputs": [
        {
          "output_type": "execute_result",
          "data": {
            "text/plain": [
              "(array([[1, 2, 3, 4],\n",
              "        [1, 2, 3, 4]], dtype=int32),\n",
              " <keras_preprocessing.text.Tokenizer at 0x7f788667a810>)"
            ]
          },
          "metadata": {
            "tags": []
          },
          "execution_count": 15
        }
      ]
    },
    {
      "cell_type": "code",
      "metadata": {
        "colab": {
          "base_uri": "https://localhost:8080/"
        },
        "id": "jE0OZ7XWpkAN",
        "outputId": "f884fae6-7bce-4358-ecc8-d2256bec1371"
      },
      "source": [
        "tokenize(en[:10])[0].shape"
      ],
      "execution_count": 16,
      "outputs": [
        {
          "output_type": "execute_result",
          "data": {
            "text/plain": [
              "(10, 4)"
            ]
          },
          "metadata": {
            "tags": []
          },
          "execution_count": 16
        }
      ]
    },
    {
      "cell_type": "code",
      "metadata": {
        "colab": {
          "base_uri": "https://localhost:8080/"
        },
        "id": "GTDTgSO8pkC2",
        "outputId": "198c5f48-23d4-4079-cbce-3cc000909a28"
      },
      "source": [
        "tokenize(en)[0].shape"
      ],
      "execution_count": 17,
      "outputs": [
        {
          "output_type": "execute_result",
          "data": {
            "text/plain": [
              "(431097, 112)"
            ]
          },
          "metadata": {
            "tags": []
          },
          "execution_count": 17
        }
      ]
    },
    {
      "cell_type": "code",
      "metadata": {
        "id": "4Me7LgOJoUN9"
      },
      "source": [
        "def load_dataset(path, num_examples=None):\n",
        "    # creating cleaned input, output pairs\n",
        "#     targ_lang, inp_lang = create_dataset(path, num_examples) # ru -> en\n",
        "    targ_lang, inp_lang = create_dataset(path, num_examples) # en -> ru\n",
        "    \n",
        "    input_tensor, inp_lang_tokenizer = tokenize(inp_lang)\n",
        "    target_tensor, targ_lang_tokenizer = tokenize(targ_lang)\n",
        "\n",
        "    return input_tensor, target_tensor, inp_lang_tokenizer, targ_lang_tokenizer"
      ],
      "execution_count": 18,
      "outputs": []
    },
    {
      "cell_type": "code",
      "metadata": {
        "id": "ez72-c_Rp3nk"
      },
      "source": [
        "# Try experimenting with the size of that dataset\n",
        "# num_examples = len(en)\n",
        "num_examples = 150000\n",
        "input_tensor, target_tensor, inp_lang, targ_lang = load_dataset(path_to_file, num_examples)\n",
        "\n",
        "# Calculate max_length of the target tensors\n",
        "max_length_targ, max_length_inp = target_tensor.shape[1], input_tensor.shape[1]"
      ],
      "execution_count": 19,
      "outputs": []
    },
    {
      "cell_type": "code",
      "metadata": {
        "colab": {
          "base_uri": "https://localhost:8080/"
        },
        "id": "LlRHrHwRp3qj",
        "outputId": "0f4d3996-11fc-4cb8-d4f0-1621044bacd1"
      },
      "source": [
        "max_length_targ, max_length_inp"
      ],
      "execution_count": 20,
      "outputs": [
        {
          "output_type": "execute_result",
          "data": {
            "text/plain": [
              "(12, 15)"
            ]
          },
          "metadata": {
            "tags": []
          },
          "execution_count": 20
        }
      ]
    },
    {
      "cell_type": "markdown",
      "metadata": {
        "id": "KwDLfc3TthLI"
      },
      "source": [
        ""
      ]
    },
    {
      "cell_type": "code",
      "metadata": {
        "colab": {
          "base_uri": "https://localhost:8080/"
        },
        "id": "TGv0GOJ3p3tj",
        "outputId": "602328b2-991c-4f0e-cdf4-23a34ad42c5d"
      },
      "source": [
        "input_tensor.shape"
      ],
      "execution_count": 21,
      "outputs": [
        {
          "output_type": "execute_result",
          "data": {
            "text/plain": [
              "(150000, 15)"
            ]
          },
          "metadata": {
            "tags": []
          },
          "execution_count": 21
        }
      ]
    },
    {
      "cell_type": "code",
      "metadata": {
        "colab": {
          "base_uri": "https://localhost:8080/"
        },
        "id": "_HtLTMjWp3wL",
        "outputId": "34092f10-fab8-4cea-e72c-df880a664895"
      },
      "source": [
        "# Creating training and validation sets using an 80-20 split\n",
        "input_tensor_train, input_tensor_val, target_tensor_train, target_tensor_val = train_test_split(input_tensor, target_tensor, test_size=0.2)\n",
        "\n",
        "# Show length\n",
        "print(len(input_tensor_train), len(target_tensor_train), len(input_tensor_val), len(target_tensor_val))"
      ],
      "execution_count": 22,
      "outputs": [
        {
          "output_type": "stream",
          "text": [
            "120000 120000 30000 30000\n"
          ],
          "name": "stdout"
        }
      ]
    },
    {
      "cell_type": "code",
      "metadata": {
        "id": "zhI2j2Ovp3zb"
      },
      "source": [
        "def convert(lang, tensor):\n",
        "    for t in tensor:\n",
        "        if t!=0:\n",
        "            print (\"%d ----> %s\" % (t, lang.index_word[t]))"
      ],
      "execution_count": 23,
      "outputs": []
    },
    {
      "cell_type": "code",
      "metadata": {
        "colab": {
          "base_uri": "https://localhost:8080/"
        },
        "id": "MHMG9b8Tp31c",
        "outputId": "544b2577-07e4-4bd6-bbb1-e2e143b02f66"
      },
      "source": [
        "input_tensor_train[0]"
      ],
      "execution_count": 24,
      "outputs": [
        {
          "output_type": "execute_result",
          "data": {
            "text/plain": [
              "array([   1,   13,   24,   64,   74, 2155,    3,    2,    0,    0,    0,\n",
              "          0,    0,    0,    0], dtype=int32)"
            ]
          },
          "metadata": {
            "tags": []
          },
          "execution_count": 24
        }
      ]
    },
    {
      "cell_type": "code",
      "metadata": {
        "colab": {
          "base_uri": "https://localhost:8080/"
        },
        "id": "_LJ0ljKpqEqj",
        "outputId": "4910de31-5d66-4649-efad-f7e178010a69"
      },
      "source": [
        "convert(inp_lang, input_tensor_train[0])"
      ],
      "execution_count": 25,
      "outputs": [
        {
          "output_type": "stream",
          "text": [
            "1 ----> <start>\n",
            "13 ----> мне\n",
            "24 ----> очень\n",
            "64 ----> нравится\n",
            "74 ----> быть\n",
            "2155 ----> учителем\n",
            "3 ----> .\n",
            "2 ----> <end>\n"
          ],
          "name": "stdout"
        }
      ]
    },
    {
      "cell_type": "code",
      "metadata": {
        "id": "q7Slq8SpqEuC"
      },
      "source": [
        "BUFFER_SIZE = len(input_tensor_train)\n",
        "BATCH_SIZE = 128\n",
        "\n",
        "steps_per_epoch = len(input_tensor_train)//BATCH_SIZE\n",
        "embedding_dim = 300\n",
        "units = 1024\n",
        "vocab_inp_size = len(inp_lang.word_index)+1\n",
        "vocab_tar_size = len(targ_lang.word_index)+1\n",
        "\n",
        "dataset = tf.data.Dataset.from_tensor_slices((input_tensor_train, target_tensor_train)).shuffle(BUFFER_SIZE)\n",
        "dataset = dataset.batch(BATCH_SIZE, drop_remainder=True)"
      ],
      "execution_count": 26,
      "outputs": []
    },
    {
      "cell_type": "code",
      "metadata": {
        "colab": {
          "base_uri": "https://localhost:8080/"
        },
        "id": "QxUU_udxqEw5",
        "outputId": "5a5be242-4999-4038-f542-28874a602610"
      },
      "source": [
        "example_input_batch, example_target_batch = next(iter(dataset))\n",
        "example_input_batch.shape, example_target_batch.shape"
      ],
      "execution_count": 27,
      "outputs": [
        {
          "output_type": "execute_result",
          "data": {
            "text/plain": [
              "(TensorShape([128, 15]), TensorShape([128, 12]))"
            ]
          },
          "metadata": {
            "tags": []
          },
          "execution_count": 27
        }
      ]
    },
    {
      "cell_type": "markdown",
      "metadata": {
        "id": "D6yIaNTMqUH7"
      },
      "source": [
        "model"
      ]
    },
    {
      "cell_type": "code",
      "metadata": {
        "id": "uxUSMP9yqEz9"
      },
      "source": [
        "class Encoder(tf.keras.Model):\n",
        "    def __init__(self, vocab_size, embedding_dim, enc_units, batch_sz):\n",
        "        super(Encoder, self).__init__()\n",
        "        self.batch_sz = batch_sz\n",
        "        self.enc_units = enc_units\n",
        "        self.embedding = tf.keras.layers.Embedding(vocab_size, embedding_dim)\n",
        "        self.gru = tf.keras.layers.GRU(self.enc_units,\n",
        "                                       return_sequences=False,\n",
        "                                       return_state=True,\n",
        "                                       recurrent_initializer='glorot_uniform')\n",
        "\n",
        "\n",
        "    def call(self, x, hidden):\n",
        "        x = self.embedding(x)\n",
        "        output, state = self.gru(x, initial_state = hidden)\n",
        "        return state\n",
        "\n",
        "    def initialize_hidden_state(self):\n",
        "        return tf.zeros((self.batch_sz, self.enc_units))"
      ],
      "execution_count": 28,
      "outputs": []
    },
    {
      "cell_type": "code",
      "metadata": {
        "colab": {
          "base_uri": "https://localhost:8080/"
        },
        "id": "RrkmJv0VqXJK",
        "outputId": "3b594d54-b16f-48f3-e223-43e5720e349c"
      },
      "source": [
        "encoder = Encoder(vocab_inp_size, embedding_dim, units, BATCH_SIZE)\n",
        "\n",
        "# sample input\n",
        "sample_hidden = encoder.initialize_hidden_state()\n",
        "sample_hidden = encoder.call(example_input_batch, sample_hidden)\n",
        "# print ('Encoder output shape: (batch size, sequence length, units) {}'.format(sample_output.shape))\n",
        "print ('Encoder Hidden state shape: (batch size, units) {}'.format(sample_hidden.shape))"
      ],
      "execution_count": 29,
      "outputs": [
        {
          "output_type": "stream",
          "text": [
            "Encoder Hidden state shape: (batch size, units) (128, 1024)\n"
          ],
          "name": "stdout"
        }
      ]
    },
    {
      "cell_type": "code",
      "metadata": {
        "id": "mfYBVwSEqXMK"
      },
      "source": [
        "class Decoder(tf.keras.Model):\n",
        "    def __init__(self, vocab_size, embedding_dim, dec_units, batch_sz):\n",
        "        super(Decoder, self).__init__()\n",
        "        self.batch_sz = batch_sz\n",
        "        self.dec_units = dec_units\n",
        "        self.embedding = tf.keras.layers.Embedding(vocab_size, embedding_dim)\n",
        "        self.gru = tf.keras.layers.GRU(self.dec_units,\n",
        "                                       return_sequences=True,\n",
        "                                       return_state=True,\n",
        "                                       recurrent_initializer='glorot_uniform')\n",
        "        self.fc = tf.keras.layers.Dense(vocab_size)\n",
        "\n",
        "    def call(self, x, hidden):\n",
        "        # enc_output shape == (batch_size, max_length, hidden_size)\n",
        "\n",
        "        # x shape after passing through embedding == (batch_size, 1, embedding_dim)\n",
        "        x = self.embedding(x)\n",
        "\n",
        "        # x shape after concatenation == (batch_size, 1, embedding_dim + hidden_size)\n",
        "\n",
        "        # passing the concatenated vector to the GRU\n",
        "        output, state = self.gru(x, initial_state=hidden)\n",
        "\n",
        "        # output shape == (batch_size * 1, hidden_size)\n",
        "        output = tf.reshape(output, (-1, output.shape[2]))\n",
        "\n",
        "        # output shape == (batch_size, vocab)\n",
        "        x = self.fc(output)\n",
        "\n",
        "        return x, state"
      ],
      "execution_count": 30,
      "outputs": []
    },
    {
      "cell_type": "code",
      "metadata": {
        "colab": {
          "base_uri": "https://localhost:8080/"
        },
        "id": "Gsjq2_x2qXPY",
        "outputId": "237c3a2b-4f56-497a-bb50-a4f9cf14b646"
      },
      "source": [
        "decoder = Decoder(vocab_tar_size, embedding_dim, units, BATCH_SIZE)\n",
        "decoder_sample_x, decoder_sample_h = decoder(tf.random.uniform((BATCH_SIZE, 1)),\n",
        "                                      sample_hidden)\n",
        "decoder_sample_x.shape, decoder_sample_h.shape"
      ],
      "execution_count": 31,
      "outputs": [
        {
          "output_type": "execute_result",
          "data": {
            "text/plain": [
              "(TensorShape([128, 8879]), TensorShape([128, 1024]))"
            ]
          },
          "metadata": {
            "tags": []
          },
          "execution_count": 31
        }
      ]
    },
    {
      "cell_type": "code",
      "metadata": {
        "id": "j-bkZCN4qXRy"
      },
      "source": [
        "optimizer = tf.keras.optimizers.Adam()\n",
        "\n",
        "loss_object = tf.keras.losses.SparseCategoricalCrossentropy(\n",
        "    from_logits=True, reduction='none')\n",
        "\n",
        "def loss_function(real, pred):\n",
        "    mask = tf.math.logical_not(tf.math.equal(real, 0))\n",
        "    loss_ = loss_object(real, pred)\n",
        "\n",
        "    mask = tf.cast(mask, dtype=loss_.dtype)\n",
        "    loss_ *= mask\n",
        "\n",
        "    return tf.reduce_mean(loss_)"
      ],
      "execution_count": 32,
      "outputs": []
    },
    {
      "cell_type": "code",
      "metadata": {
        "id": "Zwgk0vtVqhy7"
      },
      "source": [
        "checkpoint_dir = './training_checkpoints'\n",
        "\n",
        "checkpoint_prefix = os.path.join(checkpoint_dir, \"ckpt\")\n",
        "\n",
        "checkpoint = tf.train.Checkpoint(optimizer=optimizer,\n",
        "                                 encoder=encoder,\n",
        "                                 decoder=decoder)"
      ],
      "execution_count": 33,
      "outputs": []
    },
    {
      "cell_type": "code",
      "metadata": {
        "id": "qddQRD4Kqh1x"
      },
      "source": [
        "@tf.function\n",
        "def train_step(inp, targ, enc_hidden):\n",
        "    loss = 0\n",
        "\n",
        "    with tf.GradientTape() as tape:\n",
        "        enc_hidden = encoder(inp, enc_hidden)\n",
        "\n",
        "        dec_hidden = enc_hidden\n",
        "\n",
        "        dec_input = tf.expand_dims([targ_lang.word_index['<start>']] * BATCH_SIZE, 1)\n",
        "\n",
        "        # Teacher forcing - feeding the target as the next input\n",
        "        for t in range(1, targ.shape[1]):\n",
        "            # passing enc_output to the decoder\n",
        "            predictions, dec_hidden = decoder(dec_input, dec_hidden)\n",
        "\n",
        "            loss += loss_function(targ[:, t], predictions)\n",
        "\n",
        "            # using teacher forcing\n",
        "            dec_input = tf.expand_dims(targ[:, t], 1)\n",
        "\n",
        "    batch_loss = (loss / int(targ.shape[1]))\n",
        "\n",
        "    variables = encoder.trainable_variables + decoder.trainable_variables\n",
        "\n",
        "    gradients = tape.gradient(loss, variables)\n",
        "\n",
        "    optimizer.apply_gradients(zip(gradients, variables))\n",
        "\n",
        "    return batch_loss"
      ],
      "execution_count": 34,
      "outputs": []
    },
    {
      "cell_type": "code",
      "metadata": {
        "colab": {
          "base_uri": "https://localhost:8080/"
        },
        "id": "hr4LBWUCqh5d",
        "outputId": "0bed321d-5881-4b1c-9591-d522cf5a3234"
      },
      "source": [
        "EPOCHS = 50\n",
        "\n",
        "for epoch in range(EPOCHS):\n",
        "    start = time.time()\n",
        "\n",
        "    enc_hidden = encoder.initialize_hidden_state()\n",
        "    total_loss = 0\n",
        "\n",
        "    for (batch, (inp, targ)) in enumerate(dataset.take(steps_per_epoch)):\n",
        "        batch_loss = train_step(inp, targ, enc_hidden)\n",
        "        total_loss += batch_loss\n",
        "\n",
        "        if batch % 100 == 0:\n",
        "            print('Epoch {} Batch {} Loss {:.4f}'.format(epoch + 1,\n",
        "                                                       batch,\n",
        "                                                       batch_loss.numpy()))\n",
        "    # saving (checkpoint) the model every 2 epochs\n",
        "    if (epoch + 1) % 10 == 0:\n",
        "        checkpoint.save(file_prefix = checkpoint_prefix)\n",
        "\n",
        "    print('Epoch {} Loss {:.4f}'.format(epoch + 1,\n",
        "                                      total_loss / steps_per_epoch))\n",
        "    print('Time taken for 1 epoch {} sec\\n'.format(time.time() - start))"
      ],
      "execution_count": 35,
      "outputs": [
        {
          "output_type": "stream",
          "text": [
            "Epoch 1 Batch 0 Loss 4.5401\n",
            "Epoch 1 Batch 100 Loss 2.0368\n",
            "Epoch 1 Batch 200 Loss 1.8367\n",
            "Epoch 1 Batch 300 Loss 1.6978\n",
            "Epoch 1 Batch 400 Loss 1.5135\n",
            "Epoch 1 Batch 500 Loss 1.4658\n",
            "Epoch 1 Batch 600 Loss 1.4102\n",
            "Epoch 1 Batch 700 Loss 1.2184\n",
            "Epoch 1 Batch 800 Loss 1.1036\n",
            "Epoch 1 Batch 900 Loss 1.0667\n",
            "Epoch 1 Loss 1.5574\n",
            "Time taken for 1 epoch 122.38231325149536 sec\n",
            "\n",
            "Epoch 2 Batch 0 Loss 1.0126\n",
            "Epoch 2 Batch 100 Loss 0.9224\n",
            "Epoch 2 Batch 200 Loss 0.9133\n",
            "Epoch 2 Batch 300 Loss 0.8963\n",
            "Epoch 2 Batch 400 Loss 0.7964\n",
            "Epoch 2 Batch 500 Loss 0.7524\n",
            "Epoch 2 Batch 600 Loss 0.7650\n",
            "Epoch 2 Batch 700 Loss 0.7114\n",
            "Epoch 2 Batch 800 Loss 0.6245\n",
            "Epoch 2 Batch 900 Loss 0.6670\n",
            "Epoch 2 Loss 0.7866\n",
            "Time taken for 1 epoch 109.75420618057251 sec\n",
            "\n",
            "Epoch 3 Batch 0 Loss 0.4439\n",
            "Epoch 3 Batch 100 Loss 0.4691\n",
            "Epoch 3 Batch 200 Loss 0.4827\n",
            "Epoch 3 Batch 300 Loss 0.4156\n",
            "Epoch 3 Batch 400 Loss 0.4976\n",
            "Epoch 3 Batch 500 Loss 0.4691\n",
            "Epoch 3 Batch 600 Loss 0.3815\n",
            "Epoch 3 Batch 700 Loss 0.3838\n",
            "Epoch 3 Batch 800 Loss 0.3840\n",
            "Epoch 3 Batch 900 Loss 0.3997\n",
            "Epoch 3 Loss 0.4379\n",
            "Time taken for 1 epoch 109.7250554561615 sec\n",
            "\n",
            "Epoch 4 Batch 0 Loss 0.2813\n",
            "Epoch 4 Batch 100 Loss 0.2584\n",
            "Epoch 4 Batch 200 Loss 0.2822\n",
            "Epoch 4 Batch 300 Loss 0.2371\n",
            "Epoch 4 Batch 400 Loss 0.2497\n",
            "Epoch 4 Batch 500 Loss 0.2849\n",
            "Epoch 4 Batch 600 Loss 0.2350\n",
            "Epoch 4 Batch 700 Loss 0.2756\n",
            "Epoch 4 Batch 800 Loss 0.2804\n",
            "Epoch 4 Batch 900 Loss 0.2416\n",
            "Epoch 4 Loss 0.2636\n",
            "Time taken for 1 epoch 109.03274273872375 sec\n",
            "\n",
            "Epoch 5 Batch 0 Loss 0.1671\n",
            "Epoch 5 Batch 100 Loss 0.1526\n",
            "Epoch 5 Batch 200 Loss 0.1500\n",
            "Epoch 5 Batch 300 Loss 0.1525\n",
            "Epoch 5 Batch 400 Loss 0.1986\n",
            "Epoch 5 Batch 500 Loss 0.1655\n",
            "Epoch 5 Batch 600 Loss 0.1686\n",
            "Epoch 5 Batch 700 Loss 0.2067\n",
            "Epoch 5 Batch 800 Loss 0.2041\n",
            "Epoch 5 Batch 900 Loss 0.1586\n",
            "Epoch 5 Loss 0.1756\n",
            "Time taken for 1 epoch 108.58619117736816 sec\n",
            "\n",
            "Epoch 6 Batch 0 Loss 0.1288\n",
            "Epoch 6 Batch 100 Loss 0.1103\n",
            "Epoch 6 Batch 200 Loss 0.1136\n",
            "Epoch 6 Batch 300 Loss 0.1285\n",
            "Epoch 6 Batch 400 Loss 0.1311\n",
            "Epoch 6 Batch 500 Loss 0.1151\n",
            "Epoch 6 Batch 600 Loss 0.1058\n",
            "Epoch 6 Batch 700 Loss 0.1252\n",
            "Epoch 6 Batch 800 Loss 0.1361\n",
            "Epoch 6 Batch 900 Loss 0.1695\n",
            "Epoch 6 Loss 0.1282\n",
            "Time taken for 1 epoch 109.39950108528137 sec\n",
            "\n",
            "Epoch 7 Batch 0 Loss 0.0936\n",
            "Epoch 7 Batch 100 Loss 0.0980\n",
            "Epoch 7 Batch 200 Loss 0.1172\n",
            "Epoch 7 Batch 300 Loss 0.0944\n",
            "Epoch 7 Batch 400 Loss 0.1080\n",
            "Epoch 7 Batch 500 Loss 0.0812\n",
            "Epoch 7 Batch 600 Loss 0.0912\n",
            "Epoch 7 Batch 700 Loss 0.1138\n",
            "Epoch 7 Batch 800 Loss 0.1315\n",
            "Epoch 7 Batch 900 Loss 0.1471\n",
            "Epoch 7 Loss 0.1032\n",
            "Time taken for 1 epoch 109.3129780292511 sec\n",
            "\n",
            "Epoch 8 Batch 0 Loss 0.0846\n",
            "Epoch 8 Batch 100 Loss 0.0861\n",
            "Epoch 8 Batch 200 Loss 0.0904\n",
            "Epoch 8 Batch 300 Loss 0.0686\n",
            "Epoch 8 Batch 400 Loss 0.0910\n",
            "Epoch 8 Batch 500 Loss 0.0925\n",
            "Epoch 8 Batch 600 Loss 0.0845\n",
            "Epoch 8 Batch 700 Loss 0.1143\n",
            "Epoch 8 Batch 800 Loss 0.0815\n",
            "Epoch 8 Batch 900 Loss 0.0939\n",
            "Epoch 8 Loss 0.0911\n",
            "Time taken for 1 epoch 108.86272501945496 sec\n",
            "\n",
            "Epoch 9 Batch 0 Loss 0.0841\n",
            "Epoch 9 Batch 100 Loss 0.0673\n",
            "Epoch 9 Batch 200 Loss 0.0697\n",
            "Epoch 9 Batch 300 Loss 0.0746\n",
            "Epoch 9 Batch 400 Loss 0.0942\n",
            "Epoch 9 Batch 500 Loss 0.0842\n",
            "Epoch 9 Batch 600 Loss 0.0949\n",
            "Epoch 9 Batch 700 Loss 0.1051\n",
            "Epoch 9 Batch 800 Loss 0.1175\n",
            "Epoch 9 Batch 900 Loss 0.0887\n",
            "Epoch 9 Loss 0.0833\n",
            "Time taken for 1 epoch 108.80138731002808 sec\n",
            "\n",
            "Epoch 10 Batch 0 Loss 0.0478\n",
            "Epoch 10 Batch 100 Loss 0.0549\n",
            "Epoch 10 Batch 200 Loss 0.0616\n",
            "Epoch 10 Batch 300 Loss 0.0693\n",
            "Epoch 10 Batch 400 Loss 0.0572\n",
            "Epoch 10 Batch 500 Loss 0.0790\n",
            "Epoch 10 Batch 600 Loss 0.0778\n",
            "Epoch 10 Batch 700 Loss 0.0870\n",
            "Epoch 10 Batch 800 Loss 0.0868\n",
            "Epoch 10 Batch 900 Loss 0.0784\n",
            "Epoch 10 Loss 0.0780\n",
            "Time taken for 1 epoch 109.61519503593445 sec\n",
            "\n",
            "Epoch 11 Batch 0 Loss 0.0528\n",
            "Epoch 11 Batch 100 Loss 0.0700\n",
            "Epoch 11 Batch 200 Loss 0.0541\n",
            "Epoch 11 Batch 300 Loss 0.0666\n",
            "Epoch 11 Batch 400 Loss 0.0700\n",
            "Epoch 11 Batch 500 Loss 0.0553\n",
            "Epoch 11 Batch 600 Loss 0.0841\n",
            "Epoch 11 Batch 700 Loss 0.0583\n",
            "Epoch 11 Batch 800 Loss 0.0956\n",
            "Epoch 11 Batch 900 Loss 0.0880\n",
            "Epoch 11 Loss 0.0746\n",
            "Time taken for 1 epoch 111.04149103164673 sec\n",
            "\n",
            "Epoch 12 Batch 0 Loss 0.0561\n",
            "Epoch 12 Batch 100 Loss 0.0493\n",
            "Epoch 12 Batch 200 Loss 0.0466\n",
            "Epoch 12 Batch 300 Loss 0.0549\n",
            "Epoch 12 Batch 400 Loss 0.0936\n",
            "Epoch 12 Batch 500 Loss 0.0673\n",
            "Epoch 12 Batch 600 Loss 0.0749\n",
            "Epoch 12 Batch 700 Loss 0.0781\n",
            "Epoch 12 Batch 800 Loss 0.0697\n",
            "Epoch 12 Batch 900 Loss 0.1056\n",
            "Epoch 12 Loss 0.0725\n",
            "Time taken for 1 epoch 111.11301326751709 sec\n",
            "\n",
            "Epoch 13 Batch 0 Loss 0.0593\n",
            "Epoch 13 Batch 100 Loss 0.0660\n",
            "Epoch 13 Batch 200 Loss 0.0475\n",
            "Epoch 13 Batch 300 Loss 0.0591\n",
            "Epoch 13 Batch 400 Loss 0.0709\n",
            "Epoch 13 Batch 500 Loss 0.0692\n",
            "Epoch 13 Batch 600 Loss 0.0808\n",
            "Epoch 13 Batch 700 Loss 0.0711\n",
            "Epoch 13 Batch 800 Loss 0.0675\n",
            "Epoch 13 Batch 900 Loss 0.0837\n",
            "Epoch 13 Loss 0.0699\n",
            "Time taken for 1 epoch 111.13709735870361 sec\n",
            "\n",
            "Epoch 14 Batch 0 Loss 0.0587\n",
            "Epoch 14 Batch 100 Loss 0.0828\n",
            "Epoch 14 Batch 200 Loss 0.0375\n",
            "Epoch 14 Batch 300 Loss 0.0626\n",
            "Epoch 14 Batch 400 Loss 0.0480\n",
            "Epoch 14 Batch 500 Loss 0.0769\n",
            "Epoch 14 Batch 600 Loss 0.0516\n",
            "Epoch 14 Batch 700 Loss 0.0857\n",
            "Epoch 14 Batch 800 Loss 0.1020\n",
            "Epoch 14 Batch 900 Loss 0.0925\n",
            "Epoch 14 Loss 0.0682\n",
            "Time taken for 1 epoch 110.93494987487793 sec\n",
            "\n",
            "Epoch 15 Batch 0 Loss 0.0546\n",
            "Epoch 15 Batch 100 Loss 0.0596\n",
            "Epoch 15 Batch 200 Loss 0.0382\n",
            "Epoch 15 Batch 300 Loss 0.0528\n",
            "Epoch 15 Batch 400 Loss 0.0843\n",
            "Epoch 15 Batch 500 Loss 0.0516\n",
            "Epoch 15 Batch 600 Loss 0.0868\n",
            "Epoch 15 Batch 700 Loss 0.0695\n",
            "Epoch 15 Batch 800 Loss 0.0878\n",
            "Epoch 15 Batch 900 Loss 0.0876\n",
            "Epoch 15 Loss 0.0666\n",
            "Time taken for 1 epoch 111.02062797546387 sec\n",
            "\n",
            "Epoch 16 Batch 0 Loss 0.0507\n",
            "Epoch 16 Batch 100 Loss 0.0494\n",
            "Epoch 16 Batch 200 Loss 0.0690\n",
            "Epoch 16 Batch 300 Loss 0.0581\n",
            "Epoch 16 Batch 400 Loss 0.0726\n",
            "Epoch 16 Batch 500 Loss 0.0587\n",
            "Epoch 16 Batch 600 Loss 0.0694\n",
            "Epoch 16 Batch 700 Loss 0.0509\n",
            "Epoch 16 Batch 800 Loss 0.0535\n",
            "Epoch 16 Batch 900 Loss 0.0833\n",
            "Epoch 16 Loss 0.0654\n",
            "Time taken for 1 epoch 111.48582768440247 sec\n",
            "\n",
            "Epoch 17 Batch 0 Loss 0.0908\n",
            "Epoch 17 Batch 100 Loss 0.0383\n",
            "Epoch 17 Batch 200 Loss 0.0584\n",
            "Epoch 17 Batch 300 Loss 0.0820\n",
            "Epoch 17 Batch 400 Loss 0.0526\n",
            "Epoch 17 Batch 500 Loss 0.0514\n",
            "Epoch 17 Batch 600 Loss 0.0621\n",
            "Epoch 17 Batch 700 Loss 0.0872\n",
            "Epoch 17 Batch 800 Loss 0.0846\n",
            "Epoch 17 Batch 900 Loss 0.0745\n",
            "Epoch 17 Loss 0.0642\n",
            "Time taken for 1 epoch 111.04428505897522 sec\n",
            "\n",
            "Epoch 18 Batch 0 Loss 0.0619\n",
            "Epoch 18 Batch 100 Loss 0.0424\n",
            "Epoch 18 Batch 200 Loss 0.0502\n",
            "Epoch 18 Batch 300 Loss 0.0657\n",
            "Epoch 18 Batch 400 Loss 0.0571\n",
            "Epoch 18 Batch 500 Loss 0.0500\n",
            "Epoch 18 Batch 600 Loss 0.0500\n",
            "Epoch 18 Batch 700 Loss 0.0659\n",
            "Epoch 18 Batch 800 Loss 0.0984\n",
            "Epoch 18 Batch 900 Loss 0.0802\n",
            "Epoch 18 Loss 0.0631\n",
            "Time taken for 1 epoch 111.77227306365967 sec\n",
            "\n",
            "Epoch 19 Batch 0 Loss 0.0479\n",
            "Epoch 19 Batch 100 Loss 0.0327\n",
            "Epoch 19 Batch 200 Loss 0.0492\n",
            "Epoch 19 Batch 300 Loss 0.0596\n",
            "Epoch 19 Batch 400 Loss 0.0469\n",
            "Epoch 19 Batch 500 Loss 0.0610\n",
            "Epoch 19 Batch 600 Loss 0.0647\n",
            "Epoch 19 Batch 700 Loss 0.0735\n",
            "Epoch 19 Batch 800 Loss 0.0543\n",
            "Epoch 19 Batch 900 Loss 0.0974\n",
            "Epoch 19 Loss 0.0624\n",
            "Time taken for 1 epoch 110.97815990447998 sec\n",
            "\n",
            "Epoch 20 Batch 0 Loss 0.0425\n",
            "Epoch 20 Batch 100 Loss 0.0354\n",
            "Epoch 20 Batch 200 Loss 0.0609\n",
            "Epoch 20 Batch 300 Loss 0.0559\n",
            "Epoch 20 Batch 400 Loss 0.0490\n",
            "Epoch 20 Batch 500 Loss 0.0426\n",
            "Epoch 20 Batch 600 Loss 0.0726\n",
            "Epoch 20 Batch 700 Loss 0.0589\n",
            "Epoch 20 Batch 800 Loss 0.1124\n",
            "Epoch 20 Batch 900 Loss 0.0764\n",
            "Epoch 20 Loss 0.0616\n",
            "Time taken for 1 epoch 111.95425367355347 sec\n",
            "\n",
            "Epoch 21 Batch 0 Loss 0.0461\n",
            "Epoch 21 Batch 100 Loss 0.0382\n",
            "Epoch 21 Batch 200 Loss 0.0302\n",
            "Epoch 21 Batch 300 Loss 0.0646\n",
            "Epoch 21 Batch 400 Loss 0.0888\n",
            "Epoch 21 Batch 500 Loss 0.0529\n",
            "Epoch 21 Batch 600 Loss 0.0690\n",
            "Epoch 21 Batch 700 Loss 0.0483\n",
            "Epoch 21 Batch 800 Loss 0.0770\n",
            "Epoch 21 Batch 900 Loss 0.0687\n",
            "Epoch 21 Loss 0.0605\n",
            "Time taken for 1 epoch 111.56079602241516 sec\n",
            "\n",
            "Epoch 22 Batch 0 Loss 0.0412\n",
            "Epoch 22 Batch 100 Loss 0.0640\n",
            "Epoch 22 Batch 200 Loss 0.0558\n",
            "Epoch 22 Batch 300 Loss 0.0669\n",
            "Epoch 22 Batch 400 Loss 0.0637\n",
            "Epoch 22 Batch 500 Loss 0.0725\n",
            "Epoch 22 Batch 600 Loss 0.0576\n",
            "Epoch 22 Batch 700 Loss 0.0425\n",
            "Epoch 22 Batch 800 Loss 0.0709\n",
            "Epoch 22 Batch 900 Loss 0.0734\n",
            "Epoch 22 Loss 0.0600\n",
            "Time taken for 1 epoch 111.29777812957764 sec\n",
            "\n",
            "Epoch 23 Batch 0 Loss 0.0450\n",
            "Epoch 23 Batch 100 Loss 0.0299\n",
            "Epoch 23 Batch 200 Loss 0.0607\n",
            "Epoch 23 Batch 300 Loss 0.0607\n",
            "Epoch 23 Batch 400 Loss 0.0616\n",
            "Epoch 23 Batch 500 Loss 0.0524\n",
            "Epoch 23 Batch 600 Loss 0.0779\n",
            "Epoch 23 Batch 700 Loss 0.0558\n",
            "Epoch 23 Batch 800 Loss 0.0587\n",
            "Epoch 23 Batch 900 Loss 0.0775\n",
            "Epoch 23 Loss 0.0599\n",
            "Time taken for 1 epoch 111.24401903152466 sec\n",
            "\n",
            "Epoch 24 Batch 0 Loss 0.0348\n",
            "Epoch 24 Batch 100 Loss 0.0362\n",
            "Epoch 24 Batch 200 Loss 0.0643\n",
            "Epoch 24 Batch 300 Loss 0.0541\n",
            "Epoch 24 Batch 400 Loss 0.0636\n",
            "Epoch 24 Batch 500 Loss 0.0477\n",
            "Epoch 24 Batch 600 Loss 0.0732\n",
            "Epoch 24 Batch 700 Loss 0.0474\n",
            "Epoch 24 Batch 800 Loss 0.0608\n",
            "Epoch 24 Batch 900 Loss 0.0550\n",
            "Epoch 24 Loss 0.0586\n",
            "Time taken for 1 epoch 111.90302085876465 sec\n",
            "\n",
            "Epoch 25 Batch 0 Loss 0.0453\n",
            "Epoch 25 Batch 100 Loss 0.0506\n",
            "Epoch 25 Batch 200 Loss 0.0356\n",
            "Epoch 25 Batch 300 Loss 0.0741\n",
            "Epoch 25 Batch 400 Loss 0.0401\n",
            "Epoch 25 Batch 500 Loss 0.0696\n",
            "Epoch 25 Batch 600 Loss 0.0742\n",
            "Epoch 25 Batch 700 Loss 0.0666\n",
            "Epoch 25 Batch 800 Loss 0.0528\n",
            "Epoch 25 Batch 900 Loss 0.0762\n",
            "Epoch 25 Loss 0.0581\n",
            "Time taken for 1 epoch 111.74806332588196 sec\n",
            "\n",
            "Epoch 26 Batch 0 Loss 0.0490\n",
            "Epoch 26 Batch 100 Loss 0.0505\n",
            "Epoch 26 Batch 200 Loss 0.0402\n",
            "Epoch 26 Batch 300 Loss 0.0468\n",
            "Epoch 26 Batch 400 Loss 0.0525\n",
            "Epoch 26 Batch 500 Loss 0.0546\n",
            "Epoch 26 Batch 600 Loss 0.0647\n",
            "Epoch 26 Batch 700 Loss 0.0513\n",
            "Epoch 26 Batch 800 Loss 0.0803\n",
            "Epoch 26 Batch 900 Loss 0.0761\n",
            "Epoch 26 Loss 0.0580\n",
            "Time taken for 1 epoch 111.70451283454895 sec\n",
            "\n",
            "Epoch 27 Batch 0 Loss 0.0373\n",
            "Epoch 27 Batch 100 Loss 0.0362\n",
            "Epoch 27 Batch 200 Loss 0.0465\n",
            "Epoch 27 Batch 300 Loss 0.0605\n",
            "Epoch 27 Batch 400 Loss 0.0333\n",
            "Epoch 27 Batch 500 Loss 0.0655\n",
            "Epoch 27 Batch 600 Loss 0.0502\n",
            "Epoch 27 Batch 700 Loss 0.0556\n",
            "Epoch 27 Batch 800 Loss 0.0585\n",
            "Epoch 27 Batch 900 Loss 0.0699\n",
            "Epoch 27 Loss 0.0574\n",
            "Time taken for 1 epoch 111.50986766815186 sec\n",
            "\n",
            "Epoch 28 Batch 0 Loss 0.0486\n",
            "Epoch 28 Batch 100 Loss 0.0349\n",
            "Epoch 28 Batch 200 Loss 0.0435\n",
            "Epoch 28 Batch 300 Loss 0.0539\n",
            "Epoch 28 Batch 400 Loss 0.0492\n",
            "Epoch 28 Batch 500 Loss 0.0509\n",
            "Epoch 28 Batch 600 Loss 0.0549\n",
            "Epoch 28 Batch 700 Loss 0.0543\n",
            "Epoch 28 Batch 800 Loss 0.0532\n",
            "Epoch 28 Batch 900 Loss 0.0561\n",
            "Epoch 28 Loss 0.0566\n",
            "Time taken for 1 epoch 110.88902282714844 sec\n",
            "\n",
            "Epoch 29 Batch 0 Loss 0.0372\n",
            "Epoch 29 Batch 100 Loss 0.0625\n",
            "Epoch 29 Batch 200 Loss 0.0470\n",
            "Epoch 29 Batch 300 Loss 0.0358\n",
            "Epoch 29 Batch 400 Loss 0.0325\n",
            "Epoch 29 Batch 500 Loss 0.0507\n",
            "Epoch 29 Batch 600 Loss 0.0320\n",
            "Epoch 29 Batch 700 Loss 0.0535\n",
            "Epoch 29 Batch 800 Loss 0.0694\n",
            "Epoch 29 Batch 900 Loss 0.0718\n",
            "Epoch 29 Loss 0.0559\n",
            "Time taken for 1 epoch 111.89149928092957 sec\n",
            "\n",
            "Epoch 30 Batch 0 Loss 0.0435\n",
            "Epoch 30 Batch 100 Loss 0.0305\n",
            "Epoch 30 Batch 200 Loss 0.0668\n",
            "Epoch 30 Batch 300 Loss 0.0591\n",
            "Epoch 30 Batch 400 Loss 0.0518\n",
            "Epoch 30 Batch 500 Loss 0.0456\n",
            "Epoch 30 Batch 600 Loss 0.0417\n",
            "Epoch 30 Batch 700 Loss 0.0604\n",
            "Epoch 30 Batch 800 Loss 0.0703\n",
            "Epoch 30 Batch 900 Loss 0.0597\n",
            "Epoch 30 Loss 0.0559\n",
            "Time taken for 1 epoch 112.7084653377533 sec\n",
            "\n",
            "Epoch 31 Batch 0 Loss 0.0539\n",
            "Epoch 31 Batch 100 Loss 0.0572\n",
            "Epoch 31 Batch 200 Loss 0.0512\n",
            "Epoch 31 Batch 300 Loss 0.0459\n",
            "Epoch 31 Batch 400 Loss 0.0410\n",
            "Epoch 31 Batch 500 Loss 0.0533\n",
            "Epoch 31 Batch 600 Loss 0.0495\n",
            "Epoch 31 Batch 700 Loss 0.0527\n",
            "Epoch 31 Batch 800 Loss 0.0443\n",
            "Epoch 31 Batch 900 Loss 0.0825\n",
            "Epoch 31 Loss 0.0554\n",
            "Time taken for 1 epoch 111.44756293296814 sec\n",
            "\n",
            "Epoch 32 Batch 0 Loss 0.0432\n",
            "Epoch 32 Batch 100 Loss 0.0487\n",
            "Epoch 32 Batch 200 Loss 0.0457\n",
            "Epoch 32 Batch 300 Loss 0.0458\n",
            "Epoch 32 Batch 400 Loss 0.0576\n",
            "Epoch 32 Batch 500 Loss 0.0493\n",
            "Epoch 32 Batch 600 Loss 0.0709\n",
            "Epoch 32 Batch 700 Loss 0.0448\n",
            "Epoch 32 Batch 800 Loss 0.0550\n",
            "Epoch 32 Batch 900 Loss 0.0693\n",
            "Epoch 32 Loss 0.0549\n",
            "Time taken for 1 epoch 111.75768685340881 sec\n",
            "\n",
            "Epoch 33 Batch 0 Loss 0.0501\n",
            "Epoch 33 Batch 100 Loss 0.0390\n",
            "Epoch 33 Batch 200 Loss 0.0550\n",
            "Epoch 33 Batch 300 Loss 0.0416\n",
            "Epoch 33 Batch 400 Loss 0.0477\n",
            "Epoch 33 Batch 500 Loss 0.0621\n",
            "Epoch 33 Batch 600 Loss 0.0555\n",
            "Epoch 33 Batch 700 Loss 0.0344\n",
            "Epoch 33 Batch 800 Loss 0.0566\n",
            "Epoch 33 Batch 900 Loss 0.0887\n",
            "Epoch 33 Loss 0.0542\n",
            "Time taken for 1 epoch 111.65211248397827 sec\n",
            "\n",
            "Epoch 34 Batch 0 Loss 0.0593\n",
            "Epoch 34 Batch 100 Loss 0.0510\n",
            "Epoch 34 Batch 200 Loss 0.0510\n",
            "Epoch 34 Batch 300 Loss 0.0471\n",
            "Epoch 34 Batch 400 Loss 0.0506\n",
            "Epoch 34 Batch 500 Loss 0.0513\n",
            "Epoch 34 Batch 600 Loss 0.0602\n",
            "Epoch 34 Batch 700 Loss 0.0535\n",
            "Epoch 34 Batch 800 Loss 0.1046\n",
            "Epoch 34 Batch 900 Loss 0.0610\n",
            "Epoch 34 Loss 0.0539\n",
            "Time taken for 1 epoch 141.914071559906 sec\n",
            "\n",
            "Epoch 35 Batch 0 Loss 0.0397\n",
            "Epoch 35 Batch 100 Loss 0.0357\n",
            "Epoch 35 Batch 200 Loss 0.0432\n",
            "Epoch 35 Batch 300 Loss 0.0544\n",
            "Epoch 35 Batch 400 Loss 0.0716\n",
            "Epoch 35 Batch 500 Loss 0.0493\n",
            "Epoch 35 Batch 600 Loss 0.0598\n",
            "Epoch 35 Batch 700 Loss 0.0755\n",
            "Epoch 35 Batch 800 Loss 0.0658\n",
            "Epoch 35 Batch 900 Loss 0.0674\n",
            "Epoch 35 Loss 0.0533\n",
            "Time taken for 1 epoch 112.37008237838745 sec\n",
            "\n",
            "Epoch 36 Batch 0 Loss 0.0476\n",
            "Epoch 36 Batch 100 Loss 0.0339\n",
            "Epoch 36 Batch 200 Loss 0.0348\n",
            "Epoch 36 Batch 300 Loss 0.0641\n",
            "Epoch 36 Batch 400 Loss 0.0752\n",
            "Epoch 36 Batch 500 Loss 0.0624\n",
            "Epoch 36 Batch 600 Loss 0.0613\n",
            "Epoch 36 Batch 700 Loss 0.0440\n",
            "Epoch 36 Batch 800 Loss 0.0589\n",
            "Epoch 36 Batch 900 Loss 0.0597\n",
            "Epoch 36 Loss 0.0532\n",
            "Time taken for 1 epoch 111.91830110549927 sec\n",
            "\n",
            "Epoch 37 Batch 0 Loss 0.0359\n",
            "Epoch 37 Batch 100 Loss 0.0528\n",
            "Epoch 37 Batch 200 Loss 0.0549\n",
            "Epoch 37 Batch 300 Loss 0.0498\n",
            "Epoch 37 Batch 400 Loss 0.0589\n",
            "Epoch 37 Batch 500 Loss 0.0489\n",
            "Epoch 37 Batch 600 Loss 0.0607\n",
            "Epoch 37 Batch 700 Loss 0.0743\n",
            "Epoch 37 Batch 800 Loss 0.0755\n",
            "Epoch 37 Batch 900 Loss 0.0554\n",
            "Epoch 37 Loss 0.0530\n",
            "Time taken for 1 epoch 111.60762596130371 sec\n",
            "\n",
            "Epoch 38 Batch 0 Loss 0.0375\n",
            "Epoch 38 Batch 100 Loss 0.0549\n",
            "Epoch 38 Batch 200 Loss 0.0701\n",
            "Epoch 38 Batch 300 Loss 0.0231\n",
            "Epoch 38 Batch 400 Loss 0.0556\n",
            "Epoch 38 Batch 500 Loss 0.0511\n",
            "Epoch 38 Batch 600 Loss 0.0436\n",
            "Epoch 38 Batch 700 Loss 0.0559\n",
            "Epoch 38 Batch 800 Loss 0.0629\n",
            "Epoch 38 Batch 900 Loss 0.0669\n",
            "Epoch 38 Loss 0.0522\n",
            "Time taken for 1 epoch 111.78939437866211 sec\n",
            "\n",
            "Epoch 39 Batch 0 Loss 0.0308\n",
            "Epoch 39 Batch 100 Loss 0.0420\n",
            "Epoch 39 Batch 200 Loss 0.0355\n",
            "Epoch 39 Batch 300 Loss 0.0345\n",
            "Epoch 39 Batch 400 Loss 0.0418\n",
            "Epoch 39 Batch 500 Loss 0.0605\n",
            "Epoch 39 Batch 600 Loss 0.0476\n",
            "Epoch 39 Batch 700 Loss 0.0511\n",
            "Epoch 39 Batch 800 Loss 0.0455\n",
            "Epoch 39 Batch 900 Loss 0.0627\n",
            "Epoch 39 Loss 0.0524\n",
            "Time taken for 1 epoch 112.01886916160583 sec\n",
            "\n",
            "Epoch 40 Batch 0 Loss 0.0547\n",
            "Epoch 40 Batch 100 Loss 0.0218\n",
            "Epoch 40 Batch 200 Loss 0.0507\n",
            "Epoch 40 Batch 300 Loss 0.0613\n",
            "Epoch 40 Batch 400 Loss 0.0643\n",
            "Epoch 40 Batch 500 Loss 0.0480\n",
            "Epoch 40 Batch 600 Loss 0.0710\n",
            "Epoch 40 Batch 700 Loss 0.0767\n",
            "Epoch 40 Batch 800 Loss 0.0643\n",
            "Epoch 40 Batch 900 Loss 0.0867\n",
            "Epoch 40 Loss 0.0517\n",
            "Time taken for 1 epoch 112.3233802318573 sec\n",
            "\n",
            "Epoch 41 Batch 0 Loss 0.0240\n",
            "Epoch 41 Batch 100 Loss 0.0532\n",
            "Epoch 41 Batch 200 Loss 0.0381\n",
            "Epoch 41 Batch 300 Loss 0.0308\n",
            "Epoch 41 Batch 400 Loss 0.0336\n",
            "Epoch 41 Batch 500 Loss 0.0591\n",
            "Epoch 41 Batch 600 Loss 0.0522\n",
            "Epoch 41 Batch 700 Loss 0.0738\n",
            "Epoch 41 Batch 800 Loss 0.0547\n",
            "Epoch 41 Batch 900 Loss 0.0485\n",
            "Epoch 41 Loss 0.0517\n",
            "Time taken for 1 epoch 111.5698812007904 sec\n",
            "\n",
            "Epoch 42 Batch 0 Loss 0.0526\n",
            "Epoch 42 Batch 100 Loss 0.0346\n",
            "Epoch 42 Batch 200 Loss 0.0514\n",
            "Epoch 42 Batch 300 Loss 0.0571\n",
            "Epoch 42 Batch 400 Loss 0.0591\n",
            "Epoch 42 Batch 500 Loss 0.0392\n",
            "Epoch 42 Batch 600 Loss 0.0607\n",
            "Epoch 42 Batch 700 Loss 0.0398\n",
            "Epoch 42 Batch 800 Loss 0.0669\n",
            "Epoch 42 Batch 900 Loss 0.0594\n",
            "Epoch 42 Loss 0.0510\n",
            "Time taken for 1 epoch 111.30876898765564 sec\n",
            "\n",
            "Epoch 43 Batch 0 Loss 0.0429\n",
            "Epoch 43 Batch 100 Loss 0.0469\n",
            "Epoch 43 Batch 200 Loss 0.0391\n",
            "Epoch 43 Batch 300 Loss 0.0387\n",
            "Epoch 43 Batch 400 Loss 0.0497\n",
            "Epoch 43 Batch 500 Loss 0.0603\n",
            "Epoch 43 Batch 600 Loss 0.0513\n",
            "Epoch 43 Batch 700 Loss 0.0411\n",
            "Epoch 43 Batch 800 Loss 0.0542\n",
            "Epoch 43 Batch 900 Loss 0.0547\n",
            "Epoch 43 Loss 0.0504\n",
            "Time taken for 1 epoch 110.34107422828674 sec\n",
            "\n",
            "Epoch 44 Batch 0 Loss 0.0346\n",
            "Epoch 44 Batch 100 Loss 0.0369\n",
            "Epoch 44 Batch 200 Loss 0.0394\n",
            "Epoch 44 Batch 300 Loss 0.0588\n",
            "Epoch 44 Batch 400 Loss 0.0756\n",
            "Epoch 44 Batch 500 Loss 0.0511\n",
            "Epoch 44 Batch 600 Loss 0.0505\n",
            "Epoch 44 Batch 700 Loss 0.0439\n",
            "Epoch 44 Batch 800 Loss 0.0706\n",
            "Epoch 44 Batch 900 Loss 0.0678\n",
            "Epoch 44 Loss 0.0508\n",
            "Time taken for 1 epoch 111.65620112419128 sec\n",
            "\n",
            "Epoch 45 Batch 0 Loss 0.0313\n",
            "Epoch 45 Batch 100 Loss 0.0430\n",
            "Epoch 45 Batch 200 Loss 0.0574\n",
            "Epoch 45 Batch 300 Loss 0.0447\n",
            "Epoch 45 Batch 400 Loss 0.0341\n",
            "Epoch 45 Batch 500 Loss 0.0493\n",
            "Epoch 45 Batch 600 Loss 0.0461\n",
            "Epoch 45 Batch 700 Loss 0.0489\n",
            "Epoch 45 Batch 800 Loss 0.0800\n",
            "Epoch 45 Batch 900 Loss 0.0566\n",
            "Epoch 45 Loss 0.0502\n",
            "Time taken for 1 epoch 111.20377254486084 sec\n",
            "\n",
            "Epoch 46 Batch 0 Loss 0.0287\n",
            "Epoch 46 Batch 100 Loss 0.0402\n",
            "Epoch 46 Batch 200 Loss 0.0295\n",
            "Epoch 46 Batch 300 Loss 0.0468\n",
            "Epoch 46 Batch 400 Loss 0.0600\n",
            "Epoch 46 Batch 500 Loss 0.0383\n",
            "Epoch 46 Batch 600 Loss 0.0299\n",
            "Epoch 46 Batch 700 Loss 0.0575\n",
            "Epoch 46 Batch 800 Loss 0.0572\n",
            "Epoch 46 Batch 900 Loss 0.0522\n",
            "Epoch 46 Loss 0.0498\n",
            "Time taken for 1 epoch 111.7677640914917 sec\n",
            "\n",
            "Epoch 47 Batch 0 Loss 0.0287\n",
            "Epoch 47 Batch 100 Loss 0.0213\n",
            "Epoch 47 Batch 200 Loss 0.0463\n",
            "Epoch 47 Batch 300 Loss 0.0447\n",
            "Epoch 47 Batch 400 Loss 0.0410\n",
            "Epoch 47 Batch 500 Loss 0.0286\n",
            "Epoch 47 Batch 600 Loss 0.0671\n",
            "Epoch 47 Batch 700 Loss 0.0552\n",
            "Epoch 47 Batch 800 Loss 0.0757\n",
            "Epoch 47 Batch 900 Loss 0.0618\n",
            "Epoch 47 Loss 0.0493\n",
            "Time taken for 1 epoch 112.25912737846375 sec\n",
            "\n",
            "Epoch 48 Batch 0 Loss 0.0328\n",
            "Epoch 48 Batch 100 Loss 0.0362\n",
            "Epoch 48 Batch 200 Loss 0.0600\n",
            "Epoch 48 Batch 300 Loss 0.0445\n",
            "Epoch 48 Batch 400 Loss 0.0429\n",
            "Epoch 48 Batch 500 Loss 0.0583\n",
            "Epoch 48 Batch 600 Loss 0.0577\n",
            "Epoch 48 Batch 700 Loss 0.0406\n",
            "Epoch 48 Batch 800 Loss 0.0570\n",
            "Epoch 48 Batch 900 Loss 0.0693\n",
            "Epoch 48 Loss 0.0495\n",
            "Time taken for 1 epoch 111.42527723312378 sec\n",
            "\n",
            "Epoch 49 Batch 0 Loss 0.0336\n",
            "Epoch 49 Batch 100 Loss 0.0368\n",
            "Epoch 49 Batch 200 Loss 0.0628\n",
            "Epoch 49 Batch 300 Loss 0.0341\n",
            "Epoch 49 Batch 400 Loss 0.0518\n",
            "Epoch 49 Batch 500 Loss 0.0523\n",
            "Epoch 49 Batch 600 Loss 0.0531\n",
            "Epoch 49 Batch 700 Loss 0.0624\n",
            "Epoch 49 Batch 800 Loss 0.0856\n",
            "Epoch 49 Batch 900 Loss 0.0662\n",
            "Epoch 49 Loss 0.0493\n",
            "Time taken for 1 epoch 111.69734048843384 sec\n",
            "\n",
            "Epoch 50 Batch 0 Loss 0.0313\n",
            "Epoch 50 Batch 100 Loss 0.0329\n",
            "Epoch 50 Batch 200 Loss 0.0417\n",
            "Epoch 50 Batch 300 Loss 0.0462\n",
            "Epoch 50 Batch 400 Loss 0.0614\n",
            "Epoch 50 Batch 500 Loss 0.0280\n",
            "Epoch 50 Batch 600 Loss 0.0515\n",
            "Epoch 50 Batch 700 Loss 0.0495\n",
            "Epoch 50 Batch 800 Loss 0.0565\n",
            "Epoch 50 Batch 900 Loss 0.0440\n",
            "Epoch 50 Loss 0.0485\n",
            "Time taken for 1 epoch 112.70471596717834 sec\n",
            "\n"
          ],
          "name": "stdout"
        }
      ]
    },
    {
      "cell_type": "markdown",
      "metadata": {
        "id": "LCuNiYeQrDrJ"
      },
      "source": [
        "translate"
      ]
    },
    {
      "cell_type": "code",
      "metadata": {
        "id": "vdUPQX3Nqh7p"
      },
      "source": [
        "def evaluate(sentence):\n",
        "    attention_plot = np.zeros((max_length_targ, max_length_inp))\n",
        "\n",
        "    sentence = preprocess_sentence(sentence)\n",
        "\n",
        "    inputs = [inp_lang.word_index[i] for i in sentence.split(' ')]\n",
        "    inputs = tf.keras.preprocessing.sequence.pad_sequences([inputs],\n",
        "                                                         maxlen=max_length_inp,\n",
        "                                                         padding='post')\n",
        "    inputs = tf.convert_to_tensor(inputs)\n",
        "\n",
        "    result = ''\n",
        "\n",
        "    hidden = [tf.zeros((1, units))]\n",
        "    enc_hidden = encoder(inputs, hidden)\n",
        "\n",
        "    dec_hidden = enc_hidden\n",
        "    dec_input = tf.expand_dims([targ_lang.word_index['<start>']], 0)\n",
        "\n",
        "    for t in range(max_length_targ):\n",
        "        predictions, dec_hidden = decoder(dec_input, dec_hidden)\n",
        "\n",
        "        # storing the attention weights to plot later on\n",
        "        predicted_id = tf.argmax(predictions[0]).numpy()\n",
        "        result += targ_lang.index_word[predicted_id] + ' '\n",
        "\n",
        "        if targ_lang.index_word[predicted_id] == '<end>':\n",
        "            return result, sentence\n",
        "\n",
        "        # the predicted ID is fed back into the model\n",
        "        dec_input = tf.expand_dims([predicted_id], 0)\n",
        "\n",
        "    return result, sentence"
      ],
      "execution_count": 36,
      "outputs": []
    },
    {
      "cell_type": "code",
      "metadata": {
        "id": "Mei0EokUqXVp"
      },
      "source": [
        "def translate(sentence):\n",
        "    result, sentence = evaluate(sentence)\n",
        "\n",
        "    print('Input: %s' % (sentence))\n",
        "    print('Predicted translation: {}'.format(result))"
      ],
      "execution_count": 37,
      "outputs": []
    },
    {
      "cell_type": "code",
      "metadata": {
        "colab": {
          "base_uri": "https://localhost:8080/"
        },
        "id": "N1IO5p36rWNl",
        "outputId": "b6ffd26d-ffb2-4db5-81c1-c0e32df96d33"
      },
      "source": [
        "# restoring the latest checkpoint in checkpoint_dir\n",
        "checkpoint.restore(tf.train.latest_checkpoint(checkpoint_dir))"
      ],
      "execution_count": 39,
      "outputs": [
        {
          "output_type": "execute_result",
          "data": {
            "text/plain": [
              "<tensorflow.python.training.tracking.util.CheckpointLoadStatus at 0x7f78727ee3d0>"
            ]
          },
          "metadata": {
            "tags": []
          },
          "execution_count": 39
        }
      ]
    },
    {
      "cell_type": "code",
      "metadata": {
        "colab": {
          "base_uri": "https://localhost:8080/"
        },
        "id": "yICyrKAtrWQn",
        "outputId": "620d9026-4a32-48ef-da3e-3c1053b24025"
      },
      "source": [
        "translate('Окно закрыто.')"
      ],
      "execution_count": 50,
      "outputs": [
        {
          "output_type": "stream",
          "text": [
            "Input: <start> окно закрыто . <end>\n",
            "Predicted translation: the window is closed . <end> \n"
          ],
          "name": "stdout"
        }
      ]
    },
    {
      "cell_type": "code",
      "metadata": {
        "colab": {
          "base_uri": "https://localhost:8080/"
        },
        "id": "uZrLrh1ysAjH",
        "outputId": "2b96f5e7-4899-498e-8f4a-5bf4cbf4e4f7"
      },
      "source": [
        "translate('Самолет вылетит в 10 часов утра.')"
      ],
      "execution_count": 44,
      "outputs": [
        {
          "output_type": "stream",
          "text": [
            "Input: <start> самолет вылетит в часов утра . <end>\n",
            "Predicted translation: the police catch in . <end> \n"
          ],
          "name": "stdout"
        }
      ]
    },
    {
      "cell_type": "code",
      "metadata": {
        "colab": {
          "base_uri": "https://localhost:8080/"
        },
        "id": "IkD3mKFasAme",
        "outputId": "ce89ec56-eb54-497b-b7b6-eb54fe8a7a83"
      },
      "source": [
        "translate('Яблоки красные.')"
      ],
      "execution_count": 49,
      "outputs": [
        {
          "output_type": "stream",
          "text": [
            "Input: <start> яблоки красные . <end>\n",
            "Predicted translation: apples are red . <end> \n"
          ],
          "name": "stdout"
        }
      ]
    }
  ]
}