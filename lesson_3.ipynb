{
  "nbformat": 4,
  "nbformat_minor": 0,
  "metadata": {
    "colab": {
      "name": "lesson_3.ipynb",
      "provenance": []
    },
    "kernelspec": {
      "name": "python3",
      "display_name": "Python 3"
    },
    "language_info": {
      "name": "python"
    },
    "accelerator": "GPU"
  },
  "cells": [
    {
      "cell_type": "code",
      "metadata": {
        "colab": {
          "base_uri": "https://localhost:8080/"
        },
        "id": "NRN1aZN3dBTB",
        "outputId": "9a86826f-4f5a-45fa-fc08-50aea3fcd2e4"
      },
      "source": [
        "!pip install -q --upgrade nltk gensim bokeh pandas\n",
        "\n",
        "import nltk\n",
        "nltk.download('punkt')\n",
        "nltk.download('stopwords')"
      ],
      "execution_count": null,
      "outputs": [
        {
          "output_type": "stream",
          "text": [
            "\u001b[K     |████████████████████████████████| 1.5MB 4.5MB/s \n",
            "\u001b[K     |████████████████████████████████| 23.9MB 1.4MB/s \n",
            "\u001b[K     |████████████████████████████████| 10.8MB 44.0MB/s \n",
            "\u001b[31mERROR: google-colab 1.0.0 has requirement pandas~=1.1.0; python_version >= \"3.0\", but you'll have pandas 1.3.0 which is incompatible.\u001b[0m\n",
            "\u001b[?25h"
          ],
          "name": "stdout"
        },
        {
          "output_type": "stream",
          "text": [
            "[nltk_data] Downloading package punkt to /root/nltk_data...\n",
            "[nltk_data]   Unzipping tokenizers/punkt.zip.\n",
            "[nltk_data] Downloading package stopwords to /root/nltk_data...\n",
            "[nltk_data]   Unzipping corpora/stopwords.zip.\n"
          ],
          "name": "stderr"
        },
        {
          "output_type": "execute_result",
          "data": {
            "text/plain": [
              "True"
            ]
          },
          "metadata": {
            "tags": []
          },
          "execution_count": 1
        }
      ]
    },
    {
      "cell_type": "code",
      "metadata": {
        "colab": {
          "base_uri": "https://localhost:8080/"
        },
        "id": "fxeeW7u7dLej",
        "outputId": "f5da3017-a07f-4314-8b7a-d6ba3f991b81"
      },
      "source": [
        "import pandas as pd\n",
        "import numpy as np\n",
        "from nltk.tokenize import word_tokenize\n",
        "from gensim.models import Word2Vec\n",
        "from sklearn.manifold import TSNE"
      ],
      "execution_count": null,
      "outputs": [
        {
          "output_type": "stream",
          "text": [
            "/usr/local/lib/python3.7/dist-packages/gensim/similarities/__init__.py:15: UserWarning: The gensim.similarities.levenshtein submodule is disabled, because the optional Levenshtein package <https://pypi.org/project/python-Levenshtein/> is unavailable. Install Levenhstein (e.g. `pip install python-Levenshtein`) to suppress this warning.\n",
            "  warnings.warn(msg)\n"
          ],
          "name": "stderr"
        }
      ]
    },
    {
      "cell_type": "code",
      "metadata": {
        "id": "jvGvd6EIdZbC"
      },
      "source": [
        "import re\n",
        "from sklearn.feature_extraction.text import TfidfVectorizer\n",
        "from nltk.corpus import stopwords\n",
        "from string import punctuation"
      ],
      "execution_count": null,
      "outputs": []
    },
    {
      "cell_type": "code",
      "metadata": {
        "id": "fr4x66mWe0I0"
      },
      "source": [
        "!wget -O ukr_rus.train.txt -qq --no-check-certificate \"https://drive.google.com/uc?export=download&id=1vAK0SWXUqei4zTimMvIhH3ufGPsbnC_O\"\n",
        "!wget -O ukr_rus.test.txt -qq --no-check-certificate \"https://drive.google.com/uc?export=download&id=1W9R2F8OeKHXruo2sicZ6FgBJUTJc8Us_\"\n",
        "!wget -O fairy_tale.txt -qq --no-check-certificate \"https://drive.google.com/uc?export=download&id=1sq8zSroFeg_afw-60OmY8RATdu_T1tej\"\n",
        "\n",
        "!pip install -U -q PyDrive\n",
        "from pydrive.auth import GoogleAuth\n",
        "from pydrive.drive import GoogleDrive\n",
        "from google.colab import auth\n",
        "from oauth2client.client import GoogleCredentials\n",
        "\n",
        "auth.authenticate_user()\n",
        "gauth = GoogleAuth()\n",
        "gauth.credentials = GoogleCredentials.get_application_default()\n",
        "drive = GoogleDrive(gauth)\n",
        "\n",
        "downloaded = drive.CreateFile({'id': '1d7OXuil646jUeDS1JNhP9XWlZogv6rbu'})\n",
        "downloaded.GetContentFile('cc.ru.300.vec.zip')\n",
        "\n",
        "downloaded = drive.CreateFile({'id': '1yAqwqgUHtMSfGS99WLGe5unSCyIXfIxi'})\n",
        "downloaded.GetContentFile('cc.uk.300.vec.zip')"
      ],
      "execution_count": null,
      "outputs": []
    },
    {
      "cell_type": "code",
      "metadata": {
        "colab": {
          "base_uri": "https://localhost:8080/"
        },
        "id": "Tdy-P47OevOV",
        "outputId": "abf12d0d-4fb6-4a01-84b9-b22b821a1f09"
      },
      "source": [
        "!unzip cc.ru.300.vec.zip\n",
        "!unzip cc.uk.300.vec.zip"
      ],
      "execution_count": null,
      "outputs": [
        {
          "output_type": "stream",
          "text": [
            "Archive:  cc.ru.300.vec.zip\n",
            "  inflating: cc.ru.300.vec           \n",
            "Archive:  cc.uk.300.vec.zip\n",
            "  inflating: cc.uk.300.vec           \n"
          ],
          "name": "stdout"
        }
      ]
    },
    {
      "cell_type": "code",
      "metadata": {
        "id": "UcaXPSfPgHMa"
      },
      "source": [
        "from gensim.models import KeyedVectors"
      ],
      "execution_count": null,
      "outputs": []
    },
    {
      "cell_type": "code",
      "metadata": {
        "id": "QRtI7Mnvd6rh"
      },
      "source": [
        "ru_emb = KeyedVectors.load_word2vec_format(\"cc.ru.300.vec\")\n",
        "uk_emb = KeyedVectors.load_word2vec_format(\"cc.uk.300.vec\")"
      ],
      "execution_count": null,
      "outputs": []
    },
    {
      "cell_type": "code",
      "metadata": {
        "id": "Tu61wGJIgRXp"
      },
      "source": [
        "def load_word_pairs(filename):\n",
        "    uk_ru_pairs = []\n",
        "    uk_vectors = []\n",
        "    ru_vectors = []\n",
        "    with open(filename, \"r\", encoding='utf8') as inpf:\n",
        "        for line in inpf:\n",
        "            uk, ru = line.rstrip().split(\"\\t\")\n",
        "            if uk not in uk_emb or ru not in ru_emb:\n",
        "                continue\n",
        "            uk_ru_pairs.append((uk, ru))\n",
        "            uk_vectors.append(uk_emb[uk])\n",
        "            ru_vectors.append(ru_emb[ru])\n",
        "    return uk_ru_pairs, np.array(uk_vectors), np.array(ru_vectors)"
      ],
      "execution_count": null,
      "outputs": []
    },
    {
      "cell_type": "code",
      "metadata": {
        "id": "QknNelXYhF7R"
      },
      "source": [
        "uk_ru_train, X_train, Y_train = load_word_pairs(\"ukr_rus.train.txt\")\n",
        "uk_ru_test, X_test, Y_test = load_word_pairs(\"ukr_rus.test.txt\")"
      ],
      "execution_count": null,
      "outputs": []
    },
    {
      "cell_type": "markdown",
      "metadata": {
        "id": "bwU2bv4XhKhI"
      },
      "source": [
        "Учим маппинг из одного пространства эмбеддингов в другое"
      ]
    },
    {
      "cell_type": "code",
      "metadata": {
        "id": "r2alBMzCiNFD"
      },
      "source": [
        "from sklearn.linear_model import LinearRegression"
      ],
      "execution_count": null,
      "outputs": []
    },
    {
      "cell_type": "code",
      "metadata": {
        "colab": {
          "base_uri": "https://localhost:8080/"
        },
        "id": "H7weVljhhF-A",
        "outputId": "ca40382d-cba7-4f2a-e7f1-46f3c0d7d175"
      },
      "source": [
        "mapping = LinearRegression(fit_intercept=False)\n",
        "mapping.fit(X_train, Y_train)"
      ],
      "execution_count": null,
      "outputs": [
        {
          "output_type": "execute_result",
          "data": {
            "text/plain": [
              "LinearRegression(copy_X=True, fit_intercept=False, n_jobs=None, normalize=False)"
            ]
          },
          "metadata": {
            "tags": []
          },
          "execution_count": 13
        }
      ]
    },
    {
      "cell_type": "code",
      "metadata": {
        "colab": {
          "base_uri": "https://localhost:8080/"
        },
        "id": "TTBT9Bd1hGBA",
        "outputId": "d437b50c-4d6b-434a-d147-b41eef17bce0"
      },
      "source": [
        "august = mapping.predict(uk_emb[\"серпень\"].reshape(1, -1))\n",
        "ru_emb.most_similar(august)"
      ],
      "execution_count": null,
      "outputs": [
        {
          "output_type": "execute_result",
          "data": {
            "text/plain": [
              "[('апрель', 0.8541285991668701),\n",
              " ('июнь', 0.8411202430725098),\n",
              " ('март', 0.839699387550354),\n",
              " ('сентябрь', 0.835986852645874),\n",
              " ('февраль', 0.8329297304153442),\n",
              " ('октябрь', 0.8311845660209656),\n",
              " ('ноябрь', 0.8278923630714417),\n",
              " ('июль', 0.8234528303146362),\n",
              " ('август', 0.8120501637458801),\n",
              " ('декабрь', 0.8039003610610962)]"
            ]
          },
          "metadata": {
            "tags": []
          },
          "execution_count": 14
        }
      ]
    },
    {
      "cell_type": "code",
      "metadata": {
        "id": "R2uQFO-thGEA"
      },
      "source": [
        "def precision(pairs, mapped_vectors, topn=1):\n",
        "    num_matches = 0\n",
        "    for i, (_, ru) in enumerate(pairs):\n",
        "      pred_list = ru_emb.most_similar(mapped_vectors[i:i+1])[:topn]\n",
        "      pred_list = [j for j, _ in pred_list]\n",
        "      num_matches += 1 if ru in pred_list else 0\n",
        "    precision_val = num_matches / len(pairs)\n",
        "    return precision_val"
      ],
      "execution_count": null,
      "outputs": []
    },
    {
      "cell_type": "code",
      "metadata": {
        "colab": {
          "base_uri": "https://localhost:8080/"
        },
        "id": "t7y4x850hGGw",
        "outputId": "20c3642c-9894-4d95-8d14-e5d036f523cd"
      },
      "source": [
        "print(precision([(\"серпень\", \"август\")], august, topn=5))\n",
        "print(precision([(\"серпень\", \"август\")], august, topn=9))\n",
        "print(precision([(\"серпень\", \"август\")], august, topn=10))"
      ],
      "execution_count": null,
      "outputs": [
        {
          "output_type": "stream",
          "text": [
            "0.0\n",
            "1.0\n",
            "1.0\n"
          ],
          "name": "stdout"
        }
      ]
    },
    {
      "cell_type": "code",
      "metadata": {
        "colab": {
          "base_uri": "https://localhost:8080/"
        },
        "id": "17Wpy0EIhbSB",
        "outputId": "fe80f6aa-b5a7-4cda-a428-a421f51e3ce9"
      },
      "source": [
        "print(precision(uk_ru_test, mapping.predict(X_test)))\n",
        "print(precision(uk_ru_test, mapping.predict(X_test), 5))"
      ],
      "execution_count": null,
      "outputs": [
        {
          "output_type": "stream",
          "text": [
            "0.6356589147286822\n",
            "0.813953488372093\n"
          ],
          "name": "stdout"
        }
      ]
    },
    {
      "cell_type": "markdown",
      "metadata": {
        "id": "bYt2agzyhjeR"
      },
      "source": [
        "Улучшаем маппинг  "
      ]
    },
    {
      "cell_type": "code",
      "metadata": {
        "id": "2xr4GPZHhbVY"
      },
      "source": [
        "def learn_transform(X_train, Y_train):\n",
        "    XY_dot = np.dot(X_train.T, Y_train)\n",
        "    u, _, vh = np.linalg.svd(XY_dot)\n",
        "    W = np.dot(u, vh)\n",
        "    return W"
      ],
      "execution_count": null,
      "outputs": []
    },
    {
      "cell_type": "code",
      "metadata": {
        "colab": {
          "base_uri": "https://localhost:8080/"
        },
        "id": "fddGqZmyhbY6",
        "outputId": "2ff9155c-5874-4366-9876-316e67b2a9d7"
      },
      "source": [
        "W = learn_transform(X_train, Y_train)\n",
        "W.shape"
      ],
      "execution_count": null,
      "outputs": [
        {
          "output_type": "execute_result",
          "data": {
            "text/plain": [
              "(300, 300)"
            ]
          },
          "metadata": {
            "tags": []
          },
          "execution_count": 19
        }
      ]
    },
    {
      "cell_type": "code",
      "metadata": {
        "colab": {
          "base_uri": "https://localhost:8080/"
        },
        "id": "L4ZwHzDKhbby",
        "outputId": "f576bdf9-c244-41eb-f698-e9208c4c3d0b"
      },
      "source": [
        "ru_emb.most_similar([np.matmul(uk_emb['серпень'], W)])"
      ],
      "execution_count": null,
      "outputs": [
        {
          "output_type": "execute_result",
          "data": {
            "text/plain": [
              "[('апрель', 0.8237907886505127),\n",
              " ('сентябрь', 0.8049713373184204),\n",
              " ('март', 0.8025653958320618),\n",
              " ('июнь', 0.8021842241287231),\n",
              " ('октябрь', 0.8001735806465149),\n",
              " ('ноябрь', 0.7934483289718628),\n",
              " ('февраль', 0.7914120554924011),\n",
              " ('июль', 0.7908109426498413),\n",
              " ('август', 0.7891016602516174),\n",
              " ('декабрь', 0.7686373591423035)]"
            ]
          },
          "metadata": {
            "tags": []
          },
          "execution_count": 20
        }
      ]
    },
    {
      "cell_type": "code",
      "metadata": {
        "colab": {
          "base_uri": "https://localhost:8080/"
        },
        "id": "va3h32ZSi_9M",
        "outputId": "2e51379a-e76a-46ec-9c44-85e7e362ea82"
      },
      "source": [
        "print(precision(uk_ru_test, np.matmul(X_test, W)))\n",
        "print(precision(uk_ru_test, np.matmul(X_test, W), 5))"
      ],
      "execution_count": null,
      "outputs": [
        {
          "output_type": "stream",
          "text": [
            "0.6537467700258398\n",
            "0.8242894056847545\n"
          ],
          "name": "stdout"
        }
      ]
    },
    {
      "cell_type": "markdown",
      "metadata": {
        "id": "bR53tF1ojJAa"
      },
      "source": [
        "Пишем переводчик"
      ]
    },
    {
      "cell_type": "code",
      "metadata": {
        "colab": {
          "base_uri": "https://localhost:8080/"
        },
        "id": "Qs5u5aWbjAAa",
        "outputId": "8f138435-3d55-4055-dd66-3ce9a3f598a4"
      },
      "source": [
        "with open(\"fairy_tale.txt\", \"r\") as f:\n",
        "    uk_sentences = [line.rstrip().lower() for line in f]\n",
        "\n",
        "uk_sentences[:5]"
      ],
      "execution_count": null,
      "outputs": [
        {
          "output_type": "execute_result",
          "data": {
            "text/plain": [
              "['лисичка - сестричка і вовк - панібрат',\n",
              " 'як була собі лисичка , да й пішла раз до однії баби добувать огню ; ввійшла у хату да й каже : \" добрий день тобі , бабусю !',\n",
              " 'дай мені огня \" .',\n",
              " 'а баба тільки що вийняла із печі пирожок із маком , солодкий , да й положила , щоб він прохолов ; а лисичка се і підгледала , да тілько що баба нахилилась у піч , щоб достать огня , то лисичка зараз ухватила пирожок да і драла з хати , да , біжучи , весь мак із його виїла , а туда сміття наклала .',\n",
              " 'прибігла на поле , аж там пасуть хлопці бичків .']"
            ]
          },
          "metadata": {
            "tags": []
          },
          "execution_count": 22
        }
      ]
    },
    {
      "cell_type": "code",
      "metadata": {
        "id": "M7dTUYuxjAEr"
      },
      "source": [
        "def translate(sentence):\n",
        "    preds = []\n",
        "    for word in sentence.split():\n",
        "      try:\n",
        "        word = mapping.predict(uk_emb[word].reshape(1, -1))\n",
        "        word = ru_emb.most_similar(word)[0][0]\n",
        "        preds.append(word)\n",
        "      except KeyError:\n",
        "        preds.append(word)\n",
        "\n",
        "    return ' '.join(preds)"
      ],
      "execution_count": null,
      "outputs": []
    },
    {
      "cell_type": "code",
      "metadata": {
        "colab": {
          "base_uri": "https://localhost:8080/"
        },
        "id": "znd-Hm8ijZpB",
        "outputId": "494a35a0-ed99-4dfa-9065-f844929b7e2d"
      },
      "source": [
        "print(translate(\".\"))\n",
        "print(translate(\"1 , 3\"))\n",
        "print(translate(\"кіт побачив їжу\"))"
      ],
      "execution_count": null,
      "outputs": [
        {
          "output_type": "stream",
          "text": [
            "Во\n",
            "от , до\n",
            "кот увидел пищу\n"
          ],
          "name": "stdout"
        }
      ]
    },
    {
      "cell_type": "code",
      "metadata": {
        "colab": {
          "base_uri": "https://localhost:8080/"
        },
        "id": "SByeHs-GjZr6",
        "outputId": "526a54a4-9275-4614-8099-e153567df5a7"
      },
      "source": [
        "for sentence in uk_sentences:\n",
        "    print(f\"src: {sentence}\\ndst: {translate(sentence)}\\n\")"
      ],
      "execution_count": null,
      "outputs": [
        {
          "output_type": "stream",
          "text": [
            "src: лисичка - сестричка і вовк - панібрат\n",
            "dst: лисичка – девочка и волк – панібрат\n",
            "\n",
            "src: як була собі лисичка , да й пішла раз до однії баби добувать огню ; ввійшла у хату да й каже : \" добрий день тобі , бабусю !\n",
            "dst: как была себе лисичка , ой и пошла раз от однії бабы добувать огнь ; лечь во избу ой и говорит из \" хороший день тебе , бабуля !\n",
            "\n",
            "src: дай мені огня \" .\n",
            "dst: дай мне из \" Во\n",
            "\n",
            "src: а баба тільки що вийняла із печі пирожок із маком , солодкий , да й положила , щоб він прохолов ; а лисичка се і підгледала , да тілько що баба нахилилась у піч , щоб достать огня , то лисичка зараз ухватила пирожок да і драла з хати , да , біжучи , весь мак із його виїла , а туда сміття наклала .\n",
            "dst: а баба только что вынуть со печи пирожок со маком , сладкий , ой и легла , чтобы он прохолов ; а лисичка коль и підгледала , ой притом что баба наклониться во печь , чтобы достать из , то лисичка сейчас ухватила пирожок ой и сожрать со избы , ой , бежать , весь мак со его виїла , а туда мусор наложила Во\n",
            "\n",
            "src: прибігла на поле , аж там пасуть хлопці бичків .\n",
            "dst: прибежала по поле , до там пасут парни бычков Во\n",
            "\n",
            "src: вона і каже їм : \" ей , хлопці !\n",
            "dst: она и говорит им из \" усыновленным , парни !\n",
            "\n",
            "src: проміняйте мені бичка - третячка за маковий пирожок \" .\n",
            "dst: проміняйте мне бычок – третячка за маковый пирожок \" Во\n",
            "\n",
            "src: тії согласились ; так вона їм говорить : \" смотріть же , ви не їжте зараз сього пирожка , а тоді уже розломите , як я заведу бичка за могилку ; а то ви його ні за що не розломите \" .\n",
            "dst: ужи подписать ; да она им говорит из \" смотріть же , мы не ешьте сейчас ибо пирожка , а тогда уже розломите , как мной заведу бычок за могила ; а то мы его ни за что не розломите \" Во\n",
            "\n",
            "src: бачите вже - лисичка таки собі була розумна , що хоть кого да обманить .\n",
            "dst: видишь уже – лисичка все-таки себе была умная , что -бы кого ой обманить Во\n",
            "\n",
            "src: тії хлопці так і зробили , а лисичка як зайшла за могилу , да зараз у ліс і повернула , щоб на дорозі не догнали ; прийшла у ліс да і зробила собі санки да й їде .\n",
            "dst: ужи парни да и сделали , а лисичка как зашла за могилу , ой сейчас во лес и вернула , чтобы по дороге не погнали ; пришла во лес ой и сделала себе санки ой и едет Во\n",
            "\n",
            "src: коли йде вовчик : \" здорова була , лисичко - сестричко ! \"\n",
            "dst: когда идет вовчик из \" здоровая была , лисичко – сестрица ! \"\n",
            "\n",
            "src: - \" здоров , вовчику - братику ! \"\n",
            "dst: – \" здоровье , вовчику – сынок ! \"\n",
            "\n",
            "src: - \" де се ти узяла собі і бичка і санки ? \"\n",
            "dst: – \" куда коль какой взяла себе и бычок и санки ? \"\n",
            "\n",
            "src: - \" е !\n",
            "dst: – \" й !\n",
            "\n",
            "src: зробила \" .\n",
            "dst: сделала \" Во\n",
            "\n",
            "src: - \" підвези ж і мене \" .\n",
            "dst: – \" підвези же и меня \" Во\n",
            "\n",
            "src: - \" е , вовчику !\n",
            "dst: – \" й , вовчику !\n",
            "\n",
            "src: не можна \" .\n",
            "dst: не можно \" Во\n",
            "\n",
            "src: - \" мені хоть одну ніжку \" .\n",
            "dst: – \" мне -бы одну ножку \" Во\n",
            "\n",
            "src: - \" одну можна \" .\n",
            "dst: – \" одну можно \" Во\n",
            "\n",
            "src: він і положив , да од'їхавши немного і просить , щоби іще одну положить .\n",
            "dst: он и положил , ой од'їхавши немножко и просит , чтобы еще одну толкать Во\n",
            "\n",
            "src: \" не можна , братику !\n",
            "dst: \" не можно , сынок !\n",
            "\n",
            "src: боюсь , щоб ти саней не зламав \" .\n",
            "dst: боюсь , чтобы какой саней не сломал \" Во\n",
            "\n",
            "src: - \" ні , сестричко , не бійся ! \"\n",
            "dst: – \" ни , сестрица , не бойся ! \"\n",
            "\n",
            "src: - да і положив другую ніжку .\n",
            "dst: – ой и положил одну ножку Во\n",
            "\n",
            "src: тілько що од'їхали , як щось і тріснуло .\n",
            "dst: притом что од'їхали , как что-то и треснуло Во\n",
            "\n",
            "src: \" бачиш , вовчику , уже і ламаєш санки \" .\n",
            "dst: \" видишь , вовчику , уже и ламаєш санки \" Во\n",
            "\n",
            "src: - \" ні , лисичко !\n",
            "dst: – \" ни , лисичко !\n",
            "\n",
            "src: се у мене був орішок , так я розкусив \" .\n",
            "dst: коль во меня был орішок , да мной розкусив \" Во\n",
            "\n",
            "src: да просить оп'ять , щоб і третю ногу положить ; лисичка і ту пустила , да тілько що оп'ять од'їхали , аж щось уже дужче тріснуло .\n",
            "dst: ой просит оп'ять , чтобы и третью ногу толкать ; лисичка и ту пустила , ой притом что оп'ять од'їхали , до что-то уже сильнее треснуло Во\n",
            "\n",
            "src: лисичка закричала : \" ох , лишечко !\n",
            "dst: лисичка закричала из \" ой , лишечко !\n",
            "\n",
            "src: ти ж мені , братику , зовсім зламаєш санки \" .\n",
            "dst: какой же мне , сынок , совсем зламаєш санки \" Во\n",
            "\n",
            "src: - \" ні , лисичко , се я орішок розкусив \" .\n",
            "dst: – \" ни , лисичко , коль мной орішок розкусив \" Во\n",
            "\n",
            "src: - \" дай же і мені , бачиш який , що сам їж , а мені і не даєш \" .\n",
            "dst: – \" дай же и мне , видишь он , что сам ёж , а мне и не Дашь \" Во\n",
            "\n",
            "src: - \" нема уже більше , а я б дав \" .\n",
            "dst: – \" нету уже больше , а мной бы дал \" Во\n",
            "\n",
            "src: да і просить оп'ять , щоб пустила положить і послідню ногу .\n",
            "dst: ой и просит оп'ять , чтобы пустила толкать и послідню ногу Во\n",
            "\n",
            "src: лисичка і согласилась .\n",
            "dst: лисичка и согласилась Во\n",
            "\n",
            "src: так він тілько що положив ногу , як санки зовсім розламались .\n",
            "dst: да он притом что положил ногу , как санки совсем розламались Во\n",
            "\n",
            "src: тоді вже лисичка так на його розсердилась , що і сама не знала щоб робила !\n",
            "dst: тогда уже лисичка да по его розсердилась , что и одна не знала чтобы делала !\n",
            "\n",
            "src: а як отошло серце , вона і каже : \" іди ж , ледащо !\n",
            "dst: а как отошло сердце , она и говорит из \" яд же , лодырь !\n",
            "\n",
            "src: да нарубай дерева , щоб нам оп'ять ізробить санки ; тільки рубавши кажи так : \" рубайся ж , дерево , і криве і пряме \" .\n",
            "dst: ой нарубай деревья , чтобы нам оп'ять ізробить санки ; только рубавши говори да из \" рубайся же , дерево , и кривое и прямое \" Во\n",
            "\n",
            "src: він і пішов да й каже усе : \" рубайся ж , дерево , усе пряме да пряме ! \"\n",
            "dst: он и ушел ой и говорит всё из \" рубайся же , дерево , всё прямое ой прямое ! \"\n",
            "\n",
            "src: нарубавши і приносить ; лисичка увидала , що дерево не таке , як їй нужно , оп'ять розсердилась .\n",
            "dst: нарубавши и приносит ; лисичка увидала , что дерево не такое , как ей всемерно , оп'ять розсердилась Во\n",
            "\n",
            "src: \" ти , - говорить , - не казав , видно , так , як я тобі веліла ! \"\n",
            "dst: \" какой , – говорит , – не говорил , видно , да , как мной тебе велела ! \"\n",
            "\n",
            "src: - \" ні , я усе теє казав , що ти мені казала \" .\n",
            "dst: – \" ни , мной всё ёж говорил , что какой мне говорила \" Во\n",
            "\n",
            "src: - \" да чомусь не таке рубалось ?\n",
            "dst: – \" ой почему-то не такое рубалось ?\n",
            "\n",
            "src: ну , сиди ж ти тут , а я сама піду нарубаю \" , - да і пішла у ліс .\n",
            "dst: ну , сидеть же какой здесь , а мной одна пойду нарубаю \" , – ой и пошла во лес Во\n",
            "\n",
            "src: а вовк дивиться , що він сам остався ; узяв да проїв у бичка дірку да виїв усе в середині , а напускав туда горобців да ще соломою заткнув , поставив бичка , а сам і втік .\n",
            "dst: а волк смотрит , что он сам остался ; взял ой проїв во бычок дыра ой виїв всё во середине , а напускав туда воробьёв ой ещe соломой сунуть , поставил бычок , а сам и сбежал Во\n",
            "\n",
            "src: аж лисичка приходить , зробила санки да й сіла і стала поганять : \" гей , бичок - третячок ! \"\n",
            "dst: до лисичка приходит , сделала санки ой и сесть и стала поганять из \" гей , бычок – третячок ! \"\n",
            "\n",
            "src: тілько він не везе .\n",
            "dst: притом он не везти Во\n",
            "\n",
            "src: от вона встала , щоб поправить : може , що не так запряжено ; да , не хотячи , одоткнула солому , а оттуда так і сипнули горобці летіти .\n",
            "dst: из она встать , чтобы поправить из может , что не да запряжено ; ой , не вздумал , одоткнула солому , а ту да и сипнули воробьи лететь Во\n",
            "\n",
            "src: вона уже тоді побачила , що бичок неживий ; покинула його да й пішла .\n",
            "dst: она уже тогда увидела , что бычок неодушевленный ; покинула его ой и пошла Во\n",
            "\n",
            "src: легла на дорозі , аж дивиться - їде мужик з рибою ; вона і притворилась , що здохла .\n",
            "dst: легла по дороге , до смотрит – едет мужик со рыбой ; она и притворилась , что скотина Во\n",
            "\n",
            "src: от мужик і говорить : \" возьму я оцю лисицю , обдеру да хоть шапку собі зошью \" .\n",
            "dst: из мужик и говорит из \" возьму мной ту лиса , обдеру ой -бы шапка себе зошью \" Во\n",
            "\n",
            "src: узяв да і положив ззаді у воза .\n",
            "dst: взял ой и положил сзади во телега Во\n",
            "\n",
            "src: вона замітила , що мужик не смотрить , стала ногами викидувать рибу з воза , а когда побачила , що навикидала уже багато , тоди потихесеньку і сама злізла ; сіла біля риби да і їсть собі , - коли біжить оп'ять той самий вовчик .\n",
            "dst: она обнаружила , что мужик не смотрить , стала ногами викидувать рыба со телега , а подпирать увидела , что навикидала уже много , способы потихесеньку и одна слезть ; сесть возле рыбы ой и ест себе , – когда бежит оп'ять тот самый вовчик Во\n",
            "\n",
            "src: побачивши , що вона їсть рибу , прибіг до їй да й каже : \" здорово була , лисичко - сестричко !\n",
            "dst: увидев , что она ест рыба , прибежал от ей ой и говорит из \" здорово была , лисичко – сестрица !\n",
            "\n",
            "src: де се ти набрала стільки риби ? \"\n",
            "dst: куда коль какой набрала столько рыбы ? \"\n",
            "\n",
            "src: вона каже : \" наловила , вовчику - братику ! \"\n",
            "dst: она говорит из \" наловила , вовчику – сынок ! \"\n",
            "\n",
            "src: а собі на думці : \" подожди , і я зроблю з тобою таку штуку , як і ти зо мною \" .\n",
            "dst: а себе по мнении из \" подожди , и мной сделаю со тобой такую штуку , как и какой десять мной \" Во\n",
            "\n",
            "src: - \" як же ти ловила ? \"\n",
            "dst: – \" как же какой ловила ? \"\n",
            "\n",
            "src: - \" так , вовчику , уложила хвостик в ополонку , вожу тихенько да й кажу ; ловися , рибка , мала і велика !\n",
            "dst: – \" да , вовчику , уложила хвостик во прорубь , вожу тихонько ой и говорю ; ловися , рыбка , имела и большая !\n",
            "\n",
            "src: коли хочеш , то і ти піди , налови собі \" .\n",
            "dst: когда хочешь , то и какой пойди , налови себе \" Во\n",
            "\n",
            "src: він побіг да зробив так , як казала лисичка .\n",
            "dst: он побежал ой сделал да , как говорила лисичка Во\n",
            "\n"
          ],
          "name": "stdout"
        }
      ]
    }
  ]
}