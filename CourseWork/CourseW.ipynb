{
  "nbformat": 4,
  "nbformat_minor": 0,
  "metadata": {
    "colab": {
      "name": "Untitled18.ipynb",
      "provenance": []
    },
    "kernelspec": {
      "name": "python3",
      "display_name": "Python 3"
    },
    "language_info": {
      "name": "python"
    }
  },
  "cells": [
    {
      "cell_type": "code",
      "metadata": {
        "id": "ulC85luKifmG"
      },
      "source": [
        "import torch\n",
        "from transformers import AutoModelForCausalLM, AutoTokenizer"
      ],
      "execution_count": null,
      "outputs": []
    },
    {
      "cell_type": "code",
      "metadata": {
        "id": "aLgXoa3Dikdt",
        "colab": {
          "base_uri": "https://localhost:8080/"
        },
        "outputId": "a6ac4da8-db49-409e-9dbe-554f8db211ff"
      },
      "source": [
        "pip install transformers"
      ],
      "execution_count": null,
      "outputs": [
        {
          "output_type": "stream",
          "text": [
            "Requirement already satisfied: transformers in /usr/local/lib/python3.7/dist-packages (4.9.2)\n",
            "Requirement already satisfied: sacremoses in /usr/local/lib/python3.7/dist-packages (from transformers) (0.0.45)\n",
            "Requirement already satisfied: tokenizers<0.11,>=0.10.1 in /usr/local/lib/python3.7/dist-packages (from transformers) (0.10.3)\n",
            "Requirement already satisfied: packaging in /usr/local/lib/python3.7/dist-packages (from transformers) (21.0)\n",
            "Requirement already satisfied: filelock in /usr/local/lib/python3.7/dist-packages (from transformers) (3.0.12)\n",
            "Requirement already satisfied: regex!=2019.12.17 in /usr/local/lib/python3.7/dist-packages (from transformers) (2019.12.20)\n",
            "Requirement already satisfied: huggingface-hub==0.0.12 in /usr/local/lib/python3.7/dist-packages (from transformers) (0.0.12)\n",
            "Requirement already satisfied: numpy>=1.17 in /usr/local/lib/python3.7/dist-packages (from transformers) (1.19.5)\n",
            "Requirement already satisfied: tqdm>=4.27 in /usr/local/lib/python3.7/dist-packages (from transformers) (4.62.0)\n",
            "Requirement already satisfied: requests in /usr/local/lib/python3.7/dist-packages (from transformers) (2.23.0)\n",
            "Requirement already satisfied: importlib-metadata in /usr/local/lib/python3.7/dist-packages (from transformers) (4.6.4)\n",
            "Requirement already satisfied: pyyaml>=5.1 in /usr/local/lib/python3.7/dist-packages (from transformers) (5.4.1)\n",
            "Requirement already satisfied: typing-extensions in /usr/local/lib/python3.7/dist-packages (from huggingface-hub==0.0.12->transformers) (3.7.4.3)\n",
            "Requirement already satisfied: pyparsing>=2.0.2 in /usr/local/lib/python3.7/dist-packages (from packaging->transformers) (2.4.7)\n",
            "Requirement already satisfied: zipp>=0.5 in /usr/local/lib/python3.7/dist-packages (from importlib-metadata->transformers) (3.5.0)\n",
            "Requirement already satisfied: idna<3,>=2.5 in /usr/local/lib/python3.7/dist-packages (from requests->transformers) (2.10)\n",
            "Requirement already satisfied: chardet<4,>=3.0.2 in /usr/local/lib/python3.7/dist-packages (from requests->transformers) (3.0.4)\n",
            "Requirement already satisfied: urllib3!=1.25.0,!=1.25.1,<1.26,>=1.21.1 in /usr/local/lib/python3.7/dist-packages (from requests->transformers) (1.24.3)\n",
            "Requirement already satisfied: certifi>=2017.4.17 in /usr/local/lib/python3.7/dist-packages (from requests->transformers) (2021.5.30)\n",
            "Requirement already satisfied: click in /usr/local/lib/python3.7/dist-packages (from sacremoses->transformers) (7.1.2)\n",
            "Requirement already satisfied: joblib in /usr/local/lib/python3.7/dist-packages (from sacremoses->transformers) (1.0.1)\n",
            "Requirement already satisfied: six in /usr/local/lib/python3.7/dist-packages (from sacremoses->transformers) (1.15.0)\n"
          ],
          "name": "stdout"
        }
      ]
    },
    {
      "cell_type": "code",
      "metadata": {
        "id": "0iXCLPsXisBs",
        "colab": {
          "base_uri": "https://localhost:8080/"
        },
        "outputId": "81821fcc-efc4-4b56-bb27-430b11b3a24e"
      },
      "source": [
        "from transformers import AutoTokenizer, EncoderDecoderModel \n",
        "tokenizer = AutoTokenizer.from_pretrained(\"Grossmend/rudialogpt3_medium_based_on_gpt2\")\n",
        "model = AutoModelForCausalLM.from_pretrained(\"Grossmend/rudialogpt3_medium_based_on_gpt2\")"
      ],
      "execution_count": null,
      "outputs": [
        {
          "output_type": "stream",
          "text": [
            "Special tokens have been added in the vocabulary, make sure the associated word embeddings are fine-tuned or trained.\n",
            "Special tokens have been added in the vocabulary, make sure the associated word embeddings are fine-tuned or trained.\n"
          ],
          "name": "stderr"
        }
      ]
    },
    {
      "cell_type": "code",
      "metadata": {
        "id": "rEktn44ckiuZ",
        "colab": {
          "base_uri": "https://localhost:8080/"
        },
        "outputId": "7b73b60d-f42d-4068-9628-bbbc85ac0ef9"
      },
      "source": [
        "!pip install python-telegram-bot --upgrade\n"
      ],
      "execution_count": null,
      "outputs": [
        {
          "output_type": "stream",
          "text": [
            "Requirement already satisfied: python-telegram-bot in /usr/local/lib/python3.7/dist-packages (13.7)\n",
            "Requirement already satisfied: tornado>=6.1 in /usr/local/lib/python3.7/dist-packages (from python-telegram-bot) (6.1)\n",
            "Requirement already satisfied: pytz>=2018.6 in /usr/local/lib/python3.7/dist-packages (from python-telegram-bot) (2018.9)\n",
            "Requirement already satisfied: cachetools==4.2.2 in /usr/local/lib/python3.7/dist-packages (from python-telegram-bot) (4.2.2)\n",
            "Requirement already satisfied: APScheduler==3.6.3 in /usr/local/lib/python3.7/dist-packages (from python-telegram-bot) (3.6.3)\n",
            "Requirement already satisfied: certifi in /usr/local/lib/python3.7/dist-packages (from python-telegram-bot) (2021.5.30)\n",
            "Requirement already satisfied: six>=1.4.0 in /usr/local/lib/python3.7/dist-packages (from APScheduler==3.6.3->python-telegram-bot) (1.15.0)\n",
            "Requirement already satisfied: tzlocal>=1.2 in /usr/local/lib/python3.7/dist-packages (from APScheduler==3.6.3->python-telegram-bot) (1.5.1)\n",
            "Requirement already satisfied: setuptools>=0.7 in /usr/local/lib/python3.7/dist-packages (from APScheduler==3.6.3->python-telegram-bot) (57.4.0)\n"
          ],
          "name": "stdout"
        }
      ]
    },
    {
      "cell_type": "code",
      "metadata": {
        "id": "cwzjuWs8kau7",
        "colab": {
          "base_uri": "https://localhost:8080/"
        },
        "outputId": "f55291d4-af7a-4bcc-8bc7-4f2002e9cd31"
      },
      "source": [
        "import logging\n",
        "from telegram import Update\n",
        "from telegram.ext  import Updater, CommandHandler, MessageHandler, Filters, CallbackContext\n",
        "\n",
        "# Enable logging\n",
        "logging.basicConfig(\n",
        "    format='%(asctime)s - %(name)s - %(levelname)s - %(message)s', level=logging.INFO\n",
        ")\n",
        "logger = logging.getLogger()\n",
        "\n",
        "def get_length_param(text: str) -> str:\n",
        "    tokens_count = len(tokenizer.encode(text))\n",
        "    if tokens_count <= 15:\n",
        "        len_param = '1'\n",
        "    elif tokens_count <= 50:\n",
        "        len_param = '2'\n",
        "    elif tokens_count <= 256:\n",
        "        len_param = '3'\n",
        "    else:\n",
        "        len_param = '-'\n",
        "    return len_param\n",
        "\n",
        "# Define a few command handlers. These usually take the two arguments update and\n",
        "# context. Error handlers also receive the raised TelegramError object in error.\n",
        "def start(update: Update, context: CallbackContext):\n",
        "    update.message.reply_text('Hi!')\n",
        "   \n",
        "def answer(update: Update, context: CallbackContext):\n",
        "    global step, chat_history_ids\n",
        "\n",
        "    input_user = update.message.text   #input(\"===> User:\")\n",
        "\n",
        "    # encode the new user input, add parameters and return a tensor in Pytorch\n",
        "    new_user_input_ids = tokenizer.encode(f\"|0|{get_length_param(input_user)}|\" + input_user + tokenizer.eos_token +  \"|1|1|\", return_tensors=\"pt\")\n",
        "\n",
        "    # append the new user input tokens to the chat history\n",
        "    bot_input_ids = torch.cat([chat_history_ids, new_user_input_ids], dim=-1) if step > 0 else new_user_input_ids\n",
        "\n",
        "    # generated a response\n",
        "    chat_history_ids = model.generate(\n",
        "        bot_input_ids,\n",
        "        num_return_sequences=1,\n",
        "        max_length=512,\n",
        "        no_repeat_ngram_size=3,\n",
        "        do_sample=True,\n",
        "        top_k=50,\n",
        "        top_p=0.9,\n",
        "        temperature = 0.6,\n",
        "        mask_token_id=tokenizer.mask_token_id,\n",
        "        eos_token_id=tokenizer.eos_token_id,\n",
        "        unk_token_id=tokenizer.unk_token_id,\n",
        "        pad_token_id=tokenizer.pad_token_id,\n",
        "        device='cpu',\n",
        "    )\n",
        "\n",
        "    update.message.text = f\"AnBot: {tokenizer.decode(chat_history_ids[:, bot_input_ids.shape[-1]:][0], skip_special_tokens=True)}\"\n",
        "    update.message.reply_text(update.message.text)    \n",
        "    \n",
        "    step = step+1 \n",
        "    if step == 10:\n",
        "        step = 0\n",
        "    \n",
        "updater = Updater('1967613159:AAG_c5C6a2spE_QpcG0ms658J4kbCjYzr2s', use_context=True)\n",
        "dispatcher = updater.dispatcher\n",
        "\n",
        "# on different commands - answer in Telegram\n",
        "dispatcher.add_handler(CommandHandler(\"start\", start))\n",
        "dispatcher.add_handler(MessageHandler(Filters.text & ~Filters.command, answer))\n",
        "\n",
        "# Start the Bot\n",
        "\n",
        "step = 0\n",
        "\n",
        "updater.start_polling()\n",
        "updater.idle()"
      ],
      "execution_count": null,
      "outputs": [
        {
          "output_type": "stream",
          "text": [
            "2021-08-30 06:45:16,857 - apscheduler.scheduler - INFO - Scheduler started\n",
            "2021-08-30 06:53:51,586 - telegram.ext.updater - INFO - Received signal 2 (SIGINT), stopping...\n",
            "2021-08-30 06:53:51,589 - apscheduler.scheduler - INFO - Scheduler has been shut down\n"
          ],
          "name": "stderr"
        }
      ]
    }
  ]
}