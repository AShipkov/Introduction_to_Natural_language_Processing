{
  "nbformat": 4,
  "nbformat_minor": 0,
  "metadata": {
    "colab": {
      "name": "Untitled8.ipynb",
      "provenance": []
    },
    "kernelspec": {
      "name": "python3",
      "display_name": "Python 3"
    },
    "language_info": {
      "name": "python"
    }
  },
  "cells": [
    {
      "cell_type": "code",
      "metadata": {
        "colab": {
          "base_uri": "https://localhost:8080/"
        },
        "id": "PtDDDY9O6J0u",
        "outputId": "10dfab41-1b8c-4ef0-f9ed-e33e22b8d750"
      },
      "source": [
        "!pip install stop_words"
      ],
      "execution_count": 1,
      "outputs": [
        {
          "output_type": "stream",
          "text": [
            "Collecting stop_words\n",
            "  Downloading stop-words-2018.7.23.tar.gz (31 kB)\n",
            "Building wheels for collected packages: stop-words\n",
            "  Building wheel for stop-words (setup.py) ... \u001b[?25l\u001b[?25hdone\n",
            "  Created wheel for stop-words: filename=stop_words-2018.7.23-py3-none-any.whl size=32911 sha256=0a404dab44242b128e7ae6543f85e482b096d4a5b6d4606323abfcf59281e93b\n",
            "  Stored in directory: /root/.cache/pip/wheels/fb/86/b2/277b10b1ce9f73ce15059bf6975d4547cc4ec3feeb651978e9\n",
            "Successfully built stop-words\n",
            "Installing collected packages: stop-words\n",
            "Successfully installed stop-words-2018.7.23\n"
          ],
          "name": "stdout"
        }
      ]
    },
    {
      "cell_type": "code",
      "metadata": {
        "colab": {
          "base_uri": "https://localhost:8080/"
        },
        "id": "lyTKuvCJ6VbU",
        "outputId": "cfa173a1-736f-4e1f-e466-914655095bc0"
      },
      "source": [
        "!pip install pymorphy2"
      ],
      "execution_count": 2,
      "outputs": [
        {
          "output_type": "stream",
          "text": [
            "Collecting pymorphy2\n",
            "  Downloading pymorphy2-0.9.1-py3-none-any.whl (55 kB)\n",
            "\u001b[?25l\r\u001b[K     |██████                          | 10 kB 28.2 MB/s eta 0:00:01\r\u001b[K     |███████████▉                    | 20 kB 26.3 MB/s eta 0:00:01\r\u001b[K     |█████████████████▊              | 30 kB 18.2 MB/s eta 0:00:01\r\u001b[K     |███████████████████████▋        | 40 kB 15.7 MB/s eta 0:00:01\r\u001b[K     |█████████████████████████████▌  | 51 kB 7.4 MB/s eta 0:00:01\r\u001b[K     |████████████████████████████████| 55 kB 2.9 MB/s \n",
            "\u001b[?25hRequirement already satisfied: docopt>=0.6 in /usr/local/lib/python3.7/dist-packages (from pymorphy2) (0.6.2)\n",
            "Collecting pymorphy2-dicts-ru<3.0,>=2.4\n",
            "  Downloading pymorphy2_dicts_ru-2.4.417127.4579844-py2.py3-none-any.whl (8.2 MB)\n",
            "\u001b[K     |████████████████████████████████| 8.2 MB 15.5 MB/s \n",
            "\u001b[?25hCollecting dawg-python>=0.7.1\n",
            "  Downloading DAWG_Python-0.7.2-py2.py3-none-any.whl (11 kB)\n",
            "Installing collected packages: pymorphy2-dicts-ru, dawg-python, pymorphy2\n",
            "Successfully installed dawg-python-0.7.2 pymorphy2-0.9.1 pymorphy2-dicts-ru-2.4.417127.4579844\n"
          ],
          "name": "stdout"
        }
      ]
    },
    {
      "cell_type": "code",
      "metadata": {
        "id": "Hot_RN3m6MB1"
      },
      "source": [
        "import pandas as pd\n",
        "import numpy as np\n",
        "import matplotlib.pyplot as plt\n",
        "\n",
        "import re\n",
        "from string import punctuation\n",
        "from stop_words import get_stop_words\n",
        "from pymorphy2 import MorphAnalyzer\n",
        "\n",
        "import nltk\n",
        "from nltk.tokenize import word_tokenize\n",
        "from nltk.probability import FreqDist\n",
        "\n",
        "from sklearn.model_selection import train_test_split\n",
        "\n",
        "import tensorflow as tf\n",
        "from tensorflow.keras import layers\n",
        "from tensorflow.keras import utils\n",
        "from tensorflow.keras import models\n",
        "from tensorflow.keras import callbacks\n",
        "\n",
        "from IPython import display"
      ],
      "execution_count": 3,
      "outputs": []
    },
    {
      "cell_type": "code",
      "metadata": {
        "colab": {
          "base_uri": "https://localhost:8080/",
          "height": 204
        },
        "id": "np89ANwh6Y88",
        "outputId": "7a112d27-a0ad-415b-ea3c-01064614dc19"
      },
      "source": [
        "df = pd.read_excel('отзывы за лето.xls')\n",
        "df.head()"
      ],
      "execution_count": 4,
      "outputs": [
        {
          "output_type": "execute_result",
          "data": {
            "text/html": [
              "<div>\n",
              "<style scoped>\n",
              "    .dataframe tbody tr th:only-of-type {\n",
              "        vertical-align: middle;\n",
              "    }\n",
              "\n",
              "    .dataframe tbody tr th {\n",
              "        vertical-align: top;\n",
              "    }\n",
              "\n",
              "    .dataframe thead th {\n",
              "        text-align: right;\n",
              "    }\n",
              "</style>\n",
              "<table border=\"1\" class=\"dataframe\">\n",
              "  <thead>\n",
              "    <tr style=\"text-align: right;\">\n",
              "      <th></th>\n",
              "      <th>Rating</th>\n",
              "      <th>Content</th>\n",
              "      <th>Date</th>\n",
              "    </tr>\n",
              "  </thead>\n",
              "  <tbody>\n",
              "    <tr>\n",
              "      <th>0</th>\n",
              "      <td>5</td>\n",
              "      <td>It just works!</td>\n",
              "      <td>2017-08-14</td>\n",
              "    </tr>\n",
              "    <tr>\n",
              "      <th>1</th>\n",
              "      <td>4</td>\n",
              "      <td>В целом удобноное приложение...из минусов хотя...</td>\n",
              "      <td>2017-08-14</td>\n",
              "    </tr>\n",
              "    <tr>\n",
              "      <th>2</th>\n",
              "      <td>5</td>\n",
              "      <td>Отлично все</td>\n",
              "      <td>2017-08-14</td>\n",
              "    </tr>\n",
              "    <tr>\n",
              "      <th>3</th>\n",
              "      <td>5</td>\n",
              "      <td>Стал зависать на 1% работы антивируса. Дальше ...</td>\n",
              "      <td>2017-08-14</td>\n",
              "    </tr>\n",
              "    <tr>\n",
              "      <th>4</th>\n",
              "      <td>5</td>\n",
              "      <td>Очень удобно, работает быстро.</td>\n",
              "      <td>2017-08-14</td>\n",
              "    </tr>\n",
              "  </tbody>\n",
              "</table>\n",
              "</div>"
            ],
            "text/plain": [
              "   Rating                                            Content        Date\n",
              "0       5                                     It just works!  2017-08-14\n",
              "1       4  В целом удобноное приложение...из минусов хотя...  2017-08-14\n",
              "2       5                                        Отлично все  2017-08-14\n",
              "3       5  Стал зависать на 1% работы антивируса. Дальше ...  2017-08-14\n",
              "4       5                     Очень удобно, работает быстро.  2017-08-14"
            ]
          },
          "metadata": {
            "tags": []
          },
          "execution_count": 4
        }
      ]
    },
    {
      "cell_type": "code",
      "metadata": {
        "colab": {
          "base_uri": "https://localhost:8080/"
        },
        "id": "zpv8WIwr6ZAM",
        "outputId": "905d380f-eaeb-4625-c6b1-8e4adb16e5be"
      },
      "source": [
        "df.info()"
      ],
      "execution_count": 5,
      "outputs": [
        {
          "output_type": "stream",
          "text": [
            "<class 'pandas.core.frame.DataFrame'>\n",
            "RangeIndex: 20659 entries, 0 to 20658\n",
            "Data columns (total 3 columns):\n",
            " #   Column   Non-Null Count  Dtype \n",
            "---  ------   --------------  ----- \n",
            " 0   Rating   20659 non-null  int64 \n",
            " 1   Content  20656 non-null  object\n",
            " 2   Date     20659 non-null  object\n",
            "dtypes: int64(1), object(2)\n",
            "memory usage: 484.3+ KB\n"
          ],
          "name": "stdout"
        }
      ]
    },
    {
      "cell_type": "code",
      "metadata": {
        "colab": {
          "base_uri": "https://localhost:8080/",
          "height": 297
        },
        "id": "Xv_RenKa6ZDM",
        "outputId": "e735be45-0221-4822-c3bc-4f338e4b9380"
      },
      "source": [
        "df.describe()"
      ],
      "execution_count": 6,
      "outputs": [
        {
          "output_type": "execute_result",
          "data": {
            "text/html": [
              "<div>\n",
              "<style scoped>\n",
              "    .dataframe tbody tr th:only-of-type {\n",
              "        vertical-align: middle;\n",
              "    }\n",
              "\n",
              "    .dataframe tbody tr th {\n",
              "        vertical-align: top;\n",
              "    }\n",
              "\n",
              "    .dataframe thead th {\n",
              "        text-align: right;\n",
              "    }\n",
              "</style>\n",
              "<table border=\"1\" class=\"dataframe\">\n",
              "  <thead>\n",
              "    <tr style=\"text-align: right;\">\n",
              "      <th></th>\n",
              "      <th>Rating</th>\n",
              "    </tr>\n",
              "  </thead>\n",
              "  <tbody>\n",
              "    <tr>\n",
              "      <th>count</th>\n",
              "      <td>20659.000000</td>\n",
              "    </tr>\n",
              "    <tr>\n",
              "      <th>mean</th>\n",
              "      <td>4.259015</td>\n",
              "    </tr>\n",
              "    <tr>\n",
              "      <th>std</th>\n",
              "      <td>1.348884</td>\n",
              "    </tr>\n",
              "    <tr>\n",
              "      <th>min</th>\n",
              "      <td>1.000000</td>\n",
              "    </tr>\n",
              "    <tr>\n",
              "      <th>25%</th>\n",
              "      <td>4.000000</td>\n",
              "    </tr>\n",
              "    <tr>\n",
              "      <th>50%</th>\n",
              "      <td>5.000000</td>\n",
              "    </tr>\n",
              "    <tr>\n",
              "      <th>75%</th>\n",
              "      <td>5.000000</td>\n",
              "    </tr>\n",
              "    <tr>\n",
              "      <th>max</th>\n",
              "      <td>5.000000</td>\n",
              "    </tr>\n",
              "  </tbody>\n",
              "</table>\n",
              "</div>"
            ],
            "text/plain": [
              "             Rating\n",
              "count  20659.000000\n",
              "mean       4.259015\n",
              "std        1.348884\n",
              "min        1.000000\n",
              "25%        4.000000\n",
              "50%        5.000000\n",
              "75%        5.000000\n",
              "max        5.000000"
            ]
          },
          "metadata": {
            "tags": []
          },
          "execution_count": 6
        }
      ]
    },
    {
      "cell_type": "code",
      "metadata": {
        "id": "8n8IXju86za1"
      },
      "source": [
        "MAX_WORDS = 200\n",
        "MAX_LEN = 0\n",
        "NUM_CLASSES = 5\n",
        "\n",
        "# Train vars\n",
        "EPOCHS = 10\n",
        "BATCH_SIZE = 64\n",
        "PRINT_BATCH_N = 100"
      ],
      "execution_count": 7,
      "outputs": []
    },
    {
      "cell_type": "markdown",
      "metadata": {
        "id": "6k9jCUmA68as"
      },
      "source": [
        "## Preprocessing"
      ]
    },
    {
      "cell_type": "code",
      "metadata": {
        "id": "dQM-LysK6zds"
      },
      "source": [
        "sw = set(get_stop_words('ru'))\n",
        "exclude = set(punctuation)\n",
        "morpher = MorphAnalyzer()"
      ],
      "execution_count": 8,
      "outputs": []
    },
    {
      "cell_type": "code",
      "metadata": {
        "id": "Eijv7KHZ7ENc"
      },
      "source": [
        "def preprocess_text(txt):\n",
        "    txt = str(txt)\n",
        "    txt = ''.join(c for c in txt if c not in exclude)\n",
        "    txt = txt.lower()\n",
        "    txt = [morpher.parse(word)[0].normal_form for word in txt.split() if word not in sw]\n",
        "    txt = \" \".join(txt)\n",
        "    return txt"
      ],
      "execution_count": 9,
      "outputs": []
    },
    {
      "cell_type": "code",
      "metadata": {
        "colab": {
          "base_uri": "https://localhost:8080/",
          "height": 204
        },
        "id": "oXSP9LdB7EQs",
        "outputId": "7fd25562-f04a-4d45-e7bf-0e38cf01a477"
      },
      "source": [
        "df['Content'] = df['Content'].apply(preprocess_text)\n",
        "df.head()"
      ],
      "execution_count": 10,
      "outputs": [
        {
          "output_type": "execute_result",
          "data": {
            "text/html": [
              "<div>\n",
              "<style scoped>\n",
              "    .dataframe tbody tr th:only-of-type {\n",
              "        vertical-align: middle;\n",
              "    }\n",
              "\n",
              "    .dataframe tbody tr th {\n",
              "        vertical-align: top;\n",
              "    }\n",
              "\n",
              "    .dataframe thead th {\n",
              "        text-align: right;\n",
              "    }\n",
              "</style>\n",
              "<table border=\"1\" class=\"dataframe\">\n",
              "  <thead>\n",
              "    <tr style=\"text-align: right;\">\n",
              "      <th></th>\n",
              "      <th>Rating</th>\n",
              "      <th>Content</th>\n",
              "      <th>Date</th>\n",
              "    </tr>\n",
              "  </thead>\n",
              "  <tbody>\n",
              "    <tr>\n",
              "      <th>0</th>\n",
              "      <td>5</td>\n",
              "      <td>it just works</td>\n",
              "      <td>2017-08-14</td>\n",
              "    </tr>\n",
              "    <tr>\n",
              "      <th>1</th>\n",
              "      <td>4</td>\n",
              "      <td>целое удобноной приложениеиз минус хотеть боль...</td>\n",
              "      <td>2017-08-14</td>\n",
              "    </tr>\n",
              "    <tr>\n",
              "      <th>2</th>\n",
              "      <td>5</td>\n",
              "      <td>отлично</td>\n",
              "      <td>2017-08-14</td>\n",
              "    </tr>\n",
              "    <tr>\n",
              "      <th>3</th>\n",
              "      <td>5</td>\n",
              "      <td>зависать 1 работа антивирус ранее пользоваться...</td>\n",
              "      <td>2017-08-14</td>\n",
              "    </tr>\n",
              "    <tr>\n",
              "      <th>4</th>\n",
              "      <td>5</td>\n",
              "      <td>удобно работать быстро</td>\n",
              "      <td>2017-08-14</td>\n",
              "    </tr>\n",
              "  </tbody>\n",
              "</table>\n",
              "</div>"
            ],
            "text/plain": [
              "   Rating                                            Content        Date\n",
              "0       5                                      it just works  2017-08-14\n",
              "1       4  целое удобноной приложениеиз минус хотеть боль...  2017-08-14\n",
              "2       5                                            отлично  2017-08-14\n",
              "3       5  зависать 1 работа антивирус ранее пользоваться...  2017-08-14\n",
              "4       5                             удобно работать быстро  2017-08-14"
            ]
          },
          "metadata": {
            "tags": []
          },
          "execution_count": 10
        }
      ]
    },
    {
      "cell_type": "code",
      "metadata": {
        "colab": {
          "base_uri": "https://localhost:8080/"
        },
        "id": "fFXBdmqG7XZs",
        "outputId": "b9da7207-080c-48b6-8af1-aacedbcaee87"
      },
      "source": [
        "import nltk\n",
        "nltk.download('punkt')"
      ],
      "execution_count": 11,
      "outputs": [
        {
          "output_type": "stream",
          "text": [
            "[nltk_data] Downloading package punkt to /root/nltk_data...\n",
            "[nltk_data]   Unzipping tokenizers/punkt.zip.\n"
          ],
          "name": "stdout"
        },
        {
          "output_type": "execute_result",
          "data": {
            "text/plain": [
              "True"
            ]
          },
          "metadata": {
            "tags": []
          },
          "execution_count": 11
        }
      ]
    },
    {
      "cell_type": "code",
      "metadata": {
        "colab": {
          "base_uri": "https://localhost:8080/"
        },
        "id": "gLGkwHVv7ET8",
        "outputId": "26ef77e9-907c-4625-bf69-468b8e02ee0b"
      },
      "source": [
        "unique_count_words = np.unique(np.array([len(word_tokenize(text)) for text in df['Content']]))\n",
        "\n",
        "MAX_LEN = unique_count_words.max()\n",
        "Q25_LEN = round(np.quantile(unique_count_words, 0.25))\n",
        "MEAN_LEN = round(unique_count_words.mean())\n",
        "MEDIAN_LEN = round(np.median(unique_count_words))\n",
        "Q75_LEN = round(np.quantile(unique_count_words, 0.75))\n",
        "MIN_LEN = unique_count_words.min()\n",
        "\n",
        "print(f'MAX: {MAX_LEN}' \\\n",
        "      f'\\nQUANTILE_75: {Q75_LEN}' \\\n",
        "      f'\\nMEAN: {MEAN_LEN}' \\\n",
        "      f'\\nMEDIAN: {MEDIAN_LEN}' \\\n",
        "      f'\\nQUANTILE_25: {Q25_LEN}' \\\n",
        "      f'\\nMIN: {MIN_LEN}')"
      ],
      "execution_count": 12,
      "outputs": [
        {
          "output_type": "stream",
          "text": [
            "MAX: 132\n",
            "QUANTILE_75: 55\n",
            "MEAN: 40\n",
            "MEDIAN: 36\n",
            "QUANTILE_25: 18\n",
            "MIN: 0\n"
          ],
          "name": "stdout"
        }
      ]
    },
    {
      "cell_type": "code",
      "metadata": {
        "id": "Z49DbHA16zhU"
      },
      "source": [
        "X_train, X_test, y_train, y_test = train_test_split(df['Content'], df['Rating'], test_size=0.3, shuffle=True)"
      ],
      "execution_count": 13,
      "outputs": []
    },
    {
      "cell_type": "code",
      "metadata": {
        "colab": {
          "base_uri": "https://localhost:8080/",
          "height": 35
        },
        "id": "julXjezW7eZ0",
        "outputId": "fa7722a5-c73d-4429-8a4a-c866bd735e7e"
      },
      "source": [
        "train_corpus = \" \".join(X_train)\n",
        "train_corpus = train_corpus.lower()\n",
        "train_corpus[:100]"
      ],
      "execution_count": 14,
      "outputs": [
        {
          "output_type": "execute_result",
          "data": {
            "application/vnd.google.colaboratory.intrinsic+json": {
              "type": "string"
            },
            "text/plain": [
              "'плохо ввод пин код приложение вылетать целое приложух хороший понятно раздел уведомление доступный а'"
            ]
          },
          "metadata": {
            "tags": []
          },
          "execution_count": 14
        }
      ]
    },
    {
      "cell_type": "code",
      "metadata": {
        "colab": {
          "base_uri": "https://localhost:8080/"
        },
        "id": "xIpedjUl7ec1",
        "outputId": "9fbffe73-d0ce-4f9b-b04d-ccfc38dbe729"
      },
      "source": [
        "tokens = word_tokenize(train_corpus)\n",
        "\n",
        "print(len(tokens))\n",
        "print(tokens[:5])"
      ],
      "execution_count": 15,
      "outputs": [
        {
          "output_type": "stream",
          "text": [
            "71604\n",
            "['плохо', 'ввод', 'пин', 'код', 'приложение']\n"
          ],
          "name": "stdout"
        }
      ]
    },
    {
      "cell_type": "code",
      "metadata": {
        "colab": {
          "base_uri": "https://localhost:8080/"
        },
        "id": "8-WMYYLl7ejc",
        "outputId": "69bc56af-b7d9-4599-a02f-4d76202f2ce0"
      },
      "source": [
        "tokens_filtered = [word for word in tokens if word.isalnum()]\n",
        "\n",
        "print(len(tokens_filtered))\n",
        "print(tokens_filtered[:5])"
      ],
      "execution_count": 16,
      "outputs": [
        {
          "output_type": "stream",
          "text": [
            "71101\n",
            "['плохо', 'ввод', 'пин', 'код', 'приложение']\n"
          ],
          "name": "stdout"
        }
      ]
    },
    {
      "cell_type": "code",
      "metadata": {
        "colab": {
          "base_uri": "https://localhost:8080/"
        },
        "id": "FeF6bsH-7wyM",
        "outputId": "abbba6ce-28c0-4e58-896d-4fc54f17a67a"
      },
      "source": [
        "dist = FreqDist(tokens_filtered)\n",
        "token_filtered_top = [pair[0] for pair in dist.most_common(MAX_WORDS-1)]\n",
        "token_filtered_top[:5]"
      ],
      "execution_count": 17,
      "outputs": [
        {
          "output_type": "execute_result",
          "data": {
            "text/plain": [
              "['приложение', 'удобно', 'работать', 'удобный', 'отлично']"
            ]
          },
          "metadata": {
            "tags": []
          },
          "execution_count": 17
        }
      ]
    },
    {
      "cell_type": "code",
      "metadata": {
        "id": "SQdT9jl17zM8",
        "colab": {
          "base_uri": "https://localhost:8080/"
        },
        "outputId": "f2387f61-8ce3-437b-ace0-1ad694ced5d1"
      },
      "source": [
        "vocabulary = {v: k for k, v in dict(enumerate(token_filtered_top, 1)).items()}\n",
        "vocabulary"
      ],
      "execution_count": 19,
      "outputs": [
        {
          "output_type": "execute_result",
          "data": {
            "text/plain": [
              "{'2': 83,\n",
              " '24': 194,\n",
              " '3': 108,\n",
              " '4': 154,\n",
              " '5': 74,\n",
              " 'meizu': 71,\n",
              " 'root': 63,\n",
              " 'андроид': 140,\n",
              " 'антивирус': 17,\n",
              " 'банк': 14,\n",
              " 'банкомат': 165,\n",
              " 'безопасность': 130,\n",
              " 'большой': 100,\n",
              " 'быстро': 15,\n",
              " 'быстрый': 124,\n",
              " 'ваш': 117,\n",
              " 'ввести': 161,\n",
              " 'ввод': 78,\n",
              " 'вводить': 39,\n",
              " 'вернуть': 166,\n",
              " 'версия': 69,\n",
              " 'видеть': 137,\n",
              " 'вирус': 95,\n",
              " 'возможно': 191,\n",
              " 'возможность': 54,\n",
              " 'войти': 65,\n",
              " 'вообще': 59,\n",
              " 'вход': 19,\n",
              " 'выдавать': 102,\n",
              " 'вылетать': 52,\n",
              " 'выходить': 127,\n",
              " 'главное': 157,\n",
              " 'грузиться': 145,\n",
              " 'давать': 155,\n",
              " 'дать': 153,\n",
              " 'делать': 56,\n",
              " 'дело': 135,\n",
              " 'день': 150,\n",
              " 'деньга': 33,\n",
              " 'добавить': 131,\n",
              " 'довольный': 40,\n",
              " 'долгий': 164,\n",
              " 'дом': 128,\n",
              " 'доступ': 81,\n",
              " 'доступно': 147,\n",
              " 'другой': 116,\n",
              " 'ждать': 118,\n",
              " 'зависать': 197,\n",
              " 'загружаться': 142,\n",
              " 'загрузка': 192,\n",
              " 'зайти': 48,\n",
              " 'замечательный': 141,\n",
              " 'заново': 177,\n",
              " 'запуск': 98,\n",
              " 'запускаться': 103,\n",
              " 'заходить': 61,\n",
              " 'звезда': 178,\n",
              " 'знать': 122,\n",
              " 'идти': 174,\n",
              " 'изз': 91,\n",
              " 'инициализация': 169,\n",
              " 'интернет': 87,\n",
              " 'интерфейс': 133,\n",
              " 'использование': 186,\n",
              " 'исправить': 43,\n",
              " 'история': 126,\n",
              " 'каждый': 138,\n",
              " 'какой': 85,\n",
              " 'карта': 22,\n",
              " 'класс': 62,\n",
              " 'классно': 189,\n",
              " 'классный': 160,\n",
              " 'клиент': 97,\n",
              " 'код': 44,\n",
              " 'контакт': 187,\n",
              " 'который': 167,\n",
              " 'кредит': 99,\n",
              " 'круто': 92,\n",
              " 'легко': 114,\n",
              " 'любой': 129,\n",
              " 'месяц': 112,\n",
              " 'минус': 125,\n",
              " 'минута': 183,\n",
              " 'мобильный': 49,\n",
              " 'мой': 77,\n",
              " 'молодец': 73,\n",
              " 'мочь': 12,\n",
              " 'найти': 156,\n",
              " 'настройка': 181,\n",
              " 'невозможно': 79,\n",
              " 'неплохо': 182,\n",
              " 'никакой': 115,\n",
              " 'новый': 84,\n",
              " 'номер': 75,\n",
              " 'норма': 35,\n",
              " 'нормально': 36,\n",
              " 'нормальный': 119,\n",
              " 'нравиться': 6,\n",
              " 'нужный': 70,\n",
              " 'обновление': 11,\n",
              " 'один': 82,\n",
              " 'около': 42,\n",
              " 'онлайн': 72,\n",
              " 'операция': 55,\n",
              " 'оплата': 64,\n",
              " 'оплатить': 113,\n",
              " 'оплачивать': 111,\n",
              " 'оригинальный': 136,\n",
              " 'остальной': 173,\n",
              " 'отзыв': 139,\n",
              " 'открываться': 143,\n",
              " 'отлично': 5,\n",
              " 'отличный': 9,\n",
              " 'отпечаток': 94,\n",
              " 'ошибка': 32,\n",
              " 'палец': 120,\n",
              " 'пароль': 16,\n",
              " 'первый': 88,\n",
              " 'перевести': 148,\n",
              " 'перевод': 28,\n",
              " 'переводить': 172,\n",
              " 'перестать': 96,\n",
              " 'писать': 25,\n",
              " 'платёж': 38,\n",
              " 'плохо': 105,\n",
              " 'плохой': 104,\n",
              " 'полезный': 190,\n",
              " 'полный': 80,\n",
              " 'пользователь': 199,\n",
              " 'пользоваться': 13,\n",
              " 'понравиться': 110,\n",
              " 'понятно': 53,\n",
              " 'попытка': 163,\n",
              " 'последний': 47,\n",
              " 'посмотреть': 198,\n",
              " 'постоянно': 37,\n",
              " 'право': 51,\n",
              " 'прийтись': 193,\n",
              " 'приложение': 1,\n",
              " 'приходить': 60,\n",
              " 'приходиться': 34,\n",
              " 'проблема': 24,\n",
              " 'проверка': 66,\n",
              " 'проверять': 149,\n",
              " 'прога': 185,\n",
              " 'программа': 27,\n",
              " 'пропасть': 175,\n",
              " 'просить': 93,\n",
              " 'простой': 106,\n",
              " 'прошивка': 23,\n",
              " 'работа': 67,\n",
              " 'работать': 3,\n",
              " 'раз': 21,\n",
              " 'разработчик': 29,\n",
              " 'решить': 171,\n",
              " 'рука': 107,\n",
              " 'рута': 26,\n",
              " 'самый': 89,\n",
              " 'сбер': 123,\n",
              " 'сбербанк': 18,\n",
              " 'свой': 57,\n",
              " 'связь': 146,\n",
              " 'сделать': 30,\n",
              " 'сервер': 180,\n",
              " 'сервис': 144,\n",
              " 'скачать': 152,\n",
              " 'смартфон': 162,\n",
              " 'смс': 41,\n",
              " 'сообщение': 134,\n",
              " 'сразу': 132,\n",
              " 'средство': 176,\n",
              " 'ставить': 158,\n",
              " 'стать': 46,\n",
              " 'сумма': 151,\n",
              " 'супер': 10,\n",
              " 'счёт': 31,\n",
              " 'такой': 159,\n",
              " 'телефон': 8,\n",
              " 'тормозить': 196,\n",
              " 'убрать': 121,\n",
              " 'уведомление': 86,\n",
              " 'удалить': 76,\n",
              " 'удалять': 109,\n",
              " 'удобно': 2,\n",
              " 'удобный': 4,\n",
              " 'услуга': 179,\n",
              " 'устанавливаться': 195,\n",
              " 'установить': 58,\n",
              " 'установка': 184,\n",
              " 'устраивать': 20,\n",
              " 'устройство': 101,\n",
              " 'финансы': 170,\n",
              " 'функционал': 68,\n",
              " 'функция': 45,\n",
              " 'хороший': 7,\n",
              " 'хотеть': 168,\n",
              " 'хотеться': 188,\n",
              " 'целое': 90,\n",
              " 'шаблон': 50}"
            ]
          },
          "metadata": {
            "tags": []
          },
          "execution_count": 19
        }
      ]
    },
    {
      "cell_type": "code",
      "metadata": {
        "id": "VmSROCuh7zQL"
      },
      "source": [
        "def text_to_sequence(text, maxlen):\n",
        "    result = []\n",
        "    tokens = word_tokenize(text.lower())\n",
        "    tokens_filtered = [word for word in tokens if word.isalnum()]\n",
        "    for word in tokens_filtered:\n",
        "        if word in vocabulary:\n",
        "            result.append(vocabulary[word])\n",
        "    padding = [0]*(maxlen-len(result))\n",
        "    padding = padding + result[-maxlen:]\n",
        "    return padding"
      ],
      "execution_count": 20,
      "outputs": []
    },
    {
      "cell_type": "code",
      "metadata": {
        "colab": {
          "base_uri": "https://localhost:8080/"
        },
        "id": "td7XQwTx75Wt",
        "outputId": "73c3c5cc-158e-4623-9ef8-5088519d26f0"
      },
      "source": [
        "X_train_bow = np.asarray([text_to_sequence(text, MAX_LEN) for text in X_train], dtype=np.int32)\n",
        "X_test_bow = np.asarray([text_to_sequence(text, MAX_LEN) for text in X_test], dtype=np.int32)\n",
        "\n",
        "print(X_train_bow)\n",
        "print(X_train_bow.shape)\n",
        "\n",
        "print(X_test_bow)\n",
        "print(X_test_bow.shape)"
      ],
      "execution_count": 21,
      "outputs": [
        {
          "output_type": "stream",
          "text": [
            "[[  0   0   0 ...  44   1  52]\n",
            " [  0   0   0 ...   0  90   7]\n",
            " [  0   0   0 ... 129 134  55]\n",
            " ...\n",
            " [  0   0   0 ...   0   2 189]\n",
            " [  0   0   0 ...  26  23  43]\n",
            " [  0   0   0 ...   0   0   0]]\n",
            "(14461, 132)\n",
            "[[  0   0   0 ...   5 136  23]\n",
            " [  0   0   0 ...   0   9   1]\n",
            " [  0   0   0 ...  99  49   1]\n",
            " ...\n",
            " [  0   0   0 ...   1 103  18]\n",
            " [  0   0   0 ...   0   0   2]\n",
            " [  0   0   0 ...  68  54 107]]\n",
            "(6198, 132)\n"
          ],
          "name": "stdout"
        }
      ]
    },
    {
      "cell_type": "code",
      "metadata": {
        "colab": {
          "base_uri": "https://localhost:8080/"
        },
        "id": "1FzYNRFU75Z1",
        "outputId": "f47c6f95-2d4a-4182-c6c2-a437a088f0a7"
      },
      "source": [
        "y_train_cat = utils.to_categorical(y_train, num_classes=NUM_CLASSES+1)\n",
        "y_test_cat = utils.to_categorical(y_test, num_classes=NUM_CLASSES+1)\n",
        "\n",
        "print(y_train_cat[:5])\n",
        "print(y_train_cat.shape)\n",
        "\n",
        "print(y_test_cat[:5])\n",
        "print(y_test_cat.shape)"
      ],
      "execution_count": 22,
      "outputs": [
        {
          "output_type": "stream",
          "text": [
            "[[0. 0. 0. 1. 0. 0.]\n",
            " [0. 0. 0. 0. 0. 1.]\n",
            " [0. 0. 0. 0. 1. 0.]\n",
            " [0. 0. 0. 0. 0. 1.]\n",
            " [0. 0. 0. 0. 0. 1.]]\n",
            "(14461, 6)\n",
            "[[0. 0. 1. 0. 0. 0.]\n",
            " [0. 0. 0. 0. 0. 1.]\n",
            " [0. 0. 0. 0. 0. 1.]\n",
            " [0. 0. 0. 1. 0. 0.]\n",
            " [0. 0. 0. 0. 0. 1.]]\n",
            "(6198, 6)\n"
          ],
          "name": "stdout"
        }
      ]
    },
    {
      "cell_type": "markdown",
      "metadata": {
        "id": "GPpaNJ798ZOL"
      },
      "source": [
        "### 1.Учим conv сеть для классификации"
      ]
    },
    {
      "cell_type": "code",
      "metadata": {
        "id": "3NJyvan48YR0"
      },
      "source": [
        "model = models.Sequential([\n",
        "    layers.Embedding(input_dim=MAX_WORDS, output_dim=128, input_length=MAX_LEN),\n",
        "    layers.Conv1D(filters=128, kernel_size=3),\n",
        "    layers.Activation('relu'),\n",
        "    \n",
        "    layers.GlobalMaxPool1D(),\n",
        "    layers.Dense(10),\n",
        "    layers.Activation('relu'),\n",
        "    \n",
        "    layers.Dense(NUM_CLASSES+1),\n",
        "    layers.Activation('softmax')\n",
        "])\n",
        "\n",
        "model.compile(\n",
        "    loss='categorical_crossentropy',\n",
        "    optimizer='adam',\n",
        "    metrics=['accuracy']\n",
        ")"
      ],
      "execution_count": 23,
      "outputs": []
    },
    {
      "cell_type": "code",
      "metadata": {
        "colab": {
          "base_uri": "https://localhost:8080/"
        },
        "id": "PdYXh8cq75dT",
        "outputId": "40eef05f-d8ed-4065-a50a-cbb5caa0e64c"
      },
      "source": [
        "tensorboard = callbacks.TensorBoard(log_dir='./logs', write_graph=True, write_images=True)\n",
        "early_stopping = callbacks.EarlyStopping(monitor='val_accuracy')\n",
        "\n",
        "history = model.fit(\n",
        "    X_train_bow, y_train_cat, \n",
        "    batch_size=BATCH_SIZE,\n",
        "    epochs=EPOCHS,\n",
        "    verbose=1,\n",
        "    validation_split=0.1,\n",
        "    callbacks=[tensorboard] #early_stopping вылетает на первой эпохе, проучил на 10\n",
        ")\n",
        "\n",
        "score = model.evaluate(X_test_bow, y_test_cat, batch_size=BATCH_SIZE, verbose=1)\n",
        "\n",
        "print('Test score:', score[0])\n",
        "print('Test accuracy:', score[1])"
      ],
      "execution_count": 26,
      "outputs": [
        {
          "output_type": "stream",
          "text": [
            "Epoch 1/10\n",
            "204/204 [==============================] - 10s 49ms/step - loss: 0.6673 - accuracy: 0.7722 - val_loss: 0.6662 - val_accuracy: 0.7768\n",
            "Epoch 2/10\n",
            "204/204 [==============================] - 10s 49ms/step - loss: 0.6381 - accuracy: 0.7802 - val_loss: 0.6606 - val_accuracy: 0.7782\n",
            "Epoch 3/10\n",
            "204/204 [==============================] - 10s 48ms/step - loss: 0.6225 - accuracy: 0.7820 - val_loss: 0.6564 - val_accuracy: 0.7823\n",
            "Epoch 4/10\n",
            "204/204 [==============================] - 10s 48ms/step - loss: 0.6080 - accuracy: 0.7881 - val_loss: 0.6688 - val_accuracy: 0.7816\n",
            "Epoch 5/10\n",
            "204/204 [==============================] - 10s 48ms/step - loss: 0.5935 - accuracy: 0.7908 - val_loss: 0.6713 - val_accuracy: 0.7816\n",
            "Epoch 6/10\n",
            "204/204 [==============================] - 10s 48ms/step - loss: 0.5783 - accuracy: 0.7996 - val_loss: 0.6814 - val_accuracy: 0.7754\n",
            "Epoch 7/10\n",
            "204/204 [==============================] - 10s 48ms/step - loss: 0.5596 - accuracy: 0.8050 - val_loss: 0.6815 - val_accuracy: 0.7713\n",
            "Epoch 8/10\n",
            "204/204 [==============================] - 10s 48ms/step - loss: 0.5424 - accuracy: 0.8135 - val_loss: 0.6881 - val_accuracy: 0.7740\n",
            "Epoch 9/10\n",
            "204/204 [==============================] - 10s 48ms/step - loss: 0.5245 - accuracy: 0.8210 - val_loss: 0.7037 - val_accuracy: 0.7588\n",
            "Epoch 10/10\n",
            "204/204 [==============================] - 10s 48ms/step - loss: 0.5039 - accuracy: 0.8316 - val_loss: 0.7304 - val_accuracy: 0.7719\n",
            "97/97 [==============================] - 1s 12ms/step - loss: 0.7517 - accuracy: 0.7565\n",
            "Test score: 0.7516727447509766\n",
            "Test accuracy: 0.7565343379974365\n"
          ],
          "name": "stdout"
        }
      ]
    },
    {
      "cell_type": "code",
      "metadata": {
        "colab": {
          "base_uri": "https://localhost:8080/",
          "height": 282
        },
        "id": "qhJhsLZQaIS1",
        "outputId": "123e27a8-2296-4db2-aa0f-8f2caf9f1897"
      },
      "source": [
        "pd.DataFrame(history.history).plot()"
      ],
      "execution_count": 27,
      "outputs": [
        {
          "output_type": "execute_result",
          "data": {
            "text/plain": [
              "<matplotlib.axes._subplots.AxesSubplot at 0x7f1b3d6cead0>"
            ]
          },
          "metadata": {
            "tags": []
          },
          "execution_count": 27
        },
        {
          "output_type": "display_data",
          "data": {
            "image/png": "[encoded data removed]",
            "text/plain": [
              "<Figure size 432x288 with 1 Axes>"
            ]
          },
          "metadata": {
            "tags": [],
            "needs_background": "light"
          }
        }
      ]
    },
    {
      "cell_type": "code",
      "metadata": {
        "colab": {
          "base_uri": "https://localhost:8080/",
          "height": 537
        },
        "id": "0ffvTfaL7w4T",
        "outputId": "fe5e0d4c-30f3-4b7c-ceb7-4b73ba74cc33"
      },
      "source": [
        "y_pred = model.predict(X_test_bow, batch_size=BATCH_SIZE, verbose=1)\n",
        "y_pred = pd.Series(y_pred.argmax(axis=1))\n",
        "\n",
        "result = pd.DataFrame({'idx': y_test.index, 'y_test': y_test.values, 'y_pred': y_pred.values}).set_index('idx')\n",
        "print(result)\n",
        "\n",
        "plt.bar(result['y_pred'].value_counts().index, result['y_pred'].value_counts().values, color='blue', label='pred')\n",
        "plt.bar(result['y_test'].value_counts().index, result['y_test'].value_counts().values, alpha=0.5, color='red', label='true')\n",
        "plt.legend()\n",
        "plt.show()"
      ],
      "execution_count": 40,
      "outputs": [
        {
          "output_type": "stream",
          "text": [
            "97/97 [==============================] - 1s 11ms/step\n",
            "       y_test  y_pred\n",
            "idx                  \n",
            "3566        2       1\n",
            "1041        5       5\n",
            "19546       5       4\n",
            "3107        3       5\n",
            "5173        5       5\n",
            "...       ...     ...\n",
            "8548        3       1\n",
            "10792       5       5\n",
            "19171       1       4\n",
            "11365       5       5\n",
            "7039        5       5\n",
            "\n",
            "[6198 rows x 2 columns]\n"
          ],
          "name": "stdout"
        },
        {
          "output_type": "display_data",
          "data": {
            "image/png": "[encoded data removed]",
            "text/plain": [
              "<Figure size 432x288 with 1 Axes>"
            ]
          },
          "metadata": {
            "tags": [],
            "needs_background": "light"
          }
        }
      ]
    },
    {
      "cell_type": "markdown",
      "metadata": {
        "id": "tqyfsATx866q"
      },
      "source": [
        "\n",
        "Вывод  \n",
        "Видно, что сложнее всего моделе предсказывать средние оценки (2, 3, 4), возможно из-за того, что люди склонны ставить крайние значения, поэтому о них больше данных  \n",
        "начиная с 3й похи наблюдается переобучение, по этой причине ранняя остановке прекратила обучение модели  "
      ]
    },
    {
      "cell_type": "markdown",
      "metadata": {
        "id": "qoDRGe_u-j_J"
      },
      "source": [
        "### 2. Предобученный word2vec и его эмбедингами инициализируем сетку, как влияет на качество?"
      ]
    },
    {
      "cell_type": "code",
      "metadata": {
        "colab": {
          "base_uri": "https://localhost:8080/"
        },
        "id": "v3ESTFxX7w6r",
        "outputId": "47628816-e05f-4981-e403-191d8b22e7a3"
      },
      "source": [
        "import gensim.downloader as api\n",
        "api.info()['models'].keys()"
      ],
      "execution_count": 29,
      "outputs": [
        {
          "output_type": "execute_result",
          "data": {
            "text/plain": [
              "dict_keys(['fasttext-wiki-news-subwords-300', 'conceptnet-numberbatch-17-06-300', 'word2vec-ruscorpora-300', 'word2vec-google-news-300', 'glove-wiki-gigaword-50', 'glove-wiki-gigaword-100', 'glove-wiki-gigaword-200', 'glove-wiki-gigaword-300', 'glove-twitter-25', 'glove-twitter-50', 'glove-twitter-100', 'glove-twitter-200', '__testing_word2vec-matrix-synopsis'])"
            ]
          },
          "metadata": {
            "tags": []
          },
          "execution_count": 29
        }
      ]
    },
    {
      "cell_type": "code",
      "metadata": {
        "colab": {
          "base_uri": "https://localhost:8080/"
        },
        "id": "sk2kyz4H-z0e",
        "outputId": "c7ab36d7-8538-47fb-acb8-c433db3bfa82"
      },
      "source": [
        "wv = api.load('glove-twitter-25')"
      ],
      "execution_count": 30,
      "outputs": [
        {
          "output_type": "stream",
          "text": [
            "[==================================================] 100.0% 104.8/104.8MB downloaded\n"
          ],
          "name": "stdout"
        }
      ]
    },
    {
      "cell_type": "code",
      "metadata": {
        "id": "d_IFMyph_HZ-"
      },
      "source": [
        "def text_to_wv(text, maxlen):\n",
        "    result = []\n",
        "    words = word_tokenize(text.lower())\n",
        "    words = [word for word in words if word.isalnum()]\n",
        "    for w in words:\n",
        "        if w in wv:\n",
        "            result.append(list(wv[w]))\n",
        "    padding = [[0]*25]*(maxlen-len(result))\n",
        "    result = padding + result[-maxlen:]\n",
        "    return result"
      ],
      "execution_count": 31,
      "outputs": []
    },
    {
      "cell_type": "code",
      "metadata": {
        "colab": {
          "base_uri": "https://localhost:8080/"
        },
        "id": "JYhtSIdz_R8r",
        "outputId": "09b6adb2-520a-4238-9269-1a80cad114e4"
      },
      "source": [
        "X_train_wv = np.array([text_to_wv(text, MAX_LEN) for text in X_train])\n",
        "X_test_wv = np.array([text_to_wv(text, MAX_LEN) for text in X_test])\n",
        "\n",
        "print(X_train_wv.shape)\n",
        "print(X_test_wv.shape)"
      ],
      "execution_count": 32,
      "outputs": [
        {
          "output_type": "stream",
          "text": [
            "(14461, 132, 25)\n",
            "(6198, 132, 25)\n"
          ],
          "name": "stdout"
        }
      ]
    },
    {
      "cell_type": "code",
      "metadata": {
        "id": "HU-vnycQ_R_j"
      },
      "source": [
        "model = models.Sequential([\n",
        "    layers.Conv1D(filters=128, kernel_size=3),\n",
        "    layers.Activation('relu'),\n",
        "    \n",
        "    layers.GlobalMaxPool1D(),\n",
        "    layers.Dense(10),\n",
        "    layers.Activation('relu'),\n",
        "    \n",
        "    layers.Dense(NUM_CLASSES+1),\n",
        "    layers.Activation('softmax')\n",
        "])\n",
        "\n",
        "model.compile(\n",
        "    loss='categorical_crossentropy',\n",
        "    optimizer='adam',\n",
        "    metrics=['accuracy']\n",
        ")"
      ],
      "execution_count": 33,
      "outputs": []
    },
    {
      "cell_type": "code",
      "metadata": {
        "colab": {
          "base_uri": "https://localhost:8080/"
        },
        "id": "p4B7wd_G_SDC",
        "outputId": "5a25084f-943a-45d6-d3c6-33e29dcc231c"
      },
      "source": [
        "tensorboard = callbacks.TensorBoard(log_dir='./logs', write_graph=True, write_images=True)\n",
        "early_stopping = callbacks.EarlyStopping(monitor='val_loss')\n",
        "\n",
        "history = model.fit(\n",
        "    X_train_wv, y_train_cat, \n",
        "    batch_size=BATCH_SIZE,\n",
        "    epochs=EPOCHS,\n",
        "    verbose=1,\n",
        "    validation_split=0.1,\n",
        "    callbacks=[tensorboard] #early_stopping вылетает на первой эпохе, проучил на 10\n",
        ")\n",
        "\n",
        "score = model.evaluate(X_test_wv, y_test_cat, batch_size=BATCH_SIZE, verbose=1)\n",
        "\n",
        "print('Test score:', score[0])\n",
        "print('Test accuracy:', score[1])"
      ],
      "execution_count": 34,
      "outputs": [
        {
          "output_type": "stream",
          "text": [
            "Epoch 1/10\n",
            "204/204 [==============================] - 4s 17ms/step - loss: 0.9629 - accuracy: 0.7083 - val_loss: 0.7760 - val_accuracy: 0.7574\n",
            "Epoch 2/10\n",
            "204/204 [==============================] - 3s 16ms/step - loss: 0.7408 - accuracy: 0.7521 - val_loss: 0.7200 - val_accuracy: 0.7623\n",
            "Epoch 3/10\n",
            "204/204 [==============================] - 3s 16ms/step - loss: 0.6938 - accuracy: 0.7592 - val_loss: 0.6971 - val_accuracy: 0.7713\n",
            "Epoch 4/10\n",
            "204/204 [==============================] - 3s 16ms/step - loss: 0.6706 - accuracy: 0.7679 - val_loss: 0.6897 - val_accuracy: 0.7706\n",
            "Epoch 5/10\n",
            "204/204 [==============================] - 3s 16ms/step - loss: 0.6538 - accuracy: 0.7722 - val_loss: 0.6850 - val_accuracy: 0.7692\n",
            "Epoch 6/10\n",
            "204/204 [==============================] - 3s 16ms/step - loss: 0.6356 - accuracy: 0.7774 - val_loss: 0.6795 - val_accuracy: 0.7678\n",
            "Epoch 7/10\n",
            "204/204 [==============================] - 3s 16ms/step - loss: 0.6191 - accuracy: 0.7809 - val_loss: 0.6838 - val_accuracy: 0.7671\n",
            "Epoch 8/10\n",
            "204/204 [==============================] - 3s 16ms/step - loss: 0.6049 - accuracy: 0.7887 - val_loss: 0.6800 - val_accuracy: 0.7685\n",
            "Epoch 9/10\n",
            "204/204 [==============================] - 3s 16ms/step - loss: 0.5904 - accuracy: 0.7960 - val_loss: 0.6908 - val_accuracy: 0.7664\n",
            "Epoch 10/10\n",
            "204/204 [==============================] - 3s 16ms/step - loss: 0.5765 - accuracy: 0.7977 - val_loss: 0.7138 - val_accuracy: 0.7616\n",
            "97/97 [==============================] - 0s 5ms/step - loss: 0.7331 - accuracy: 0.7428\n",
            "Test score: 0.7330886721611023\n",
            "Test accuracy: 0.7428202629089355\n"
          ],
          "name": "stdout"
        }
      ]
    },
    {
      "cell_type": "code",
      "metadata": {
        "colab": {
          "base_uri": "https://localhost:8080/",
          "height": 282
        },
        "id": "gMVDqPYJaNDb",
        "outputId": "66671847-1239-4322-81ed-ccc262ccc726"
      },
      "source": [
        "pd.DataFrame(history.history).plot()"
      ],
      "execution_count": 35,
      "outputs": [
        {
          "output_type": "execute_result",
          "data": {
            "text/plain": [
              "<matplotlib.axes._subplots.AxesSubplot at 0x7f1b1af607d0>"
            ]
          },
          "metadata": {
            "tags": []
          },
          "execution_count": 35
        },
        {
          "output_type": "display_data",
          "data": {
            "image/png": "[encoded data removed]",
            "text/plain": [
              "<Figure size 432x288 with 1 Axes>"
            ]
          },
          "metadata": {
            "tags": [],
            "needs_background": "light"
          }
        }
      ]
    },
    {
      "cell_type": "code",
      "metadata": {
        "colab": {
          "base_uri": "https://localhost:8080/",
          "height": 537
        },
        "id": "1oGvrnEy_fOb",
        "outputId": "1b049cd7-fa16-4bb9-af9c-ce0bcdd5151b"
      },
      "source": [
        "y_pred = model.predict(X_test_wv, batch_size=BATCH_SIZE, verbose=1)\n",
        "y_pred = pd.Series(y_pred.argmax(axis=1))\n",
        "\n",
        "result = pd.DataFrame({'idx': y_test.index, 'y_test': y_test.values, 'y_pred': y_pred.values}).set_index('idx')\n",
        "print(result)\n",
        "\n",
        "plt.bar(result['y_pred'].value_counts().index, result['y_pred'].value_counts().values, color='black', label='pred')\n",
        "plt.bar(result['y_test'].value_counts().index, result['y_test'].value_counts().values, alpha=0.5, color='red', label='true')\n",
        "plt.legend()\n",
        "plt.show()"
      ],
      "execution_count": 36,
      "outputs": [
        {
          "output_type": "stream",
          "text": [
            "97/97 [==============================] - 0s 4ms/step\n",
            "       y_test  y_pred\n",
            "idx                  \n",
            "3566        2       1\n",
            "1041        5       5\n",
            "19546       5       5\n",
            "3107        3       5\n",
            "5173        5       5\n",
            "...       ...     ...\n",
            "8548        3       5\n",
            "10792       5       5\n",
            "19171       1       5\n",
            "11365       5       5\n",
            "7039        5       5\n",
            "\n",
            "[6198 rows x 2 columns]\n"
          ],
          "name": "stdout"
        },
        {
          "output_type": "display_data",
          "data": {
            "image/png": "[encoded data removed]",
            "text/plain": [
              "<Figure size 432x288 with 1 Axes>"
            ]
          },
          "metadata": {
            "tags": [],
            "needs_background": "light"
          }
        }
      ]
    },
    {
      "cell_type": "markdown",
      "metadata": {
        "id": "JIIL0LG38q1L"
      },
      "source": [
        "\n",
        "Вывод:  \n",
        "word2vec позволил продолжить обучение дольше чем при кастомной векторизации предложений  \n",
        "при этом точность модели в итоге стала ниже  "
      ]
    },
    {
      "cell_type": "code",
      "metadata": {
        "id": "q3s2zQUcYnWz"
      },
      "source": [
        "df_score = pd.DataFrame(columns=['aggr']).set_index('aggr')"
      ],
      "execution_count": 37,
      "outputs": []
    },
    {
      "cell_type": "code",
      "metadata": {
        "colab": {
          "base_uri": "https://localhost:8080/"
        },
        "id": "XDkh0FFtYnbQ",
        "outputId": "dd739f97-9053-4de8-c3d4-5c84c2322a7a"
      },
      "source": [
        "for key, val in {'q25': Q25_LEN, 'mean': MEAN_LEN, 'median': MEDIAN_LEN, 'q75': Q75_LEN, 'max': MAX_LEN}.items():\n",
        "    \n",
        "    display.clear_output(wait=False)\n",
        "    \n",
        "    model = models.Sequential([\n",
        "        layers.Embedding(input_dim=MAX_WORDS, output_dim=128, input_length=val),\n",
        "        layers.Conv1D(filters=128, kernel_size=3),\n",
        "        layers.Activation('relu'),\n",
        "\n",
        "        layers.GlobalMaxPool1D(),\n",
        "        layers.Dense(10),\n",
        "        layers.Activation('relu'),\n",
        "\n",
        "        layers.Dense(NUM_CLASSES+1),\n",
        "        layers.Activation('softmax')\n",
        "    ])\n",
        "\n",
        "    model.compile(\n",
        "        loss='categorical_crossentropy',\n",
        "        optimizer='adam',\n",
        "        metrics=['accuracy']\n",
        "    )\n",
        "    \n",
        "    tensorboard = callbacks.TensorBoard(log_dir='./logs', write_graph=True, write_images=True)\n",
        "    early_stopping = callbacks.EarlyStopping(monitor='val_loss')\n",
        "\n",
        "    history = model.fit(\n",
        "        X_train_bow, y_train_cat, \n",
        "        batch_size=5,\n",
        "        epochs=5,\n",
        "        verbose=1,\n",
        "        validation_split=0.1,\n",
        "        callbacks=[tensorboard] #вылетает на early_stopping проучил на 5 эпохах\n",
        "    )\n",
        "\n",
        "    score = model.evaluate(X_test_bow, y_test_cat, batch_size=BATCH_SIZE, verbose=1)\n",
        "\n",
        "    df_score.loc['aggr', key] = score[1]"
      ],
      "execution_count": 38,
      "outputs": [
        {
          "output_type": "stream",
          "text": [
            "Epoch 1/5\n",
            "2603/2603 [==============================] - 18s 7ms/step - loss: 0.7560 - accuracy: 0.7547 - val_loss: 0.7140 - val_accuracy: 0.7713\n",
            "Epoch 2/5\n",
            "2603/2603 [==============================] - 18s 7ms/step - loss: 0.6828 - accuracy: 0.7676 - val_loss: 0.6670 - val_accuracy: 0.7713\n",
            "Epoch 3/5\n",
            "2603/2603 [==============================] - 18s 7ms/step - loss: 0.6598 - accuracy: 0.7721 - val_loss: 0.6770 - val_accuracy: 0.7761\n",
            "Epoch 4/5\n",
            "2603/2603 [==============================] - 18s 7ms/step - loss: 0.6456 - accuracy: 0.7811 - val_loss: 0.6673 - val_accuracy: 0.7726\n",
            "Epoch 5/5\n",
            "2603/2603 [==============================] - 18s 7ms/step - loss: 0.6319 - accuracy: 0.7841 - val_loss: 0.6669 - val_accuracy: 0.7782\n",
            "97/97 [==============================] - 1s 11ms/step - loss: 0.6802 - accuracy: 0.7631\n"
          ],
          "name": "stdout"
        }
      ]
    },
    {
      "cell_type": "code",
      "metadata": {
        "colab": {
          "base_uri": "https://localhost:8080/",
          "height": 111
        },
        "id": "ApSMP3gfYn7e",
        "outputId": "8fecff54-6c46-464d-a42a-d3b4e6130d1f"
      },
      "source": [
        "df_score"
      ],
      "execution_count": 39,
      "outputs": [
        {
          "output_type": "execute_result",
          "data": {
            "text/html": [
              "<div>\n",
              "<style scoped>\n",
              "    .dataframe tbody tr th:only-of-type {\n",
              "        vertical-align: middle;\n",
              "    }\n",
              "\n",
              "    .dataframe tbody tr th {\n",
              "        vertical-align: top;\n",
              "    }\n",
              "\n",
              "    .dataframe thead th {\n",
              "        text-align: right;\n",
              "    }\n",
              "</style>\n",
              "<table border=\"1\" class=\"dataframe\">\n",
              "  <thead>\n",
              "    <tr style=\"text-align: right;\">\n",
              "      <th></th>\n",
              "      <th>q25</th>\n",
              "      <th>mean</th>\n",
              "      <th>median</th>\n",
              "      <th>q75</th>\n",
              "      <th>max</th>\n",
              "    </tr>\n",
              "    <tr>\n",
              "      <th>aggr</th>\n",
              "      <th></th>\n",
              "      <th></th>\n",
              "      <th></th>\n",
              "      <th></th>\n",
              "      <th></th>\n",
              "    </tr>\n",
              "  </thead>\n",
              "  <tbody>\n",
              "    <tr>\n",
              "      <th>aggr</th>\n",
              "      <td>0.761213</td>\n",
              "      <td>0.761052</td>\n",
              "      <td>0.745402</td>\n",
              "      <td>0.756212</td>\n",
              "      <td>0.763149</td>\n",
              "    </tr>\n",
              "  </tbody>\n",
              "</table>\n",
              "</div>"
            ],
            "text/plain": [
              "           q25      mean    median       q75       max\n",
              "aggr                                                  \n",
              "aggr  0.761213  0.761052  0.745402  0.756212  0.763149"
            ]
          },
          "metadata": {
            "tags": []
          },
          "execution_count": 39
        }
      ]
    },
    {
      "cell_type": "markdown",
      "metadata": {
        "id": "0M5SGzxx2AKF"
      },
      "source": [
        "\n",
        "Вывод:\n",
        "число слов в эмбендине практически не повлиятона на точность модели"
      ]
    },
    {
      "cell_type": "markdown",
      "metadata": {
        "id": "XB2eUchP4xGy"
      },
      "source": [
        "+1 Conv"
      ]
    },
    {
      "cell_type": "code",
      "metadata": {
        "colab": {
          "base_uri": "https://localhost:8080/",
          "height": 639
        },
        "id": "_KiV2Zct4y2R",
        "outputId": "aa9a9df1-be7e-45e8-a7fb-9d0683454814"
      },
      "source": [
        "model = models.Sequential([\n",
        "    layers.Embedding(input_dim=MAX_WORDS, output_dim=128, input_length=MAX_LEN),\n",
        "    \n",
        "    layers.Conv1D(filters=128, kernel_size=5),\n",
        "    layers.Activation('relu'),\n",
        "    \n",
        "    layers.Conv1D(filters=128, kernel_size=3),\n",
        "    layers.Activation('relu'),\n",
        "    \n",
        "    layers.GlobalMaxPool1D(),\n",
        "    \n",
        "    layers.Dense(10),\n",
        "    layers.Activation('relu'),\n",
        "\n",
        "    layers.Dense(NUM_CLASSES+1),\n",
        "    layers.Activation('softmax')\n",
        "])\n",
        "\n",
        "model.compile(\n",
        "    loss='categorical_crossentropy',\n",
        "    optimizer='adam',\n",
        "    metrics=['accuracy']\n",
        ")\n",
        "\n",
        "tensorboard = callbacks.TensorBoard(log_dir='./logs', write_graph=True, write_images=True)\n",
        "early_stopping = callbacks.EarlyStopping(monitor='val_loss')\n",
        "\n",
        "history = model.fit(\n",
        "    X_train_bow, y_train_cat, \n",
        "    batch_size=BATCH_SIZE,\n",
        "    epochs=EPOCHS,\n",
        "    verbose=1,\n",
        "    validation_split=0.1,\n",
        "    callbacks=[tensorboard]\n",
        ")\n",
        "\n",
        "score = model.evaluate(X_test_bow, y_test_cat, batch_size=BATCH_SIZE, verbose=1)\n",
        "\n",
        "pd.DataFrame(history.history).plot()"
      ],
      "execution_count": 42,
      "outputs": [
        {
          "output_type": "stream",
          "text": [
            "Epoch 1/10\n",
            "204/204 [==============================] - 26s 123ms/step - loss: 0.8633 - accuracy: 0.7293 - val_loss: 0.6937 - val_accuracy: 0.7609\n",
            "Epoch 2/10\n",
            "204/204 [==============================] - 25s 121ms/step - loss: 0.6798 - accuracy: 0.7679 - val_loss: 0.6705 - val_accuracy: 0.7726\n",
            "Epoch 3/10\n",
            "204/204 [==============================] - 25s 121ms/step - loss: 0.6590 - accuracy: 0.7744 - val_loss: 0.6670 - val_accuracy: 0.7747\n",
            "Epoch 4/10\n",
            "204/204 [==============================] - 25s 122ms/step - loss: 0.6428 - accuracy: 0.7792 - val_loss: 0.6598 - val_accuracy: 0.7768\n",
            "Epoch 5/10\n",
            "204/204 [==============================] - 25s 122ms/step - loss: 0.6332 - accuracy: 0.7815 - val_loss: 0.6678 - val_accuracy: 0.7768\n",
            "Epoch 6/10\n",
            "204/204 [==============================] - 25s 122ms/step - loss: 0.6181 - accuracy: 0.7874 - val_loss: 0.6722 - val_accuracy: 0.7733\n",
            "Epoch 7/10\n",
            "204/204 [==============================] - 25s 122ms/step - loss: 0.6049 - accuracy: 0.7910 - val_loss: 0.6822 - val_accuracy: 0.7809\n",
            "Epoch 8/10\n",
            "204/204 [==============================] - 25s 121ms/step - loss: 0.5904 - accuracy: 0.7967 - val_loss: 0.6867 - val_accuracy: 0.7664\n",
            "Epoch 9/10\n",
            "204/204 [==============================] - 25s 121ms/step - loss: 0.5749 - accuracy: 0.8049 - val_loss: 0.7007 - val_accuracy: 0.7650\n",
            "Epoch 10/10\n",
            "204/204 [==============================] - 25s 121ms/step - loss: 0.5571 - accuracy: 0.8117 - val_loss: 0.7012 - val_accuracy: 0.7733\n",
            "97/97 [==============================] - 2s 26ms/step - loss: 0.7329 - accuracy: 0.7538\n"
          ],
          "name": "stdout"
        },
        {
          "output_type": "execute_result",
          "data": {
            "text/plain": [
              "<matplotlib.axes._subplots.AxesSubplot at 0x7f1b16afa8d0>"
            ]
          },
          "metadata": {
            "tags": []
          },
          "execution_count": 42
        },
        {
          "output_type": "display_data",
          "data": {
            "image/png": "[encoded data removed]",
            "text/plain": [
              "<Figure size 432x288 with 1 Axes>"
            ]
          },
          "metadata": {
            "tags": [],
            "needs_background": "light"
          }
        }
      ]
    },
    {
      "cell_type": "markdown",
      "metadata": {
        "id": "9e4rJDSM8e6L"
      },
      "source": [
        "\n",
        "Вывод:\n",
        "скорость обучения упала"
      ]
    },
    {
      "cell_type": "markdown",
      "metadata": {
        "id": "jg1q3-pO6RZD"
      },
      "source": [
        "Dense out"
      ]
    },
    {
      "cell_type": "code",
      "metadata": {
        "colab": {
          "base_uri": "https://localhost:8080/",
          "height": 639
        },
        "id": "_ldgjOwt4y5J",
        "outputId": "0bb9f208-eb83-44eb-c88b-4dc1a8eefe14"
      },
      "source": [
        "model = models.Sequential([\n",
        "    layers.Embedding(input_dim=MAX_WORDS, output_dim=128, input_length=MAX_LEN),\n",
        "    \n",
        "    layers.Conv1D(filters=128, kernel_size=5),\n",
        "    layers.Activation('relu'),\n",
        "    \n",
        "    layers.Conv1D(filters=128, kernel_size=3),\n",
        "    layers.Activation('relu'),\n",
        "    \n",
        "    layers.GlobalMaxPool1D(),\n",
        "    \n",
        "    layers.Activation('relu'),\n",
        "\n",
        "    layers.Dense(NUM_CLASSES+1),\n",
        "    layers.Activation('softmax')\n",
        "])\n",
        "\n",
        "model.compile(\n",
        "    loss='categorical_crossentropy',\n",
        "    optimizer='adam',\n",
        "    metrics=['accuracy']\n",
        ")\n",
        "\n",
        "tensorboard = callbacks.TensorBoard(log_dir='./logs', write_graph=True, write_images=True)\n",
        "early_stopping = callbacks.EarlyStopping(monitor='val_loss')\n",
        "\n",
        "history = model.fit(\n",
        "    X_train_bow, y_train_cat, \n",
        "    batch_size=BATCH_SIZE,\n",
        "    epochs=EPOCHS,\n",
        "    verbose=1,\n",
        "    validation_split=0.1,\n",
        "    callbacks=[tensorboard]\n",
        ")\n",
        "\n",
        "score = model.evaluate(X_test_bow, y_test_cat, batch_size=BATCH_SIZE, verbose=1)\n",
        "\n",
        "pd.DataFrame(history.history).plot()"
      ],
      "execution_count": 44,
      "outputs": [
        {
          "output_type": "stream",
          "text": [
            "Epoch 1/10\n",
            "204/204 [==============================] - 26s 123ms/step - loss: 0.8033 - accuracy: 0.7437 - val_loss: 0.6899 - val_accuracy: 0.7630\n",
            "Epoch 2/10\n",
            "204/204 [==============================] - 25s 122ms/step - loss: 0.6715 - accuracy: 0.7699 - val_loss: 0.6625 - val_accuracy: 0.7733\n",
            "Epoch 3/10\n",
            "204/204 [==============================] - 25s 122ms/step - loss: 0.6471 - accuracy: 0.7765 - val_loss: 0.6654 - val_accuracy: 0.7768\n",
            "Epoch 4/10\n",
            "204/204 [==============================] - 25s 122ms/step - loss: 0.6293 - accuracy: 0.7845 - val_loss: 0.6584 - val_accuracy: 0.7789\n",
            "Epoch 5/10\n",
            "204/204 [==============================] - 25s 121ms/step - loss: 0.6138 - accuracy: 0.7879 - val_loss: 0.6718 - val_accuracy: 0.7747\n",
            "Epoch 6/10\n",
            "204/204 [==============================] - 25s 122ms/step - loss: 0.5924 - accuracy: 0.7981 - val_loss: 0.6802 - val_accuracy: 0.7740\n",
            "Epoch 7/10\n",
            "204/204 [==============================] - 25s 121ms/step - loss: 0.5714 - accuracy: 0.8065 - val_loss: 0.6930 - val_accuracy: 0.7740\n",
            "Epoch 8/10\n",
            "204/204 [==============================] - 25s 121ms/step - loss: 0.5443 - accuracy: 0.8148 - val_loss: 0.7005 - val_accuracy: 0.7706\n",
            "Epoch 9/10\n",
            "204/204 [==============================] - 25s 121ms/step - loss: 0.5180 - accuracy: 0.8306 - val_loss: 0.7550 - val_accuracy: 0.7685\n",
            "Epoch 10/10\n",
            "204/204 [==============================] - 25s 122ms/step - loss: 0.4928 - accuracy: 0.8402 - val_loss: 0.7527 - val_accuracy: 0.7554\n",
            "97/97 [==============================] - 2s 26ms/step - loss: 0.7857 - accuracy: 0.7477\n"
          ],
          "name": "stdout"
        },
        {
          "output_type": "execute_result",
          "data": {
            "text/plain": [
              "<matplotlib.axes._subplots.AxesSubplot at 0x7f1b0bd78890>"
            ]
          },
          "metadata": {
            "tags": []
          },
          "execution_count": 44
        },
        {
          "output_type": "display_data",
          "data": {
            "image/png": "[encoded data removed]",
            "text/plain": [
              "<Figure size 432x288 with 1 Axes>"
            ]
          },
          "metadata": {
            "tags": [],
            "needs_background": "light"
          }
        }
      ]
    },
    {
      "cell_type": "markdown",
      "metadata": {
        "id": "OXWpwbzs6kXo"
      },
      "source": [
        "\n",
        "Вывод:\n",
        "без полносвязного слоя переобучение наступило раньше"
      ]
    }
  ]
}